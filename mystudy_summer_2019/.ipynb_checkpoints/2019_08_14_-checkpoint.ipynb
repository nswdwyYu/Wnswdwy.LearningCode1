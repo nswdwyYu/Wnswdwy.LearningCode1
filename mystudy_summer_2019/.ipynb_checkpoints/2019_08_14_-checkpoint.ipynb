{
 "cells": [
  {
   "cell_type": "markdown",
   "metadata": {
    "ExecuteTime": {
     "end_time": "2019-08-14T10:35:40.569556Z",
     "start_time": "2019-08-14T10:35:37.492516Z"
    }
   },
   "source": [
    "## __淘宝抓取图片__"
   ]
  },
  {
   "cell_type": "code",
   "execution_count": 19,
   "metadata": {
    "ExecuteTime": {
     "end_time": "2019-08-14T10:36:39.690979Z",
     "start_time": "2019-08-14T10:36:30.334032Z"
    }
   },
   "outputs": [],
   "source": [
    "import urllib.request\n",
    "import re\n",
    "keyname = \"短裙\"\n",
    "key = urllib.request.quote(keyname)\n",
    "headers = (\"User-Agent\",\":Mozilla/5.0 (Windows NT 10.0; WOW64) AppleWebKit/537.36 (KHTML, like Gecko) Chrome/70.0.3538.25 Safari/537.36 Core/1.70.3722.400 QQBrowser/10.5.3738.400\")\n",
    "opener = urllib.request.build_opener()\n",
    "opener.addheaders = [headers]\n",
    "urllib.request.install_opener(opener)\n",
    "for i in range(0,5):\n",
    "    url = \"https://s.taobao.com/search?q=\"+key+\"&imgfile=&commend=all&ssid=s5-e&search_type=item&sourceId=tb.index&spm=a21bo.2017.201856-taobao-item.1&ie=utf8&initiative_id=tbindexz_20170306&bcoffset=3&ntoffset=3&p4ppushleft=1%2C48&s=\"+str(i)\n",
    "    urllib.request.urlopen(url).read().decode(\"utf-8\",\"ignore\")\n",
    "    pate = 'data-src=\"//(.*?)\"'\n",
    "    imglist = re.compile(pate).findall(data)\n",
    "    for j in range(0,len(imglist)):\n",
    "        this_img = imglist[j]\n",
    "        this_img_url = \"http://\"+this_img\n",
    "        file = \"F:/Python_All/Python_Practice_File/taobao_img/\"+str(i)+str(j)+\".jpg\"\n",
    "        urllib.request.urlretrieve(this_img_url,filename=file)\n",
    "        \n",
    "    "
   ]
  },
  {
   "cell_type": "code",
   "execution_count": null,
   "metadata": {},
   "outputs": [],
   "source": []
  }
 ],
 "metadata": {
  "kernelspec": {
   "display_name": "Python 3",
   "language": "python",
   "name": "python3"
  },
  "language_info": {
   "codemirror_mode": {
    "name": "ipython",
    "version": 3
   },
   "file_extension": ".py",
   "mimetype": "text/x-python",
   "name": "python",
   "nbconvert_exporter": "python",
   "pygments_lexer": "ipython3",
   "version": "3.6.4"
  }
 },
 "nbformat": 4,
 "nbformat_minor": 2
}
