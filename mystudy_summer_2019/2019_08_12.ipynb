{
 "cells": [
  {
   "cell_type": "markdown",
   "metadata": {
    "ExecuteTime": {
     "end_time": "2019-08-12T07:57:09.465593Z",
     "start_time": "2019-08-12T07:57:09.456587Z"
    }
   },
   "source": [
    "## 异常小测试"
   ]
  },
  {
   "cell_type": "code",
   "execution_count": 1,
   "metadata": {
    "ExecuteTime": {
     "end_time": "2019-08-12T12:09:22.866436Z",
     "start_time": "2019-08-12T12:09:22.841419Z"
    }
   },
   "outputs": [
    {
     "name": "stdout",
     "output_type": "stream",
     "text": [
      "ME\n",
      "name 'pritne' is not defined\n",
      "its erro\n"
     ]
    }
   ],
   "source": [
    "try:\n",
    "    print('ME')\n",
    "    pritne(dsf)\n",
    "except Exception as erro:\n",
    "    print(erro)\n",
    "    print(\"its erro\")"
   ]
  },
  {
   "cell_type": "markdown",
   "metadata": {
    "ExecuteTime": {
     "end_time": "2019-08-12T08:34:49.560934Z",
     "start_time": "2019-08-12T08:34:49.408089Z"
    }
   },
   "source": [
    "## 小爬虫"
   ]
  },
  {
   "cell_type": "code",
   "execution_count": 2,
   "metadata": {
    "ExecuteTime": {
     "end_time": "2019-08-12T12:09:23.084583Z",
     "start_time": "2019-08-12T12:09:22.871439Z"
    }
   },
   "outputs": [],
   "source": [
    "from urllib.request import urlopen\n",
    "data = urlopen(\"http://www.baidu.com\")\n",
    "fh1=open(\"F:/Python_All/Python_Practice_File/fh2.txt\",\"wb\")\n",
    "data = data.read()\n",
    "fh1.write(data)\n",
    "fh1.close()"
   ]
  },
  {
   "cell_type": "markdown",
   "metadata": {
    "ExecuteTime": {
     "end_time": "2019-08-12T08:31:04.397372Z",
     "start_time": "2019-08-12T08:31:04.384362Z"
    }
   },
   "source": [
    "## 正则表达式"
   ]
  },
  {
   "cell_type": "markdown",
   "metadata": {},
   "source": [
    "### __原子__"
   ]
  },
  {
   "cell_type": "code",
   "execution_count": 3,
   "metadata": {
    "ExecuteTime": {
     "end_time": "2019-08-12T12:09:23.095587Z",
     "start_time": "2019-08-12T12:09:23.088583Z"
    }
   },
   "outputs": [
    {
     "name": "stdout",
     "output_type": "stream",
     "text": [
      "<_sre.SRE_Match object; span=(10, 13), match='bai'>\n"
     ]
    }
   ],
   "source": [
    "import re\n",
    "pat = \"bai\"\n",
    "string = \"http:/www.baidu.com\"\n",
    "tr1 = re.search(pat,string)\n",
    "print(tr1)"
   ]
  },
  {
   "cell_type": "markdown",
   "metadata": {},
   "source": [
    "### __\"\\n\"__"
   ]
  },
  {
   "cell_type": "code",
   "execution_count": 4,
   "metadata": {
    "ExecuteTime": {
     "end_time": "2019-08-12T12:09:23.124607Z",
     "start_time": "2019-08-12T12:09:23.099591Z"
    }
   },
   "outputs": [
    {
     "name": "stdout",
     "output_type": "stream",
     "text": [
      "<_sre.SRE_Match object; span=(5, 6), match='\\n'>\n"
     ]
    }
   ],
   "source": [
    "pat2 = \"\\n\"\n",
    "string2 ='''asaas\n",
    "amfkf'''\n",
    "tr2 = re.search(pat2,string2)\n",
    "print(tr2)"
   ]
  },
  {
   "cell_type": "markdown",
   "metadata": {},
   "source": [
    "### __\"\\w\"通用匹配非特殊字符__ "
   ]
  },
  {
   "cell_type": "markdown",
   "metadata": {},
   "source": [
    "### __“\\W”匹配除非特殊字符外的所以__"
   ]
  },
  {
   "cell_type": "markdown",
   "metadata": {},
   "source": [
    "### ___爬取豆瓣出版社，列表存储___"
   ]
  },
  {
   "cell_type": "code",
   "execution_count": 5,
   "metadata": {
    "ExecuteTime": {
     "end_time": "2019-08-12T12:09:25.248514Z",
     "start_time": "2019-08-12T12:09:23.128609Z"
    }
   },
   "outputs": [],
   "source": [
    "import urllib.request\n",
    "import re\n",
    "data = urllib.request.urlopen(\"https://read.douban.com/provider/all\").read()\n",
    "data = data.decode(\"utf-8\")\n",
    "pat = '<div class=\"name\">(.*?)</div>'\n",
    "mydata = re.compile(pat).findall(data)\n",
    "ph = open(\"F://Python_All/Python_Practice_File/douban.txt\",\"w\")\n",
    "for i in range(0,len(mydata)):\n",
    "    ph.write(mydata[i]+\"\\n\")    \n",
    "ph.close()"
   ]
  },
  {
   "cell_type": "markdown",
   "metadata": {},
   "source": [
    "### __urlretrieve直接爬取网页__"
   ]
  },
  {
   "cell_type": "code",
   "execution_count": 6,
   "metadata": {
    "ExecuteTime": {
     "end_time": "2019-08-12T12:09:25.453972Z",
     "start_time": "2019-08-12T12:09:25.252519Z"
    }
   },
   "outputs": [
    {
     "data": {
      "text/plain": [
       "('F:/Python_All/Python_Practice_File/urlretrieve.html',\n",
       " <http.client.HTTPMessage at 0x248940a7518>)"
      ]
     },
     "execution_count": 6,
     "metadata": {},
     "output_type": "execute_result"
    }
   ],
   "source": [
    "import urllib.request\n",
    "urllib.request.urlretrieve(\"http://www.baidu.com\",filename=\"F:/Python_All/Python_Practice_File/urlretrieve.html\")"
   ]
  },
  {
   "cell_type": "markdown",
   "metadata": {},
   "source": [
    "### __urlcleanup清除urlretrieve的缓存__"
   ]
  },
  {
   "cell_type": "code",
   "execution_count": 7,
   "metadata": {
    "ExecuteTime": {
     "end_time": "2019-08-12T12:09:25.462478Z",
     "start_time": "2019-08-12T12:09:25.458475Z"
    }
   },
   "outputs": [],
   "source": [
    "urllib.request.urlcleanup()"
   ]
  },
  {
   "cell_type": "markdown",
   "metadata": {},
   "source": [
    "### __ 自动模拟http请求__"
   ]
  },
  {
   "cell_type": "code",
   "execution_count": 8,
   "metadata": {
    "ExecuteTime": {
     "end_time": "2019-08-12T12:09:26.567080Z",
     "start_time": "2019-08-12T12:09:25.468982Z"
    }
   },
   "outputs": [],
   "source": [
    "import urllib.request\n",
    "keywd = \"python\"\n",
    "# keywd = \"大理石\"\n",
    "# keywd = urllib.request.quote(keywd)\n",
    "url = \"http://www.baidu.com/s?wd=\"+keywd\n",
    "req = urllib.request.Request(url)\n",
    "data = urllib.request.urlopen(req).read()\n",
    "fh2 = open(\"F:/Python_All/Python_Practice_File/url.html\",\"wb\")\n",
    "fh2.write(data)\n",
    "fh2.close()"
   ]
  },
  {
   "cell_type": "markdown",
   "metadata": {},
   "source": [
    "### __自动模拟http请求的post__"
   ]
  },
  {
   "cell_type": "code",
   "execution_count": 9,
   "metadata": {
    "ExecuteTime": {
     "end_time": "2019-08-12T12:09:35.643563Z",
     "start_time": "2019-08-12T12:09:26.570565Z"
    }
   },
   "outputs": [],
   "source": [
    "import urllib.request\n",
    "import urllib.parse\n",
    "url = \"https://www.iqianyue.com/mypost/\"\n",
    "mydata = urllib.parse.urlencode({\n",
    "    \"name\":\"myuser\",\"pass\":\"12345\"\n",
    "}).encode(\"utf-8\")\n",
    "req1 = urllib.request.Request(url,mydata)\n",
    "data = urllib.request.urlopen(req1).read()\n",
    "fh2 = open(\"F:/Python_All/Python_Practice_File/urlencoding.html\",\"wb\")\n",
    "fh2.write(data)\n",
    "fh2.close()"
   ]
  },
  {
   "cell_type": "markdown",
   "metadata": {},
   "source": [
    "### ___异常___"
   ]
  },
  {
   "cell_type": "code",
   "execution_count": 1,
   "metadata": {
    "ExecuteTime": {
     "end_time": "2019-08-13T02:44:13.900616Z",
     "start_time": "2019-08-13T02:44:12.217497Z"
    }
   },
   "outputs": [],
   "source": [
    "import urllib.request\n",
    "import urllib.error\n",
    "try:\n",
    "    urllib.request.urlopen(\"http://blog.csdn.net\")\n",
    "except urllib.error.URLError as e:\n",
    "    if hasattr(e,\"code\"):\n",
    "        print(e.code)\n",
    "    if hasattr(e,\"reason\"):\n",
    "        print(e.reason)"
   ]
  }
 ],
 "metadata": {
  "kernelspec": {
   "display_name": "Python 3",
   "language": "python",
   "name": "python3"
  },
  "language_info": {
   "codemirror_mode": {
    "name": "ipython",
    "version": 3
   },
   "file_extension": ".py",
   "mimetype": "text/x-python",
   "name": "python",
   "nbconvert_exporter": "python",
   "pygments_lexer": "ipython3",
   "version": "3.6.4"
  }
 },
 "nbformat": 4,
 "nbformat_minor": 2
}
