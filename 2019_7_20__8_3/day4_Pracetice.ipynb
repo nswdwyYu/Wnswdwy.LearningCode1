{
 "cells": [
  {
   "cell_type": "code",
   "execution_count": 9,
   "metadata": {},
   "outputs": [
    {
     "name": "stdout",
     "output_type": "stream",
     "text": [
      "[11 36 20 19 32 31 14 13 15 21]\n"
     ]
    }
   ],
   "source": [
    "import numpy as np\n",
    "np.random.seed(34)    ###seed生成随机种子\n",
    "arr1=np.random.randint(10,40,size=10)\n",
    "print(arr1)"
   ]
  },
  {
   "cell_type": "code",
   "execution_count": 11,
   "metadata": {},
   "outputs": [
    {
     "name": "stdout",
     "output_type": "stream",
     "text": [
      "[11 13 14 15 19 20 21 31 32 36]\n"
     ]
    }
   ],
   "source": [
    "arr1.sort()\n",
    "print(arr1)"
   ]
  },
  {
   "cell_type": "code",
   "execution_count": 18,
   "metadata": {},
   "outputs": [
    {
     "name": "stdout",
     "output_type": "stream",
     "text": [
      "[[18 18 25 20 23]\n",
      " [30 18 20 23 14]\n",
      " [12 15 12 36 20]\n",
      " [21 12 19 36 16]]\n"
     ]
    }
   ],
   "source": [
    "arr2=np.random.randint(10,40,size=(4,5))\n",
    "print(arr2)"
   ]
  },
  {
   "cell_type": "code",
   "execution_count": 24,
   "metadata": {},
   "outputs": [
    {
     "name": "stdout",
     "output_type": "stream",
     "text": [
      "[[12 12 12 20 14]\n",
      " [18 15 19 23 16]\n",
      " [21 18 20 36 20]\n",
      " [30 18 25 36 23]]\n"
     ]
    }
   ],
   "source": [
    "arr2.sort(axis=0)\n",
    "print(arr2)"
   ]
  },
  {
   "cell_type": "code",
   "execution_count": 25,
   "metadata": {},
   "outputs": [
    {
     "name": "stdout",
     "output_type": "stream",
     "text": [
      "[ 2  5 10  4  8]\n"
     ]
    }
   ],
   "source": [
    "arr3=np.array([2,5,10,4,8])\n",
    "print(arr3)"
   ]
  },
  {
   "cell_type": "code",
   "execution_count": 26,
   "metadata": {},
   "outputs": [
    {
     "name": "stdout",
     "output_type": "stream",
     "text": [
      "[0 3 1 4 2]\n"
     ]
    }
   ],
   "source": [
    "print(arr3.argsort())"
   ]
  },
  {
   "cell_type": "code",
   "execution_count": 32,
   "metadata": {
    "scrolled": true
   },
   "outputs": [
    {
     "name": "stdout",
     "output_type": "stream",
     "text": [
      "[(3, 4, 2), (4, 3, 5), (2, 10, 18)]\n"
     ]
    }
   ],
   "source": [
    "a=np.array([3,2,4])\n",
    "b=np.array([4,10,3])\n",
    "c=np.array([2,18,5])\n",
    "d=np.lexsort((a,b,c))\n",
    "print(list(zip(a[d],b[d],c[d])))"
   ]
  },
  {
   "cell_type": "code",
   "execution_count": 33,
   "metadata": {},
   "outputs": [
    {
     "name": "stdout",
     "output_type": "stream",
     "text": [
      "[[34 12 16 20 10]\n",
      " [21 31 30 26 30]\n",
      " [14 35 33 30 36]\n",
      " [35 23 22 33 29]]\n"
     ]
    }
   ],
   "source": [
    "arr_random=np.random.randint(10,40,size=(4,5))\n",
    "print(arr_random)"
   ]
  },
  {
   "cell_type": "code",
   "execution_count": 35,
   "metadata": {},
   "outputs": [
    {
     "name": "stdout",
     "output_type": "stream",
     "text": [
      "520\n"
     ]
    }
   ],
   "source": [
    "print(np.sum(arr_random))   #求所以数组元素的和"
   ]
  },
  {
   "cell_type": "code",
   "execution_count": 36,
   "metadata": {},
   "outputs": [
    {
     "name": "stdout",
     "output_type": "stream",
     "text": [
      "[ 92 138 148 142]\n"
     ]
    }
   ],
   "source": [
    "##axis=1  列   axis=0  行\n",
    "print(arr_random.sum(axis=1))   #求每一列的和  "
   ]
  },
  {
   "cell_type": "code",
   "execution_count": 38,
   "metadata": {},
   "outputs": [
    {
     "name": "stdout",
     "output_type": "stream",
     "text": [
      "[104 101 101 109 105]\n"
     ]
    }
   ],
   "source": [
    "print(arr_random.sum(axis=0))   #求每一行的和"
   ]
  },
  {
   "cell_type": "code",
   "execution_count": 39,
   "metadata": {},
   "outputs": [
    {
     "name": "stdout",
     "output_type": "stream",
     "text": [
      "[8.5229103  3.72021505 8.06473806 5.2       ]\n"
     ]
    }
   ],
   "source": [
    "print(arr_random.std(axis=1))   #求每一列的标准差"
   ]
  },
  {
   "cell_type": "code",
   "execution_count": 40,
   "metadata": {},
   "outputs": [
    {
     "name": "stdout",
     "output_type": "stream",
     "text": [
      "[72.64 13.84 65.04 27.04]\n"
     ]
    }
   ],
   "source": [
    "print(arr_random.var(axis=1))   #求每一列的方差"
   ]
  },
  {
   "cell_type": "code",
   "execution_count": 41,
   "metadata": {},
   "outputs": [
    {
     "name": "stdout",
     "output_type": "stream",
     "text": [
      "[18.4 27.6 29.6 28.4]\n"
     ]
    }
   ],
   "source": [
    "print(arr_random.mean(axis=1))   #求每一列的均值"
   ]
  },
  {
   "cell_type": "code",
   "execution_count": 42,
   "metadata": {},
   "outputs": [
    {
     "name": "stdout",
     "output_type": "stream",
     "text": [
      "[1 2 3 4]\n"
     ]
    }
   ],
   "source": [
    "arr4=np.arange(1,5,1)\n",
    "print(arr4)"
   ]
  },
  {
   "cell_type": "code",
   "execution_count": 43,
   "metadata": {},
   "outputs": [
    {
     "name": "stdout",
     "output_type": "stream",
     "text": [
      "[ 1  3  6 10]\n"
     ]
    }
   ],
   "source": [
    "print(np.cumsum(arr4))   #不聚类加法"
   ]
  },
  {
   "cell_type": "code",
   "execution_count": 45,
   "metadata": {},
   "outputs": [
    {
     "name": "stdout",
     "output_type": "stream",
     "text": [
      "[ 1  2  6 24]\n"
     ]
    }
   ],
   "source": [
    "print(np.cumprod(arr4))   #不聚类乘法"
   ]
  }
 ],
 "metadata": {
  "kernelspec": {
   "display_name": "Python 3",
   "language": "python",
   "name": "python3"
  },
  "language_info": {
   "codemirror_mode": {
    "name": "ipython",
    "version": 3
   },
   "file_extension": ".py",
   "mimetype": "text/x-python",
   "name": "python",
   "nbconvert_exporter": "python",
   "pygments_lexer": "ipython3",
   "version": "3.6.4"
  }
 },
 "nbformat": 4,
 "nbformat_minor": 2
}
