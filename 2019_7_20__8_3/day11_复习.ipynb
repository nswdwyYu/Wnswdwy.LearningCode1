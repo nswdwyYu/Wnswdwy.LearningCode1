{
 "cells": [
  {
   "cell_type": "code",
   "execution_count": 1,
   "metadata": {
    "ExecuteTime": {
     "end_time": "2019-07-31T06:49:18.259691Z",
     "start_time": "2019-07-31T06:49:14.844423Z"
    }
   },
   "outputs": [],
   "source": [
    "import numpy as np\n",
    "import pandas as pd\n",
    "\n",
    "detail_one=pd.read_excel(r'C:/Users/nswdwy_yu/Desktop/data11/meal_order_detail.xlsx')\n",
    "\n",
    "# print('订单详情表的所有值为:','\\n',detail_one.values)\n",
    "# print('订单详情表的列名为:','\\n',detail_one.columns)\n",
    "# print('订单详情表的数据类型为:','\\n',detail_one.dtypes)   \n",
    "# print('订单详情表的元素个数为:','\\n',detail_one.size)\n",
    "# print('订单详情表的维度数为:','\\n',detail_one.ndim)\n",
    "# print('订单详情表的形状个数为:','\\n',detail_one.shape)"
   ]
  },
  {
   "cell_type": "code",
   "execution_count": 2,
   "metadata": {
    "ExecuteTime": {
     "end_time": "2019-07-31T06:49:18.319730Z",
     "start_time": "2019-07-31T06:49:18.263692Z"
    }
   },
   "outputs": [
    {
     "name": "stdout",
     "output_type": "stream",
     "text": [
      "订单详情表的所有值为: \n",
      " [[2956 417 610062 ... nan 'caipu/104001.jpg' 1442]\n",
      " [2958 417 609957 ... nan 'caipu/202003.jpg' 1442]\n",
      " [2961 417 609950 ... nan 'caipu/303001.jpg' 1442]\n",
      " ...\n",
      " [6756 774 609949 ... nan 'caipu/404005.jpg' 1138]\n",
      " [6763 774 610014 ... nan 'caipu/302003.jpg' 1138]\n",
      " [6764 774 610017 ... nan 'caipu/302006.jpg' 1138]]\n",
      "订单详情表的列名为: \n",
      " Index(['detail_id', 'order_id', 'dishes_id', 'logicprn_name',\n",
      "       'parent_class_name', 'dishes_name', 'itemis_add', 'counts', 'amounts',\n",
      "       'cost', 'place_order_time', 'discount_amt', 'discount_reason',\n",
      "       'kick_back', 'add_inprice', 'add_info', 'bar_code', 'picture_file',\n",
      "       'emp_id'],\n",
      "      dtype='object')\n",
      "订单详情表的数据类型为: \n",
      " detail_id                     int64\n",
      "order_id                      int64\n",
      "dishes_id                     int64\n",
      "logicprn_name               float64\n",
      "parent_class_name           float64\n",
      "dishes_name                  object\n",
      "itemis_add                    int64\n",
      "counts                        int64\n",
      "amounts                       int64\n",
      "cost                        float64\n",
      "place_order_time     datetime64[ns]\n",
      "discount_amt                float64\n",
      "discount_reason             float64\n",
      "kick_back                   float64\n",
      "add_inprice                   int64\n",
      "add_info                    float64\n",
      "bar_code                    float64\n",
      "picture_file                 object\n",
      "emp_id                        int64\n",
      "dtype: object\n",
      "订单详情表的元素个数为: \n",
      " 52801\n",
      "订单详情表的维度数为: \n",
      " 2\n",
      "订单详情表的形状个数为: \n",
      " (2779, 19)\n"
     ]
    }
   ],
   "source": [
    "print('订单详情表的所有值为:','\\n',detail_one.values)\n",
    "print('订单详情表的列名为:','\\n',detail_one.columns)\n",
    "print('订单详情表的数据类型为:','\\n',detail_one.dtypes)   \n",
    "print('订单详情表的元素个数为:','\\n',detail_one.size)\n",
    "print('订单详情表的维度数为:','\\n',detail_one.ndim)\n",
    "print('订单详情表的形状个数为:','\\n',detail_one.shape)"
   ]
  },
  {
   "cell_type": "code",
   "execution_count": 3,
   "metadata": {
    "ExecuteTime": {
     "end_time": "2019-07-31T06:49:18.446814Z",
     "start_time": "2019-07-31T06:49:18.323733Z"
    }
   },
   "outputs": [
    {
     "data": {
      "text/html": [
       "<div>\n",
       "<style scoped>\n",
       "    .dataframe tbody tr th:only-of-type {\n",
       "        vertical-align: middle;\n",
       "    }\n",
       "\n",
       "    .dataframe tbody tr th {\n",
       "        vertical-align: top;\n",
       "    }\n",
       "\n",
       "    .dataframe thead th {\n",
       "        text-align: right;\n",
       "    }\n",
       "</style>\n",
       "<table border=\"1\" class=\"dataframe\">\n",
       "  <thead>\n",
       "    <tr style=\"text-align: right;\">\n",
       "      <th></th>\n",
       "      <th>detail_id</th>\n",
       "      <th>order_id</th>\n",
       "      <th>dishes_id</th>\n",
       "      <th>logicprn_name</th>\n",
       "      <th>parent_class_name</th>\n",
       "      <th>dishes_name</th>\n",
       "      <th>itemis_add</th>\n",
       "      <th>counts</th>\n",
       "      <th>amounts</th>\n",
       "      <th>cost</th>\n",
       "      <th>place_order_time</th>\n",
       "      <th>discount_amt</th>\n",
       "      <th>discount_reason</th>\n",
       "      <th>kick_back</th>\n",
       "      <th>add_inprice</th>\n",
       "      <th>add_info</th>\n",
       "      <th>bar_code</th>\n",
       "      <th>picture_file</th>\n",
       "      <th>emp_id</th>\n",
       "    </tr>\n",
       "  </thead>\n",
       "  <tbody>\n",
       "    <tr>\n",
       "      <th>0</th>\n",
       "      <td>2956</td>\n",
       "      <td>417</td>\n",
       "      <td>610062</td>\n",
       "      <td>NaN</td>\n",
       "      <td>NaN</td>\n",
       "      <td>蒜蓉生蚝</td>\n",
       "      <td>0</td>\n",
       "      <td>1</td>\n",
       "      <td>49</td>\n",
       "      <td>NaN</td>\n",
       "      <td>2016-08-01 11:05:36</td>\n",
       "      <td>NaN</td>\n",
       "      <td>NaN</td>\n",
       "      <td>NaN</td>\n",
       "      <td>0</td>\n",
       "      <td>NaN</td>\n",
       "      <td>NaN</td>\n",
       "      <td>caipu/104001.jpg</td>\n",
       "      <td>1442</td>\n",
       "    </tr>\n",
       "    <tr>\n",
       "      <th>1</th>\n",
       "      <td>2958</td>\n",
       "      <td>417</td>\n",
       "      <td>609957</td>\n",
       "      <td>NaN</td>\n",
       "      <td>NaN</td>\n",
       "      <td>蒙古烤羊腿\\r\\n\\r\\n\\r\\n</td>\n",
       "      <td>0</td>\n",
       "      <td>1</td>\n",
       "      <td>48</td>\n",
       "      <td>NaN</td>\n",
       "      <td>2016-08-01 11:07:07</td>\n",
       "      <td>NaN</td>\n",
       "      <td>NaN</td>\n",
       "      <td>NaN</td>\n",
       "      <td>0</td>\n",
       "      <td>NaN</td>\n",
       "      <td>NaN</td>\n",
       "      <td>caipu/202003.jpg</td>\n",
       "      <td>1442</td>\n",
       "    </tr>\n",
       "    <tr>\n",
       "      <th>2</th>\n",
       "      <td>2961</td>\n",
       "      <td>417</td>\n",
       "      <td>609950</td>\n",
       "      <td>NaN</td>\n",
       "      <td>NaN</td>\n",
       "      <td>大蒜苋菜</td>\n",
       "      <td>0</td>\n",
       "      <td>1</td>\n",
       "      <td>30</td>\n",
       "      <td>NaN</td>\n",
       "      <td>2016-08-01 11:07:40</td>\n",
       "      <td>NaN</td>\n",
       "      <td>NaN</td>\n",
       "      <td>NaN</td>\n",
       "      <td>0</td>\n",
       "      <td>NaN</td>\n",
       "      <td>NaN</td>\n",
       "      <td>caipu/303001.jpg</td>\n",
       "      <td>1442</td>\n",
       "    </tr>\n",
       "    <tr>\n",
       "      <th>3</th>\n",
       "      <td>2966</td>\n",
       "      <td>417</td>\n",
       "      <td>610038</td>\n",
       "      <td>NaN</td>\n",
       "      <td>NaN</td>\n",
       "      <td>芝麻烤紫菜</td>\n",
       "      <td>0</td>\n",
       "      <td>1</td>\n",
       "      <td>25</td>\n",
       "      <td>NaN</td>\n",
       "      <td>2016-08-01 11:11:11</td>\n",
       "      <td>NaN</td>\n",
       "      <td>NaN</td>\n",
       "      <td>NaN</td>\n",
       "      <td>0</td>\n",
       "      <td>NaN</td>\n",
       "      <td>NaN</td>\n",
       "      <td>caipu/105002.jpg</td>\n",
       "      <td>1442</td>\n",
       "    </tr>\n",
       "    <tr>\n",
       "      <th>4</th>\n",
       "      <td>2968</td>\n",
       "      <td>417</td>\n",
       "      <td>610003</td>\n",
       "      <td>NaN</td>\n",
       "      <td>NaN</td>\n",
       "      <td>蒜香包</td>\n",
       "      <td>0</td>\n",
       "      <td>1</td>\n",
       "      <td>13</td>\n",
       "      <td>NaN</td>\n",
       "      <td>2016-08-01 11:11:30</td>\n",
       "      <td>NaN</td>\n",
       "      <td>NaN</td>\n",
       "      <td>NaN</td>\n",
       "      <td>0</td>\n",
       "      <td>NaN</td>\n",
       "      <td>NaN</td>\n",
       "      <td>caipu/503002.jpg</td>\n",
       "      <td>1442</td>\n",
       "    </tr>\n",
       "    <tr>\n",
       "      <th>5</th>\n",
       "      <td>1899</td>\n",
       "      <td>301</td>\n",
       "      <td>610019</td>\n",
       "      <td>NaN</td>\n",
       "      <td>NaN</td>\n",
       "      <td>白斩鸡</td>\n",
       "      <td>0</td>\n",
       "      <td>1</td>\n",
       "      <td>88</td>\n",
       "      <td>NaN</td>\n",
       "      <td>2016-08-01 11:15:57</td>\n",
       "      <td>NaN</td>\n",
       "      <td>NaN</td>\n",
       "      <td>NaN</td>\n",
       "      <td>0</td>\n",
       "      <td>NaN</td>\n",
       "      <td>NaN</td>\n",
       "      <td>caipu/204002.jpg</td>\n",
       "      <td>1095</td>\n",
       "    </tr>\n",
       "    <tr>\n",
       "      <th>6</th>\n",
       "      <td>1902</td>\n",
       "      <td>301</td>\n",
       "      <td>609991</td>\n",
       "      <td>NaN</td>\n",
       "      <td>NaN</td>\n",
       "      <td>香烤牛排\\r\\n</td>\n",
       "      <td>0</td>\n",
       "      <td>1</td>\n",
       "      <td>55</td>\n",
       "      <td>NaN</td>\n",
       "      <td>2016-08-01 11:19:12</td>\n",
       "      <td>NaN</td>\n",
       "      <td>NaN</td>\n",
       "      <td>NaN</td>\n",
       "      <td>0</td>\n",
       "      <td>NaN</td>\n",
       "      <td>NaN</td>\n",
       "      <td>caipu/201001.jpg</td>\n",
       "      <td>1095</td>\n",
       "    </tr>\n",
       "    <tr>\n",
       "      <th>7</th>\n",
       "      <td>1906</td>\n",
       "      <td>301</td>\n",
       "      <td>609983</td>\n",
       "      <td>NaN</td>\n",
       "      <td>NaN</td>\n",
       "      <td>干锅田鸡</td>\n",
       "      <td>0</td>\n",
       "      <td>1</td>\n",
       "      <td>88</td>\n",
       "      <td>NaN</td>\n",
       "      <td>2016-08-01 11:22:21</td>\n",
       "      <td>NaN</td>\n",
       "      <td>NaN</td>\n",
       "      <td>NaN</td>\n",
       "      <td>0</td>\n",
       "      <td>NaN</td>\n",
       "      <td>NaN</td>\n",
       "      <td>caipu/205003.jpg</td>\n",
       "      <td>1095</td>\n",
       "    </tr>\n",
       "    <tr>\n",
       "      <th>8</th>\n",
       "      <td>1907</td>\n",
       "      <td>301</td>\n",
       "      <td>609981</td>\n",
       "      <td>NaN</td>\n",
       "      <td>NaN</td>\n",
       "      <td>桂圆枸杞鸽子汤</td>\n",
       "      <td>0</td>\n",
       "      <td>1</td>\n",
       "      <td>48</td>\n",
       "      <td>NaN</td>\n",
       "      <td>2016-08-01 11:22:53</td>\n",
       "      <td>NaN</td>\n",
       "      <td>NaN</td>\n",
       "      <td>NaN</td>\n",
       "      <td>0</td>\n",
       "      <td>NaN</td>\n",
       "      <td>NaN</td>\n",
       "      <td>caipu/205001.jpg</td>\n",
       "      <td>1095</td>\n",
       "    </tr>\n",
       "    <tr>\n",
       "      <th>9</th>\n",
       "      <td>1908</td>\n",
       "      <td>301</td>\n",
       "      <td>610030</td>\n",
       "      <td>NaN</td>\n",
       "      <td>NaN</td>\n",
       "      <td>番茄有机花菜</td>\n",
       "      <td>0</td>\n",
       "      <td>1</td>\n",
       "      <td>32</td>\n",
       "      <td>NaN</td>\n",
       "      <td>2016-08-01 11:23:56</td>\n",
       "      <td>NaN</td>\n",
       "      <td>NaN</td>\n",
       "      <td>NaN</td>\n",
       "      <td>0</td>\n",
       "      <td>NaN</td>\n",
       "      <td>NaN</td>\n",
       "      <td>caipu/304004.jpg</td>\n",
       "      <td>1095</td>\n",
       "    </tr>\n",
       "    <tr>\n",
       "      <th>10</th>\n",
       "      <td>1910</td>\n",
       "      <td>301</td>\n",
       "      <td>610011</td>\n",
       "      <td>NaN</td>\n",
       "      <td>NaN</td>\n",
       "      <td>白饭/大碗</td>\n",
       "      <td>0</td>\n",
       "      <td>1</td>\n",
       "      <td>10</td>\n",
       "      <td>NaN</td>\n",
       "      <td>2016-08-01 11:31:15</td>\n",
       "      <td>NaN</td>\n",
       "      <td>NaN</td>\n",
       "      <td>NaN</td>\n",
       "      <td>0</td>\n",
       "      <td>NaN</td>\n",
       "      <td>NaN</td>\n",
       "      <td>caipu/601005.jpg</td>\n",
       "      <td>1095</td>\n",
       "    </tr>\n",
       "    <tr>\n",
       "      <th>11</th>\n",
       "      <td>2916</td>\n",
       "      <td>413</td>\n",
       "      <td>609966</td>\n",
       "      <td>NaN</td>\n",
       "      <td>NaN</td>\n",
       "      <td>芝士烩波士顿龙虾</td>\n",
       "      <td>0</td>\n",
       "      <td>1</td>\n",
       "      <td>175</td>\n",
       "      <td>NaN</td>\n",
       "      <td>2016-08-01 12:42:52</td>\n",
       "      <td>NaN</td>\n",
       "      <td>NaN</td>\n",
       "      <td>NaN</td>\n",
       "      <td>0</td>\n",
       "      <td>NaN</td>\n",
       "      <td>NaN</td>\n",
       "      <td>caipu/101001.jpg</td>\n",
       "      <td>1147</td>\n",
       "    </tr>\n",
       "    <tr>\n",
       "      <th>12</th>\n",
       "      <td>2919</td>\n",
       "      <td>413</td>\n",
       "      <td>609965</td>\n",
       "      <td>NaN</td>\n",
       "      <td>NaN</td>\n",
       "      <td>葱姜炒蟹</td>\n",
       "      <td>0</td>\n",
       "      <td>1</td>\n",
       "      <td>109</td>\n",
       "      <td>NaN</td>\n",
       "      <td>2016-08-01 12:43:21</td>\n",
       "      <td>NaN</td>\n",
       "      <td>NaN</td>\n",
       "      <td>NaN</td>\n",
       "      <td>0</td>\n",
       "      <td>NaN</td>\n",
       "      <td>NaN</td>\n",
       "      <td>caipu/102005.jpg</td>\n",
       "      <td>1147</td>\n",
       "    </tr>\n",
       "    <tr>\n",
       "      <th>13</th>\n",
       "      <td>2921</td>\n",
       "      <td>413</td>\n",
       "      <td>609936</td>\n",
       "      <td>NaN</td>\n",
       "      <td>NaN</td>\n",
       "      <td>皮蛋瘦肉粥</td>\n",
       "      <td>0</td>\n",
       "      <td>1</td>\n",
       "      <td>16</td>\n",
       "      <td>NaN</td>\n",
       "      <td>2016-08-01 12:43:34</td>\n",
       "      <td>NaN</td>\n",
       "      <td>NaN</td>\n",
       "      <td>NaN</td>\n",
       "      <td>0</td>\n",
       "      <td>NaN</td>\n",
       "      <td>NaN</td>\n",
       "      <td>caipu/602002.jpg</td>\n",
       "      <td>1147</td>\n",
       "    </tr>\n",
       "    <tr>\n",
       "      <th>14</th>\n",
       "      <td>2923</td>\n",
       "      <td>413</td>\n",
       "      <td>609978</td>\n",
       "      <td>NaN</td>\n",
       "      <td>NaN</td>\n",
       "      <td>爆炒鳝碌</td>\n",
       "      <td>0</td>\n",
       "      <td>1</td>\n",
       "      <td>55</td>\n",
       "      <td>NaN</td>\n",
       "      <td>2016-08-01 12:44:08</td>\n",
       "      <td>NaN</td>\n",
       "      <td>NaN</td>\n",
       "      <td>NaN</td>\n",
       "      <td>0</td>\n",
       "      <td>NaN</td>\n",
       "      <td>NaN</td>\n",
       "      <td>caipu/106003.jpg</td>\n",
       "      <td>1147</td>\n",
       "    </tr>\n",
       "    <tr>\n",
       "      <th>15</th>\n",
       "      <td>2925</td>\n",
       "      <td>413</td>\n",
       "      <td>609983</td>\n",
       "      <td>NaN</td>\n",
       "      <td>NaN</td>\n",
       "      <td>干锅田鸡</td>\n",
       "      <td>0</td>\n",
       "      <td>1</td>\n",
       "      <td>88</td>\n",
       "      <td>NaN</td>\n",
       "      <td>2016-08-01 12:44:12</td>\n",
       "      <td>NaN</td>\n",
       "      <td>NaN</td>\n",
       "      <td>NaN</td>\n",
       "      <td>0</td>\n",
       "      <td>NaN</td>\n",
       "      <td>NaN</td>\n",
       "      <td>caipu/205003.jpg</td>\n",
       "      <td>1147</td>\n",
       "    </tr>\n",
       "    <tr>\n",
       "      <th>16</th>\n",
       "      <td>2927</td>\n",
       "      <td>413</td>\n",
       "      <td>610050</td>\n",
       "      <td>NaN</td>\n",
       "      <td>NaN</td>\n",
       "      <td>番茄甘蓝</td>\n",
       "      <td>0</td>\n",
       "      <td>1</td>\n",
       "      <td>33</td>\n",
       "      <td>NaN</td>\n",
       "      <td>2016-08-01 12:45:09</td>\n",
       "      <td>NaN</td>\n",
       "      <td>NaN</td>\n",
       "      <td>NaN</td>\n",
       "      <td>0</td>\n",
       "      <td>NaN</td>\n",
       "      <td>NaN</td>\n",
       "      <td>caipu/301004.jpg</td>\n",
       "      <td>1147</td>\n",
       "    </tr>\n",
       "    <tr>\n",
       "      <th>17</th>\n",
       "      <td>2926</td>\n",
       "      <td>413</td>\n",
       "      <td>609984</td>\n",
       "      <td>NaN</td>\n",
       "      <td>NaN</td>\n",
       "      <td>重庆特色油烧兔</td>\n",
       "      <td>0</td>\n",
       "      <td>1</td>\n",
       "      <td>69</td>\n",
       "      <td>NaN</td>\n",
       "      <td>2016-08-01 12:45:24</td>\n",
       "      <td>NaN</td>\n",
       "      <td>NaN</td>\n",
       "      <td>NaN</td>\n",
       "      <td>0</td>\n",
       "      <td>NaN</td>\n",
       "      <td>NaN</td>\n",
       "      <td>caipu/205004.jpg</td>\n",
       "      <td>1147</td>\n",
       "    </tr>\n",
       "    <tr>\n",
       "      <th>18</th>\n",
       "      <td>2928</td>\n",
       "      <td>413</td>\n",
       "      <td>610013</td>\n",
       "      <td>NaN</td>\n",
       "      <td>NaN</td>\n",
       "      <td>番茄炖秋葵</td>\n",
       "      <td>0</td>\n",
       "      <td>1</td>\n",
       "      <td>35</td>\n",
       "      <td>NaN</td>\n",
       "      <td>2016-08-01 12:46:26</td>\n",
       "      <td>NaN</td>\n",
       "      <td>NaN</td>\n",
       "      <td>NaN</td>\n",
       "      <td>0</td>\n",
       "      <td>NaN</td>\n",
       "      <td>NaN</td>\n",
       "      <td>caipu/302002.jpg</td>\n",
       "      <td>1147</td>\n",
       "    </tr>\n",
       "    <tr>\n",
       "      <th>19</th>\n",
       "      <td>2930</td>\n",
       "      <td>413</td>\n",
       "      <td>610032</td>\n",
       "      <td>NaN</td>\n",
       "      <td>NaN</td>\n",
       "      <td>长城窖酿解百纳红酒干红葡萄酒</td>\n",
       "      <td>0</td>\n",
       "      <td>1</td>\n",
       "      <td>35</td>\n",
       "      <td>NaN</td>\n",
       "      <td>2016-08-01 12:48:48</td>\n",
       "      <td>NaN</td>\n",
       "      <td>NaN</td>\n",
       "      <td>NaN</td>\n",
       "      <td>0</td>\n",
       "      <td>NaN</td>\n",
       "      <td>NaN</td>\n",
       "      <td>caipu/401001.jpg</td>\n",
       "      <td>1147</td>\n",
       "    </tr>\n",
       "    <tr>\n",
       "      <th>20</th>\n",
       "      <td>2932</td>\n",
       "      <td>413</td>\n",
       "      <td>609973</td>\n",
       "      <td>NaN</td>\n",
       "      <td>NaN</td>\n",
       "      <td>紫薯面包卷</td>\n",
       "      <td>0</td>\n",
       "      <td>1</td>\n",
       "      <td>20</td>\n",
       "      <td>NaN</td>\n",
       "      <td>2016-08-01 12:49:27</td>\n",
       "      <td>NaN</td>\n",
       "      <td>NaN</td>\n",
       "      <td>NaN</td>\n",
       "      <td>0</td>\n",
       "      <td>NaN</td>\n",
       "      <td>NaN</td>\n",
       "      <td>caipu/502003.jpg</td>\n",
       "      <td>1147</td>\n",
       "    </tr>\n",
       "    <tr>\n",
       "      <th>21</th>\n",
       "      <td>2934</td>\n",
       "      <td>413</td>\n",
       "      <td>610007</td>\n",
       "      <td>NaN</td>\n",
       "      <td>NaN</td>\n",
       "      <td>桂圆肉红豆八宝饭</td>\n",
       "      <td>0</td>\n",
       "      <td>1</td>\n",
       "      <td>39</td>\n",
       "      <td>NaN</td>\n",
       "      <td>2016-08-01 12:50:03</td>\n",
       "      <td>NaN</td>\n",
       "      <td>NaN</td>\n",
       "      <td>NaN</td>\n",
       "      <td>0</td>\n",
       "      <td>NaN</td>\n",
       "      <td>NaN</td>\n",
       "      <td>caipu/601001.jpg</td>\n",
       "      <td>1147</td>\n",
       "    </tr>\n",
       "    <tr>\n",
       "      <th>22</th>\n",
       "      <td>2938</td>\n",
       "      <td>415</td>\n",
       "      <td>609964</td>\n",
       "      <td>NaN</td>\n",
       "      <td>NaN</td>\n",
       "      <td>避风塘炒蟹</td>\n",
       "      <td>0</td>\n",
       "      <td>1</td>\n",
       "      <td>48</td>\n",
       "      <td>NaN</td>\n",
       "      <td>2016-08-01 12:51:38</td>\n",
       "      <td>NaN</td>\n",
       "      <td>NaN</td>\n",
       "      <td>NaN</td>\n",
       "      <td>0</td>\n",
       "      <td>NaN</td>\n",
       "      <td>NaN</td>\n",
       "      <td>caipu/102004.jpg</td>\n",
       "      <td>1166</td>\n",
       "    </tr>\n",
       "    <tr>\n",
       "      <th>23</th>\n",
       "      <td>2935</td>\n",
       "      <td>413</td>\n",
       "      <td>609992</td>\n",
       "      <td>NaN</td>\n",
       "      <td>NaN</td>\n",
       "      <td>番茄炖牛腩\\r\\n\\r\\n\\r\\n</td>\n",
       "      <td>0</td>\n",
       "      <td>1</td>\n",
       "      <td>35</td>\n",
       "      <td>NaN</td>\n",
       "      <td>2016-08-01 12:51:46</td>\n",
       "      <td>NaN</td>\n",
       "      <td>NaN</td>\n",
       "      <td>NaN</td>\n",
       "      <td>0</td>\n",
       "      <td>NaN</td>\n",
       "      <td>NaN</td>\n",
       "      <td>caipu/201002.jpg</td>\n",
       "      <td>1147</td>\n",
       "    </tr>\n",
       "    <tr>\n",
       "      <th>24</th>\n",
       "      <td>2936</td>\n",
       "      <td>413</td>\n",
       "      <td>610012</td>\n",
       "      <td>NaN</td>\n",
       "      <td>NaN</td>\n",
       "      <td>香菇鹌鹑蛋</td>\n",
       "      <td>0</td>\n",
       "      <td>1</td>\n",
       "      <td>39</td>\n",
       "      <td>NaN</td>\n",
       "      <td>2016-08-01 12:52:18</td>\n",
       "      <td>NaN</td>\n",
       "      <td>NaN</td>\n",
       "      <td>NaN</td>\n",
       "      <td>0</td>\n",
       "      <td>NaN</td>\n",
       "      <td>NaN</td>\n",
       "      <td>caipu/302001.jpg</td>\n",
       "      <td>1147</td>\n",
       "    </tr>\n",
       "    <tr>\n",
       "      <th>25</th>\n",
       "      <td>2940</td>\n",
       "      <td>415</td>\n",
       "      <td>610064</td>\n",
       "      <td>NaN</td>\n",
       "      <td>NaN</td>\n",
       "      <td>花蛤蒸蛋</td>\n",
       "      <td>0</td>\n",
       "      <td>1</td>\n",
       "      <td>37</td>\n",
       "      <td>NaN</td>\n",
       "      <td>2016-08-01 12:52:37</td>\n",
       "      <td>NaN</td>\n",
       "      <td>NaN</td>\n",
       "      <td>NaN</td>\n",
       "      <td>0</td>\n",
       "      <td>NaN</td>\n",
       "      <td>NaN</td>\n",
       "      <td>caipu/104003.jpg</td>\n",
       "      <td>1166</td>\n",
       "    </tr>\n",
       "    <tr>\n",
       "      <th>26</th>\n",
       "      <td>2937</td>\n",
       "      <td>413</td>\n",
       "      <td>610023</td>\n",
       "      <td>NaN</td>\n",
       "      <td>NaN</td>\n",
       "      <td>啤酒鸭</td>\n",
       "      <td>0</td>\n",
       "      <td>1</td>\n",
       "      <td>48</td>\n",
       "      <td>NaN</td>\n",
       "      <td>2016-08-01 12:53:39</td>\n",
       "      <td>NaN</td>\n",
       "      <td>NaN</td>\n",
       "      <td>NaN</td>\n",
       "      <td>0</td>\n",
       "      <td>NaN</td>\n",
       "      <td>NaN</td>\n",
       "      <td>caipu/204006.jpg</td>\n",
       "      <td>1147</td>\n",
       "    </tr>\n",
       "    <tr>\n",
       "      <th>27</th>\n",
       "      <td>2939</td>\n",
       "      <td>413</td>\n",
       "      <td>609931</td>\n",
       "      <td>NaN</td>\n",
       "      <td>NaN</td>\n",
       "      <td>焖猪手</td>\n",
       "      <td>0</td>\n",
       "      <td>1</td>\n",
       "      <td>58</td>\n",
       "      <td>NaN</td>\n",
       "      <td>2016-08-01 12:54:30</td>\n",
       "      <td>NaN</td>\n",
       "      <td>NaN</td>\n",
       "      <td>NaN</td>\n",
       "      <td>0</td>\n",
       "      <td>NaN</td>\n",
       "      <td>NaN</td>\n",
       "      <td>caipu/203002.jpg</td>\n",
       "      <td>1147</td>\n",
       "    </tr>\n",
       "    <tr>\n",
       "      <th>28</th>\n",
       "      <td>2643</td>\n",
       "      <td>392</td>\n",
       "      <td>609930</td>\n",
       "      <td>NaN</td>\n",
       "      <td>NaN</td>\n",
       "      <td>豌豆薯仔猪骨汤</td>\n",
       "      <td>0</td>\n",
       "      <td>1</td>\n",
       "      <td>39</td>\n",
       "      <td>NaN</td>\n",
       "      <td>2016-08-01 12:58:44</td>\n",
       "      <td>NaN</td>\n",
       "      <td>NaN</td>\n",
       "      <td>NaN</td>\n",
       "      <td>0</td>\n",
       "      <td>NaN</td>\n",
       "      <td>NaN</td>\n",
       "      <td>caipu/203001.jpg</td>\n",
       "      <td>1094</td>\n",
       "    </tr>\n",
       "    <tr>\n",
       "      <th>29</th>\n",
       "      <td>2942</td>\n",
       "      <td>415</td>\n",
       "      <td>609959</td>\n",
       "      <td>NaN</td>\n",
       "      <td>NaN</td>\n",
       "      <td>小炒羊腰\\r\\n\\r\\n\\r\\n</td>\n",
       "      <td>0</td>\n",
       "      <td>1</td>\n",
       "      <td>36</td>\n",
       "      <td>NaN</td>\n",
       "      <td>2016-08-01 12:59:03</td>\n",
       "      <td>NaN</td>\n",
       "      <td>NaN</td>\n",
       "      <td>NaN</td>\n",
       "      <td>0</td>\n",
       "      <td>NaN</td>\n",
       "      <td>NaN</td>\n",
       "      <td>caipu/202005.jpg</td>\n",
       "      <td>1166</td>\n",
       "    </tr>\n",
       "    <tr>\n",
       "      <th>...</th>\n",
       "      <td>...</td>\n",
       "      <td>...</td>\n",
       "      <td>...</td>\n",
       "      <td>...</td>\n",
       "      <td>...</td>\n",
       "      <td>...</td>\n",
       "      <td>...</td>\n",
       "      <td>...</td>\n",
       "      <td>...</td>\n",
       "      <td>...</td>\n",
       "      <td>...</td>\n",
       "      <td>...</td>\n",
       "      <td>...</td>\n",
       "      <td>...</td>\n",
       "      <td>...</td>\n",
       "      <td>...</td>\n",
       "      <td>...</td>\n",
       "      <td>...</td>\n",
       "      <td>...</td>\n",
       "    </tr>\n",
       "    <tr>\n",
       "      <th>2749</th>\n",
       "      <td>6335</td>\n",
       "      <td>732</td>\n",
       "      <td>609944</td>\n",
       "      <td>NaN</td>\n",
       "      <td>NaN</td>\n",
       "      <td>水煮鱼</td>\n",
       "      <td>0</td>\n",
       "      <td>1</td>\n",
       "      <td>65</td>\n",
       "      <td>NaN</td>\n",
       "      <td>2016-08-10 20:19:03</td>\n",
       "      <td>NaN</td>\n",
       "      <td>NaN</td>\n",
       "      <td>NaN</td>\n",
       "      <td>0</td>\n",
       "      <td>NaN</td>\n",
       "      <td>NaN</td>\n",
       "      <td>caipu/103005.jpg</td>\n",
       "      <td>1153</td>\n",
       "    </tr>\n",
       "    <tr>\n",
       "      <th>2750</th>\n",
       "      <td>6336</td>\n",
       "      <td>732</td>\n",
       "      <td>609952</td>\n",
       "      <td>NaN</td>\n",
       "      <td>NaN</td>\n",
       "      <td>美妙绝伦之白莲花</td>\n",
       "      <td>0</td>\n",
       "      <td>1</td>\n",
       "      <td>29</td>\n",
       "      <td>NaN</td>\n",
       "      <td>2016-08-10 20:19:22</td>\n",
       "      <td>NaN</td>\n",
       "      <td>NaN</td>\n",
       "      <td>NaN</td>\n",
       "      <td>0</td>\n",
       "      <td>NaN</td>\n",
       "      <td>NaN</td>\n",
       "      <td>caipu/303003.jpg</td>\n",
       "      <td>1153</td>\n",
       "    </tr>\n",
       "    <tr>\n",
       "      <th>2751</th>\n",
       "      <td>5074</td>\n",
       "      <td>616</td>\n",
       "      <td>609970</td>\n",
       "      <td>NaN</td>\n",
       "      <td>NaN</td>\n",
       "      <td>麻辣小龙虾</td>\n",
       "      <td>0</td>\n",
       "      <td>1</td>\n",
       "      <td>99</td>\n",
       "      <td>NaN</td>\n",
       "      <td>2016-08-10 20:37:48</td>\n",
       "      <td>NaN</td>\n",
       "      <td>NaN</td>\n",
       "      <td>NaN</td>\n",
       "      <td>0</td>\n",
       "      <td>NaN</td>\n",
       "      <td>NaN</td>\n",
       "      <td>caipu/101006.jpg</td>\n",
       "      <td>1133</td>\n",
       "    </tr>\n",
       "    <tr>\n",
       "      <th>2752</th>\n",
       "      <td>5075</td>\n",
       "      <td>616</td>\n",
       "      <td>610001</td>\n",
       "      <td>NaN</td>\n",
       "      <td>NaN</td>\n",
       "      <td>土豆西红柿汤面</td>\n",
       "      <td>0</td>\n",
       "      <td>1</td>\n",
       "      <td>13</td>\n",
       "      <td>NaN</td>\n",
       "      <td>2016-08-10 20:39:37</td>\n",
       "      <td>NaN</td>\n",
       "      <td>NaN</td>\n",
       "      <td>NaN</td>\n",
       "      <td>0</td>\n",
       "      <td>NaN</td>\n",
       "      <td>NaN</td>\n",
       "      <td>caipu/603005.jpg</td>\n",
       "      <td>1133</td>\n",
       "    </tr>\n",
       "    <tr>\n",
       "      <th>2753</th>\n",
       "      <td>6088</td>\n",
       "      <td>716</td>\n",
       "      <td>609970</td>\n",
       "      <td>NaN</td>\n",
       "      <td>NaN</td>\n",
       "      <td>麻辣小龙虾</td>\n",
       "      <td>0</td>\n",
       "      <td>1</td>\n",
       "      <td>99</td>\n",
       "      <td>NaN</td>\n",
       "      <td>2016-08-10 20:41:10</td>\n",
       "      <td>NaN</td>\n",
       "      <td>NaN</td>\n",
       "      <td>NaN</td>\n",
       "      <td>0</td>\n",
       "      <td>NaN</td>\n",
       "      <td>NaN</td>\n",
       "      <td>caipu/101006.jpg</td>\n",
       "      <td>1112</td>\n",
       "    </tr>\n",
       "    <tr>\n",
       "      <th>2754</th>\n",
       "      <td>6091</td>\n",
       "      <td>716</td>\n",
       "      <td>609942</td>\n",
       "      <td>NaN</td>\n",
       "      <td>NaN</td>\n",
       "      <td>辣炒鱿鱼</td>\n",
       "      <td>0</td>\n",
       "      <td>1</td>\n",
       "      <td>58</td>\n",
       "      <td>NaN</td>\n",
       "      <td>2016-08-10 20:41:29</td>\n",
       "      <td>NaN</td>\n",
       "      <td>NaN</td>\n",
       "      <td>NaN</td>\n",
       "      <td>0</td>\n",
       "      <td>NaN</td>\n",
       "      <td>NaN</td>\n",
       "      <td>caipu/103003.jpg</td>\n",
       "      <td>1112</td>\n",
       "    </tr>\n",
       "    <tr>\n",
       "      <th>2755</th>\n",
       "      <td>6094</td>\n",
       "      <td>716</td>\n",
       "      <td>609946</td>\n",
       "      <td>NaN</td>\n",
       "      <td>NaN</td>\n",
       "      <td>谷稻小庄</td>\n",
       "      <td>0</td>\n",
       "      <td>1</td>\n",
       "      <td>38</td>\n",
       "      <td>NaN</td>\n",
       "      <td>2016-08-10 20:46:41</td>\n",
       "      <td>NaN</td>\n",
       "      <td>NaN</td>\n",
       "      <td>NaN</td>\n",
       "      <td>0</td>\n",
       "      <td>NaN</td>\n",
       "      <td>NaN</td>\n",
       "      <td>caipu/404002.jpg</td>\n",
       "      <td>1112</td>\n",
       "    </tr>\n",
       "    <tr>\n",
       "      <th>2756</th>\n",
       "      <td>6098</td>\n",
       "      <td>716</td>\n",
       "      <td>609953</td>\n",
       "      <td>NaN</td>\n",
       "      <td>NaN</td>\n",
       "      <td>凉拌菠菜</td>\n",
       "      <td>0</td>\n",
       "      <td>1</td>\n",
       "      <td>27</td>\n",
       "      <td>NaN</td>\n",
       "      <td>2016-08-10 20:47:14</td>\n",
       "      <td>NaN</td>\n",
       "      <td>NaN</td>\n",
       "      <td>NaN</td>\n",
       "      <td>0</td>\n",
       "      <td>NaN</td>\n",
       "      <td>NaN</td>\n",
       "      <td>caipu/303004.jpg</td>\n",
       "      <td>1112</td>\n",
       "    </tr>\n",
       "    <tr>\n",
       "      <th>2757</th>\n",
       "      <td>6106</td>\n",
       "      <td>716</td>\n",
       "      <td>609957</td>\n",
       "      <td>NaN</td>\n",
       "      <td>NaN</td>\n",
       "      <td>蒙古烤羊腿\\r\\n\\r\\n\\r\\n</td>\n",
       "      <td>0</td>\n",
       "      <td>1</td>\n",
       "      <td>48</td>\n",
       "      <td>NaN</td>\n",
       "      <td>2016-08-10 20:47:17</td>\n",
       "      <td>NaN</td>\n",
       "      <td>NaN</td>\n",
       "      <td>NaN</td>\n",
       "      <td>0</td>\n",
       "      <td>NaN</td>\n",
       "      <td>NaN</td>\n",
       "      <td>caipu/202003.jpg</td>\n",
       "      <td>1112</td>\n",
       "    </tr>\n",
       "    <tr>\n",
       "      <th>2758</th>\n",
       "      <td>6103</td>\n",
       "      <td>716</td>\n",
       "      <td>609944</td>\n",
       "      <td>NaN</td>\n",
       "      <td>NaN</td>\n",
       "      <td>水煮鱼</td>\n",
       "      <td>0</td>\n",
       "      <td>1</td>\n",
       "      <td>65</td>\n",
       "      <td>NaN</td>\n",
       "      <td>2016-08-10 20:47:36</td>\n",
       "      <td>NaN</td>\n",
       "      <td>NaN</td>\n",
       "      <td>NaN</td>\n",
       "      <td>0</td>\n",
       "      <td>NaN</td>\n",
       "      <td>NaN</td>\n",
       "      <td>caipu/103005.jpg</td>\n",
       "      <td>1112</td>\n",
       "    </tr>\n",
       "    <tr>\n",
       "      <th>2759</th>\n",
       "      <td>5076</td>\n",
       "      <td>616</td>\n",
       "      <td>610000</td>\n",
       "      <td>NaN</td>\n",
       "      <td>NaN</td>\n",
       "      <td>酸辣汤面</td>\n",
       "      <td>0</td>\n",
       "      <td>1</td>\n",
       "      <td>16</td>\n",
       "      <td>NaN</td>\n",
       "      <td>2016-08-10 20:48:31</td>\n",
       "      <td>NaN</td>\n",
       "      <td>NaN</td>\n",
       "      <td>NaN</td>\n",
       "      <td>0</td>\n",
       "      <td>NaN</td>\n",
       "      <td>NaN</td>\n",
       "      <td>caipu/603004.jpg</td>\n",
       "      <td>1133</td>\n",
       "    </tr>\n",
       "    <tr>\n",
       "      <th>2760</th>\n",
       "      <td>5080</td>\n",
       "      <td>616</td>\n",
       "      <td>610033</td>\n",
       "      <td>NaN</td>\n",
       "      <td>NaN</td>\n",
       "      <td>张裕葡萄酒张裕赤霞珠干红\\r\\n\\r\\n\\r\\n</td>\n",
       "      <td>0</td>\n",
       "      <td>1</td>\n",
       "      <td>32</td>\n",
       "      <td>NaN</td>\n",
       "      <td>2016-08-10 20:49:20</td>\n",
       "      <td>NaN</td>\n",
       "      <td>NaN</td>\n",
       "      <td>NaN</td>\n",
       "      <td>0</td>\n",
       "      <td>NaN</td>\n",
       "      <td>NaN</td>\n",
       "      <td>caipu/402002.jpg</td>\n",
       "      <td>1133</td>\n",
       "    </tr>\n",
       "    <tr>\n",
       "      <th>2761</th>\n",
       "      <td>6111</td>\n",
       "      <td>716</td>\n",
       "      <td>609960</td>\n",
       "      <td>NaN</td>\n",
       "      <td>NaN</td>\n",
       "      <td>白胡椒胡萝卜羊肉汤</td>\n",
       "      <td>0</td>\n",
       "      <td>1</td>\n",
       "      <td>35</td>\n",
       "      <td>NaN</td>\n",
       "      <td>2016-08-10 20:50:11</td>\n",
       "      <td>NaN</td>\n",
       "      <td>NaN</td>\n",
       "      <td>NaN</td>\n",
       "      <td>0</td>\n",
       "      <td>NaN</td>\n",
       "      <td>NaN</td>\n",
       "      <td>caipu/202006.jpg</td>\n",
       "      <td>1112</td>\n",
       "    </tr>\n",
       "    <tr>\n",
       "      <th>2762</th>\n",
       "      <td>6115</td>\n",
       "      <td>716</td>\n",
       "      <td>609955</td>\n",
       "      <td>NaN</td>\n",
       "      <td>NaN</td>\n",
       "      <td>红酒炖羊肉</td>\n",
       "      <td>0</td>\n",
       "      <td>1</td>\n",
       "      <td>108</td>\n",
       "      <td>NaN</td>\n",
       "      <td>2016-08-10 20:50:12</td>\n",
       "      <td>NaN</td>\n",
       "      <td>NaN</td>\n",
       "      <td>NaN</td>\n",
       "      <td>0</td>\n",
       "      <td>NaN</td>\n",
       "      <td>NaN</td>\n",
       "      <td>caipu/202001.jpg</td>\n",
       "      <td>1112</td>\n",
       "    </tr>\n",
       "    <tr>\n",
       "      <th>2763</th>\n",
       "      <td>6120</td>\n",
       "      <td>716</td>\n",
       "      <td>609983</td>\n",
       "      <td>NaN</td>\n",
       "      <td>NaN</td>\n",
       "      <td>干锅田鸡</td>\n",
       "      <td>0</td>\n",
       "      <td>1</td>\n",
       "      <td>88</td>\n",
       "      <td>NaN</td>\n",
       "      <td>2016-08-10 20:51:37</td>\n",
       "      <td>NaN</td>\n",
       "      <td>NaN</td>\n",
       "      <td>NaN</td>\n",
       "      <td>0</td>\n",
       "      <td>NaN</td>\n",
       "      <td>NaN</td>\n",
       "      <td>caipu/205003.jpg</td>\n",
       "      <td>1112</td>\n",
       "    </tr>\n",
       "    <tr>\n",
       "      <th>2764</th>\n",
       "      <td>6116</td>\n",
       "      <td>716</td>\n",
       "      <td>609974</td>\n",
       "      <td>NaN</td>\n",
       "      <td>NaN</td>\n",
       "      <td>南瓜枸杞小饼干</td>\n",
       "      <td>0</td>\n",
       "      <td>1</td>\n",
       "      <td>19</td>\n",
       "      <td>NaN</td>\n",
       "      <td>2016-08-10 20:51:42</td>\n",
       "      <td>NaN</td>\n",
       "      <td>NaN</td>\n",
       "      <td>NaN</td>\n",
       "      <td>0</td>\n",
       "      <td>NaN</td>\n",
       "      <td>NaN</td>\n",
       "      <td>caipu/502004.jpg</td>\n",
       "      <td>1112</td>\n",
       "    </tr>\n",
       "    <tr>\n",
       "      <th>2765</th>\n",
       "      <td>6125</td>\n",
       "      <td>716</td>\n",
       "      <td>609991</td>\n",
       "      <td>NaN</td>\n",
       "      <td>NaN</td>\n",
       "      <td>香烤牛排\\r\\n\\r\\n\\r\\n</td>\n",
       "      <td>0</td>\n",
       "      <td>1</td>\n",
       "      <td>55</td>\n",
       "      <td>NaN</td>\n",
       "      <td>2016-08-10 20:52:09</td>\n",
       "      <td>NaN</td>\n",
       "      <td>NaN</td>\n",
       "      <td>NaN</td>\n",
       "      <td>0</td>\n",
       "      <td>NaN</td>\n",
       "      <td>NaN</td>\n",
       "      <td>caipu/201001.jpg</td>\n",
       "      <td>1112</td>\n",
       "    </tr>\n",
       "    <tr>\n",
       "      <th>2766</th>\n",
       "      <td>6127</td>\n",
       "      <td>716</td>\n",
       "      <td>610011</td>\n",
       "      <td>NaN</td>\n",
       "      <td>NaN</td>\n",
       "      <td>白饭/大碗</td>\n",
       "      <td>0</td>\n",
       "      <td>1</td>\n",
       "      <td>10</td>\n",
       "      <td>NaN</td>\n",
       "      <td>2016-08-10 20:52:12</td>\n",
       "      <td>NaN</td>\n",
       "      <td>NaN</td>\n",
       "      <td>NaN</td>\n",
       "      <td>0</td>\n",
       "      <td>NaN</td>\n",
       "      <td>NaN</td>\n",
       "      <td>caipu/601005.jpg</td>\n",
       "      <td>1112</td>\n",
       "    </tr>\n",
       "    <tr>\n",
       "      <th>2767</th>\n",
       "      <td>6131</td>\n",
       "      <td>716</td>\n",
       "      <td>610038</td>\n",
       "      <td>NaN</td>\n",
       "      <td>NaN</td>\n",
       "      <td>芝麻烤紫菜</td>\n",
       "      <td>0</td>\n",
       "      <td>1</td>\n",
       "      <td>25</td>\n",
       "      <td>NaN</td>\n",
       "      <td>2016-08-10 20:53:09</td>\n",
       "      <td>NaN</td>\n",
       "      <td>NaN</td>\n",
       "      <td>NaN</td>\n",
       "      <td>0</td>\n",
       "      <td>NaN</td>\n",
       "      <td>NaN</td>\n",
       "      <td>caipu/105002.jpg</td>\n",
       "      <td>1112</td>\n",
       "    </tr>\n",
       "    <tr>\n",
       "      <th>2768</th>\n",
       "      <td>6128</td>\n",
       "      <td>716</td>\n",
       "      <td>610022</td>\n",
       "      <td>NaN</td>\n",
       "      <td>NaN</td>\n",
       "      <td>杭椒鸡珍</td>\n",
       "      <td>0</td>\n",
       "      <td>1</td>\n",
       "      <td>58</td>\n",
       "      <td>NaN</td>\n",
       "      <td>2016-08-10 20:53:26</td>\n",
       "      <td>NaN</td>\n",
       "      <td>NaN</td>\n",
       "      <td>NaN</td>\n",
       "      <td>0</td>\n",
       "      <td>NaN</td>\n",
       "      <td>NaN</td>\n",
       "      <td>caipu/204005.jpg</td>\n",
       "      <td>1112</td>\n",
       "    </tr>\n",
       "    <tr>\n",
       "      <th>2769</th>\n",
       "      <td>6135</td>\n",
       "      <td>716</td>\n",
       "      <td>610020</td>\n",
       "      <td>NaN</td>\n",
       "      <td>NaN</td>\n",
       "      <td>泡椒凤爪\\r\\n\\r\\n\\r\\n</td>\n",
       "      <td>0</td>\n",
       "      <td>1</td>\n",
       "      <td>58</td>\n",
       "      <td>NaN</td>\n",
       "      <td>2016-08-10 20:56:10</td>\n",
       "      <td>NaN</td>\n",
       "      <td>NaN</td>\n",
       "      <td>NaN</td>\n",
       "      <td>0</td>\n",
       "      <td>NaN</td>\n",
       "      <td>NaN</td>\n",
       "      <td>caipu/204003.jpg</td>\n",
       "      <td>1112</td>\n",
       "    </tr>\n",
       "    <tr>\n",
       "      <th>2770</th>\n",
       "      <td>6137</td>\n",
       "      <td>716</td>\n",
       "      <td>610031</td>\n",
       "      <td>NaN</td>\n",
       "      <td>NaN</td>\n",
       "      <td>糖醋蕃茄溜青花</td>\n",
       "      <td>0</td>\n",
       "      <td>1</td>\n",
       "      <td>33</td>\n",
       "      <td>NaN</td>\n",
       "      <td>2016-08-10 20:57:11</td>\n",
       "      <td>NaN</td>\n",
       "      <td>NaN</td>\n",
       "      <td>NaN</td>\n",
       "      <td>0</td>\n",
       "      <td>NaN</td>\n",
       "      <td>NaN</td>\n",
       "      <td>caipu/304005.jpg</td>\n",
       "      <td>1112</td>\n",
       "    </tr>\n",
       "    <tr>\n",
       "      <th>2771</th>\n",
       "      <td>6734</td>\n",
       "      <td>774</td>\n",
       "      <td>609941</td>\n",
       "      <td>NaN</td>\n",
       "      <td>NaN</td>\n",
       "      <td>清蒸海鱼</td>\n",
       "      <td>0</td>\n",
       "      <td>1</td>\n",
       "      <td>78</td>\n",
       "      <td>NaN</td>\n",
       "      <td>2016-08-10 21:50:35</td>\n",
       "      <td>NaN</td>\n",
       "      <td>NaN</td>\n",
       "      <td>NaN</td>\n",
       "      <td>0</td>\n",
       "      <td>NaN</td>\n",
       "      <td>NaN</td>\n",
       "      <td>caipu/103002.jpg</td>\n",
       "      <td>1138</td>\n",
       "    </tr>\n",
       "    <tr>\n",
       "      <th>2772</th>\n",
       "      <td>6736</td>\n",
       "      <td>774</td>\n",
       "      <td>609944</td>\n",
       "      <td>NaN</td>\n",
       "      <td>NaN</td>\n",
       "      <td>水煮鱼</td>\n",
       "      <td>0</td>\n",
       "      <td>1</td>\n",
       "      <td>65</td>\n",
       "      <td>NaN</td>\n",
       "      <td>2016-08-10 21:53:17</td>\n",
       "      <td>NaN</td>\n",
       "      <td>NaN</td>\n",
       "      <td>NaN</td>\n",
       "      <td>0</td>\n",
       "      <td>NaN</td>\n",
       "      <td>NaN</td>\n",
       "      <td>caipu/103005.jpg</td>\n",
       "      <td>1138</td>\n",
       "    </tr>\n",
       "    <tr>\n",
       "      <th>2773</th>\n",
       "      <td>6739</td>\n",
       "      <td>774</td>\n",
       "      <td>609994</td>\n",
       "      <td>NaN</td>\n",
       "      <td>NaN</td>\n",
       "      <td>独家薄荷鲜虾牛肉卷\\r\\n\\r\\n\\r\\n</td>\n",
       "      <td>0</td>\n",
       "      <td>1</td>\n",
       "      <td>45</td>\n",
       "      <td>NaN</td>\n",
       "      <td>2016-08-10 21:55:58</td>\n",
       "      <td>NaN</td>\n",
       "      <td>NaN</td>\n",
       "      <td>NaN</td>\n",
       "      <td>0</td>\n",
       "      <td>NaN</td>\n",
       "      <td>NaN</td>\n",
       "      <td>caipu/201004.jpg</td>\n",
       "      <td>1138</td>\n",
       "    </tr>\n",
       "    <tr>\n",
       "      <th>2774</th>\n",
       "      <td>6750</td>\n",
       "      <td>774</td>\n",
       "      <td>610011</td>\n",
       "      <td>NaN</td>\n",
       "      <td>NaN</td>\n",
       "      <td>白饭/大碗</td>\n",
       "      <td>0</td>\n",
       "      <td>1</td>\n",
       "      <td>10</td>\n",
       "      <td>NaN</td>\n",
       "      <td>2016-08-10 21:56:24</td>\n",
       "      <td>NaN</td>\n",
       "      <td>NaN</td>\n",
       "      <td>NaN</td>\n",
       "      <td>0</td>\n",
       "      <td>NaN</td>\n",
       "      <td>NaN</td>\n",
       "      <td>caipu/601005.jpg</td>\n",
       "      <td>1138</td>\n",
       "    </tr>\n",
       "    <tr>\n",
       "      <th>2775</th>\n",
       "      <td>6742</td>\n",
       "      <td>774</td>\n",
       "      <td>609996</td>\n",
       "      <td>NaN</td>\n",
       "      <td>NaN</td>\n",
       "      <td>牛尾汤</td>\n",
       "      <td>0</td>\n",
       "      <td>1</td>\n",
       "      <td>40</td>\n",
       "      <td>NaN</td>\n",
       "      <td>2016-08-10 21:56:48</td>\n",
       "      <td>NaN</td>\n",
       "      <td>NaN</td>\n",
       "      <td>NaN</td>\n",
       "      <td>0</td>\n",
       "      <td>NaN</td>\n",
       "      <td>NaN</td>\n",
       "      <td>caipu/201006.jpg</td>\n",
       "      <td>1138</td>\n",
       "    </tr>\n",
       "    <tr>\n",
       "      <th>2776</th>\n",
       "      <td>6756</td>\n",
       "      <td>774</td>\n",
       "      <td>609949</td>\n",
       "      <td>NaN</td>\n",
       "      <td>NaN</td>\n",
       "      <td>意文柠檬汁</td>\n",
       "      <td>0</td>\n",
       "      <td>1</td>\n",
       "      <td>13</td>\n",
       "      <td>NaN</td>\n",
       "      <td>2016-08-10 22:01:52</td>\n",
       "      <td>NaN</td>\n",
       "      <td>NaN</td>\n",
       "      <td>NaN</td>\n",
       "      <td>0</td>\n",
       "      <td>NaN</td>\n",
       "      <td>NaN</td>\n",
       "      <td>caipu/404005.jpg</td>\n",
       "      <td>1138</td>\n",
       "    </tr>\n",
       "    <tr>\n",
       "      <th>2777</th>\n",
       "      <td>6763</td>\n",
       "      <td>774</td>\n",
       "      <td>610014</td>\n",
       "      <td>NaN</td>\n",
       "      <td>NaN</td>\n",
       "      <td>金玉良缘</td>\n",
       "      <td>0</td>\n",
       "      <td>1</td>\n",
       "      <td>30</td>\n",
       "      <td>NaN</td>\n",
       "      <td>2016-08-10 22:03:58</td>\n",
       "      <td>NaN</td>\n",
       "      <td>NaN</td>\n",
       "      <td>NaN</td>\n",
       "      <td>0</td>\n",
       "      <td>NaN</td>\n",
       "      <td>NaN</td>\n",
       "      <td>caipu/302003.jpg</td>\n",
       "      <td>1138</td>\n",
       "    </tr>\n",
       "    <tr>\n",
       "      <th>2778</th>\n",
       "      <td>6764</td>\n",
       "      <td>774</td>\n",
       "      <td>610017</td>\n",
       "      <td>NaN</td>\n",
       "      <td>NaN</td>\n",
       "      <td>酸辣藕丁</td>\n",
       "      <td>0</td>\n",
       "      <td>1</td>\n",
       "      <td>33</td>\n",
       "      <td>NaN</td>\n",
       "      <td>2016-08-10 22:04:30</td>\n",
       "      <td>NaN</td>\n",
       "      <td>NaN</td>\n",
       "      <td>NaN</td>\n",
       "      <td>0</td>\n",
       "      <td>NaN</td>\n",
       "      <td>NaN</td>\n",
       "      <td>caipu/302006.jpg</td>\n",
       "      <td>1138</td>\n",
       "    </tr>\n",
       "  </tbody>\n",
       "</table>\n",
       "<p>2779 rows × 19 columns</p>\n",
       "</div>"
      ],
      "text/plain": [
       "      detail_id  order_id  dishes_id  logicprn_name  parent_class_name  \\\n",
       "0          2956       417     610062            NaN                NaN   \n",
       "1          2958       417     609957            NaN                NaN   \n",
       "2          2961       417     609950            NaN                NaN   \n",
       "3          2966       417     610038            NaN                NaN   \n",
       "4          2968       417     610003            NaN                NaN   \n",
       "5          1899       301     610019            NaN                NaN   \n",
       "6          1902       301     609991            NaN                NaN   \n",
       "7          1906       301     609983            NaN                NaN   \n",
       "8          1907       301     609981            NaN                NaN   \n",
       "9          1908       301     610030            NaN                NaN   \n",
       "10         1910       301     610011            NaN                NaN   \n",
       "11         2916       413     609966            NaN                NaN   \n",
       "12         2919       413     609965            NaN                NaN   \n",
       "13         2921       413     609936            NaN                NaN   \n",
       "14         2923       413     609978            NaN                NaN   \n",
       "15         2925       413     609983            NaN                NaN   \n",
       "16         2927       413     610050            NaN                NaN   \n",
       "17         2926       413     609984            NaN                NaN   \n",
       "18         2928       413     610013            NaN                NaN   \n",
       "19         2930       413     610032            NaN                NaN   \n",
       "20         2932       413     609973            NaN                NaN   \n",
       "21         2934       413     610007            NaN                NaN   \n",
       "22         2938       415     609964            NaN                NaN   \n",
       "23         2935       413     609992            NaN                NaN   \n",
       "24         2936       413     610012            NaN                NaN   \n",
       "25         2940       415     610064            NaN                NaN   \n",
       "26         2937       413     610023            NaN                NaN   \n",
       "27         2939       413     609931            NaN                NaN   \n",
       "28         2643       392     609930            NaN                NaN   \n",
       "29         2942       415     609959            NaN                NaN   \n",
       "...         ...       ...        ...            ...                ...   \n",
       "2749       6335       732     609944            NaN                NaN   \n",
       "2750       6336       732     609952            NaN                NaN   \n",
       "2751       5074       616     609970            NaN                NaN   \n",
       "2752       5075       616     610001            NaN                NaN   \n",
       "2753       6088       716     609970            NaN                NaN   \n",
       "2754       6091       716     609942            NaN                NaN   \n",
       "2755       6094       716     609946            NaN                NaN   \n",
       "2756       6098       716     609953            NaN                NaN   \n",
       "2757       6106       716     609957            NaN                NaN   \n",
       "2758       6103       716     609944            NaN                NaN   \n",
       "2759       5076       616     610000            NaN                NaN   \n",
       "2760       5080       616     610033            NaN                NaN   \n",
       "2761       6111       716     609960            NaN                NaN   \n",
       "2762       6115       716     609955            NaN                NaN   \n",
       "2763       6120       716     609983            NaN                NaN   \n",
       "2764       6116       716     609974            NaN                NaN   \n",
       "2765       6125       716     609991            NaN                NaN   \n",
       "2766       6127       716     610011            NaN                NaN   \n",
       "2767       6131       716     610038            NaN                NaN   \n",
       "2768       6128       716     610022            NaN                NaN   \n",
       "2769       6135       716     610020            NaN                NaN   \n",
       "2770       6137       716     610031            NaN                NaN   \n",
       "2771       6734       774     609941            NaN                NaN   \n",
       "2772       6736       774     609944            NaN                NaN   \n",
       "2773       6739       774     609994            NaN                NaN   \n",
       "2774       6750       774     610011            NaN                NaN   \n",
       "2775       6742       774     609996            NaN                NaN   \n",
       "2776       6756       774     609949            NaN                NaN   \n",
       "2777       6763       774     610014            NaN                NaN   \n",
       "2778       6764       774     610017            NaN                NaN   \n",
       "\n",
       "                   dishes_name  itemis_add  counts  amounts  cost  \\\n",
       "0                         蒜蓉生蚝           0       1       49   NaN   \n",
       "1            蒙古烤羊腿\\r\\n\\r\\n\\r\\n           0       1       48   NaN   \n",
       "2                         大蒜苋菜           0       1       30   NaN   \n",
       "3                        芝麻烤紫菜           0       1       25   NaN   \n",
       "4                          蒜香包           0       1       13   NaN   \n",
       "5                          白斩鸡           0       1       88   NaN   \n",
       "6                     香烤牛排\\r\\n           0       1       55   NaN   \n",
       "7                         干锅田鸡           0       1       88   NaN   \n",
       "8                      桂圆枸杞鸽子汤           0       1       48   NaN   \n",
       "9                       番茄有机花菜           0       1       32   NaN   \n",
       "10                       白饭/大碗           0       1       10   NaN   \n",
       "11                    芝士烩波士顿龙虾           0       1      175   NaN   \n",
       "12                        葱姜炒蟹           0       1      109   NaN   \n",
       "13                       皮蛋瘦肉粥           0       1       16   NaN   \n",
       "14                        爆炒鳝碌           0       1       55   NaN   \n",
       "15                        干锅田鸡           0       1       88   NaN   \n",
       "16                        番茄甘蓝           0       1       33   NaN   \n",
       "17                     重庆特色油烧兔           0       1       69   NaN   \n",
       "18                       番茄炖秋葵           0       1       35   NaN   \n",
       "19              长城窖酿解百纳红酒干红葡萄酒           0       1       35   NaN   \n",
       "20                       紫薯面包卷           0       1       20   NaN   \n",
       "21                    桂圆肉红豆八宝饭           0       1       39   NaN   \n",
       "22                       避风塘炒蟹           0       1       48   NaN   \n",
       "23           番茄炖牛腩\\r\\n\\r\\n\\r\\n           0       1       35   NaN   \n",
       "24                       香菇鹌鹑蛋           0       1       39   NaN   \n",
       "25                        花蛤蒸蛋           0       1       37   NaN   \n",
       "26                         啤酒鸭           0       1       48   NaN   \n",
       "27                         焖猪手           0       1       58   NaN   \n",
       "28                     豌豆薯仔猪骨汤           0       1       39   NaN   \n",
       "29            小炒羊腰\\r\\n\\r\\n\\r\\n           0       1       36   NaN   \n",
       "...                        ...         ...     ...      ...   ...   \n",
       "2749                       水煮鱼           0       1       65   NaN   \n",
       "2750                  美妙绝伦之白莲花           0       1       29   NaN   \n",
       "2751                     麻辣小龙虾           0       1       99   NaN   \n",
       "2752                   土豆西红柿汤面           0       1       13   NaN   \n",
       "2753                     麻辣小龙虾           0       1       99   NaN   \n",
       "2754                      辣炒鱿鱼           0       1       58   NaN   \n",
       "2755                     谷稻小庄            0       1       38   NaN   \n",
       "2756                      凉拌菠菜           0       1       27   NaN   \n",
       "2757         蒙古烤羊腿\\r\\n\\r\\n\\r\\n           0       1       48   NaN   \n",
       "2758                       水煮鱼           0       1       65   NaN   \n",
       "2759                      酸辣汤面           0       1       16   NaN   \n",
       "2760  张裕葡萄酒张裕赤霞珠干红\\r\\n\\r\\n\\r\\n           0       1       32   NaN   \n",
       "2761                 白胡椒胡萝卜羊肉汤           0       1       35   NaN   \n",
       "2762                     红酒炖羊肉           0       1      108   NaN   \n",
       "2763                      干锅田鸡           0       1       88   NaN   \n",
       "2764                   南瓜枸杞小饼干           0       1       19   NaN   \n",
       "2765          香烤牛排\\r\\n\\r\\n\\r\\n           0       1       55   NaN   \n",
       "2766                     白饭/大碗           0       1       10   NaN   \n",
       "2767                     芝麻烤紫菜           0       1       25   NaN   \n",
       "2768                      杭椒鸡珍           0       1       58   NaN   \n",
       "2769          泡椒凤爪\\r\\n\\r\\n\\r\\n           0       1       58   NaN   \n",
       "2770                   糖醋蕃茄溜青花           0       1       33   NaN   \n",
       "2771                      清蒸海鱼           0       1       78   NaN   \n",
       "2772                       水煮鱼           0       1       65   NaN   \n",
       "2773     独家薄荷鲜虾牛肉卷\\r\\n\\r\\n\\r\\n           0       1       45   NaN   \n",
       "2774                     白饭/大碗           0       1       10   NaN   \n",
       "2775                       牛尾汤           0       1       40   NaN   \n",
       "2776                    意文柠檬汁            0       1       13   NaN   \n",
       "2777                      金玉良缘           0       1       30   NaN   \n",
       "2778                      酸辣藕丁           0       1       33   NaN   \n",
       "\n",
       "        place_order_time  discount_amt  discount_reason  kick_back  \\\n",
       "0    2016-08-01 11:05:36           NaN              NaN        NaN   \n",
       "1    2016-08-01 11:07:07           NaN              NaN        NaN   \n",
       "2    2016-08-01 11:07:40           NaN              NaN        NaN   \n",
       "3    2016-08-01 11:11:11           NaN              NaN        NaN   \n",
       "4    2016-08-01 11:11:30           NaN              NaN        NaN   \n",
       "5    2016-08-01 11:15:57           NaN              NaN        NaN   \n",
       "6    2016-08-01 11:19:12           NaN              NaN        NaN   \n",
       "7    2016-08-01 11:22:21           NaN              NaN        NaN   \n",
       "8    2016-08-01 11:22:53           NaN              NaN        NaN   \n",
       "9    2016-08-01 11:23:56           NaN              NaN        NaN   \n",
       "10   2016-08-01 11:31:15           NaN              NaN        NaN   \n",
       "11   2016-08-01 12:42:52           NaN              NaN        NaN   \n",
       "12   2016-08-01 12:43:21           NaN              NaN        NaN   \n",
       "13   2016-08-01 12:43:34           NaN              NaN        NaN   \n",
       "14   2016-08-01 12:44:08           NaN              NaN        NaN   \n",
       "15   2016-08-01 12:44:12           NaN              NaN        NaN   \n",
       "16   2016-08-01 12:45:09           NaN              NaN        NaN   \n",
       "17   2016-08-01 12:45:24           NaN              NaN        NaN   \n",
       "18   2016-08-01 12:46:26           NaN              NaN        NaN   \n",
       "19   2016-08-01 12:48:48           NaN              NaN        NaN   \n",
       "20   2016-08-01 12:49:27           NaN              NaN        NaN   \n",
       "21   2016-08-01 12:50:03           NaN              NaN        NaN   \n",
       "22   2016-08-01 12:51:38           NaN              NaN        NaN   \n",
       "23   2016-08-01 12:51:46           NaN              NaN        NaN   \n",
       "24   2016-08-01 12:52:18           NaN              NaN        NaN   \n",
       "25   2016-08-01 12:52:37           NaN              NaN        NaN   \n",
       "26   2016-08-01 12:53:39           NaN              NaN        NaN   \n",
       "27   2016-08-01 12:54:30           NaN              NaN        NaN   \n",
       "28   2016-08-01 12:58:44           NaN              NaN        NaN   \n",
       "29   2016-08-01 12:59:03           NaN              NaN        NaN   \n",
       "...                  ...           ...              ...        ...   \n",
       "2749 2016-08-10 20:19:03           NaN              NaN        NaN   \n",
       "2750 2016-08-10 20:19:22           NaN              NaN        NaN   \n",
       "2751 2016-08-10 20:37:48           NaN              NaN        NaN   \n",
       "2752 2016-08-10 20:39:37           NaN              NaN        NaN   \n",
       "2753 2016-08-10 20:41:10           NaN              NaN        NaN   \n",
       "2754 2016-08-10 20:41:29           NaN              NaN        NaN   \n",
       "2755 2016-08-10 20:46:41           NaN              NaN        NaN   \n",
       "2756 2016-08-10 20:47:14           NaN              NaN        NaN   \n",
       "2757 2016-08-10 20:47:17           NaN              NaN        NaN   \n",
       "2758 2016-08-10 20:47:36           NaN              NaN        NaN   \n",
       "2759 2016-08-10 20:48:31           NaN              NaN        NaN   \n",
       "2760 2016-08-10 20:49:20           NaN              NaN        NaN   \n",
       "2761 2016-08-10 20:50:11           NaN              NaN        NaN   \n",
       "2762 2016-08-10 20:50:12           NaN              NaN        NaN   \n",
       "2763 2016-08-10 20:51:37           NaN              NaN        NaN   \n",
       "2764 2016-08-10 20:51:42           NaN              NaN        NaN   \n",
       "2765 2016-08-10 20:52:09           NaN              NaN        NaN   \n",
       "2766 2016-08-10 20:52:12           NaN              NaN        NaN   \n",
       "2767 2016-08-10 20:53:09           NaN              NaN        NaN   \n",
       "2768 2016-08-10 20:53:26           NaN              NaN        NaN   \n",
       "2769 2016-08-10 20:56:10           NaN              NaN        NaN   \n",
       "2770 2016-08-10 20:57:11           NaN              NaN        NaN   \n",
       "2771 2016-08-10 21:50:35           NaN              NaN        NaN   \n",
       "2772 2016-08-10 21:53:17           NaN              NaN        NaN   \n",
       "2773 2016-08-10 21:55:58           NaN              NaN        NaN   \n",
       "2774 2016-08-10 21:56:24           NaN              NaN        NaN   \n",
       "2775 2016-08-10 21:56:48           NaN              NaN        NaN   \n",
       "2776 2016-08-10 22:01:52           NaN              NaN        NaN   \n",
       "2777 2016-08-10 22:03:58           NaN              NaN        NaN   \n",
       "2778 2016-08-10 22:04:30           NaN              NaN        NaN   \n",
       "\n",
       "      add_inprice  add_info  bar_code      picture_file  emp_id  \n",
       "0               0       NaN       NaN  caipu/104001.jpg    1442  \n",
       "1               0       NaN       NaN  caipu/202003.jpg    1442  \n",
       "2               0       NaN       NaN  caipu/303001.jpg    1442  \n",
       "3               0       NaN       NaN  caipu/105002.jpg    1442  \n",
       "4               0       NaN       NaN  caipu/503002.jpg    1442  \n",
       "5               0       NaN       NaN  caipu/204002.jpg    1095  \n",
       "6               0       NaN       NaN  caipu/201001.jpg    1095  \n",
       "7               0       NaN       NaN  caipu/205003.jpg    1095  \n",
       "8               0       NaN       NaN  caipu/205001.jpg    1095  \n",
       "9               0       NaN       NaN  caipu/304004.jpg    1095  \n",
       "10              0       NaN       NaN  caipu/601005.jpg    1095  \n",
       "11              0       NaN       NaN  caipu/101001.jpg    1147  \n",
       "12              0       NaN       NaN  caipu/102005.jpg    1147  \n",
       "13              0       NaN       NaN  caipu/602002.jpg    1147  \n",
       "14              0       NaN       NaN  caipu/106003.jpg    1147  \n",
       "15              0       NaN       NaN  caipu/205003.jpg    1147  \n",
       "16              0       NaN       NaN  caipu/301004.jpg    1147  \n",
       "17              0       NaN       NaN  caipu/205004.jpg    1147  \n",
       "18              0       NaN       NaN  caipu/302002.jpg    1147  \n",
       "19              0       NaN       NaN  caipu/401001.jpg    1147  \n",
       "20              0       NaN       NaN  caipu/502003.jpg    1147  \n",
       "21              0       NaN       NaN  caipu/601001.jpg    1147  \n",
       "22              0       NaN       NaN  caipu/102004.jpg    1166  \n",
       "23              0       NaN       NaN  caipu/201002.jpg    1147  \n",
       "24              0       NaN       NaN  caipu/302001.jpg    1147  \n",
       "25              0       NaN       NaN  caipu/104003.jpg    1166  \n",
       "26              0       NaN       NaN  caipu/204006.jpg    1147  \n",
       "27              0       NaN       NaN  caipu/203002.jpg    1147  \n",
       "28              0       NaN       NaN  caipu/203001.jpg    1094  \n",
       "29              0       NaN       NaN  caipu/202005.jpg    1166  \n",
       "...           ...       ...       ...               ...     ...  \n",
       "2749            0       NaN       NaN  caipu/103005.jpg    1153  \n",
       "2750            0       NaN       NaN  caipu/303003.jpg    1153  \n",
       "2751            0       NaN       NaN  caipu/101006.jpg    1133  \n",
       "2752            0       NaN       NaN  caipu/603005.jpg    1133  \n",
       "2753            0       NaN       NaN  caipu/101006.jpg    1112  \n",
       "2754            0       NaN       NaN  caipu/103003.jpg    1112  \n",
       "2755            0       NaN       NaN  caipu/404002.jpg    1112  \n",
       "2756            0       NaN       NaN  caipu/303004.jpg    1112  \n",
       "2757            0       NaN       NaN  caipu/202003.jpg    1112  \n",
       "2758            0       NaN       NaN  caipu/103005.jpg    1112  \n",
       "2759            0       NaN       NaN  caipu/603004.jpg    1133  \n",
       "2760            0       NaN       NaN  caipu/402002.jpg    1133  \n",
       "2761            0       NaN       NaN  caipu/202006.jpg    1112  \n",
       "2762            0       NaN       NaN  caipu/202001.jpg    1112  \n",
       "2763            0       NaN       NaN  caipu/205003.jpg    1112  \n",
       "2764            0       NaN       NaN  caipu/502004.jpg    1112  \n",
       "2765            0       NaN       NaN  caipu/201001.jpg    1112  \n",
       "2766            0       NaN       NaN  caipu/601005.jpg    1112  \n",
       "2767            0       NaN       NaN  caipu/105002.jpg    1112  \n",
       "2768            0       NaN       NaN  caipu/204005.jpg    1112  \n",
       "2769            0       NaN       NaN  caipu/204003.jpg    1112  \n",
       "2770            0       NaN       NaN  caipu/304005.jpg    1112  \n",
       "2771            0       NaN       NaN  caipu/103002.jpg    1138  \n",
       "2772            0       NaN       NaN  caipu/103005.jpg    1138  \n",
       "2773            0       NaN       NaN  caipu/201004.jpg    1138  \n",
       "2774            0       NaN       NaN  caipu/601005.jpg    1138  \n",
       "2775            0       NaN       NaN  caipu/201006.jpg    1138  \n",
       "2776            0       NaN       NaN  caipu/404005.jpg    1138  \n",
       "2777            0       NaN       NaN  caipu/302003.jpg    1138  \n",
       "2778            0       NaN       NaN  caipu/302006.jpg    1138  \n",
       "\n",
       "[2779 rows x 19 columns]"
      ]
     },
     "execution_count": 3,
     "metadata": {},
     "output_type": "execute_result"
    }
   ],
   "source": [
    "detail_one"
   ]
  },
  {
   "cell_type": "code",
   "execution_count": 4,
   "metadata": {
    "ExecuteTime": {
     "end_time": "2019-07-31T06:49:18.462825Z",
     "start_time": "2019-07-31T06:49:18.451816Z"
    }
   },
   "outputs": [
    {
     "name": "stdout",
     "output_type": "stream",
     "text": [
      "订单详情表中的order_id的形状为: \n",
      " 0    417\n",
      "1    417\n",
      "2    417\n",
      "3    417\n",
      "4    417\n",
      "Name: order_id, dtype: int64\n"
     ]
    }
   ],
   "source": [
    "#数据的读取\n",
    "\n",
    "order_id=detail_one['order_id']\n",
    "print('订单详情表中的order_id的形状为:','\\n',order_id[:5])"
   ]
  },
  {
   "cell_type": "markdown",
   "metadata": {},
   "source": [
    "## loc, iloc ,lx的区别"
   ]
  },
  {
   "cell_type": "code",
   "execution_count": 5,
   "metadata": {
    "ExecuteTime": {
     "end_time": "2019-07-31T06:49:18.485838Z",
     "start_time": "2019-07-31T06:49:18.469829Z"
    }
   },
   "outputs": [
    {
     "data": {
      "text/plain": [
       "0                 蒜蓉生蚝\n",
       "1    蒙古烤羊腿\\r\\n\\r\\n\\r\\n\n",
       "2                 大蒜苋菜\n",
       "3                芝麻烤紫菜\n",
       "4                  蒜香包\n",
       "Name: dishes_name, dtype: object"
      ]
     },
     "execution_count": 5,
     "metadata": {},
     "output_type": "execute_result"
    }
   ],
   "source": [
    "dishes_name1=detail_one.loc[:,'dishes_name']\n",
    "dishes_name1.head()"
   ]
  },
  {
   "cell_type": "code",
   "execution_count": 6,
   "metadata": {
    "ExecuteTime": {
     "end_time": "2019-07-31T06:49:18.506852Z",
     "start_time": "2019-07-31T06:49:18.491843Z"
    }
   },
   "outputs": [
    {
     "data": {
      "text/plain": [
       "0                 蒜蓉生蚝\n",
       "1    蒙古烤羊腿\\r\\n\\r\\n\\r\\n\n",
       "2                 大蒜苋菜\n",
       "3                芝麻烤紫菜\n",
       "4                  蒜香包\n",
       "Name: dishes_name, dtype: object"
      ]
     },
     "execution_count": 6,
     "metadata": {},
     "output_type": "execute_result"
    }
   ],
   "source": [
    "dishes_name2=detail_one.iloc[:,5]\n",
    "dishes_name2.head()"
   ]
  },
  {
   "cell_type": "code",
   "execution_count": 7,
   "metadata": {
    "ExecuteTime": {
     "end_time": "2019-07-31T06:49:18.524865Z",
     "start_time": "2019-07-31T06:49:18.511856Z"
    }
   },
   "outputs": [
    {
     "name": "stderr",
     "output_type": "stream",
     "text": [
      "F:\\Python_All\\Anaconda3-5.1.0\\lib\\site-packages\\ipykernel_launcher.py:2: DeprecationWarning: \n",
      ".ix is deprecated. Please use\n",
      ".loc for label based indexing or\n",
      ".iloc for positional indexing\n",
      "\n",
      "See the documentation here:\n",
      "http://pandas.pydata.org/pandas-docs/stable/indexing.html#ix-indexer-is-deprecated\n",
      "  \n"
     ]
    },
    {
     "data": {
      "text/plain": [
       "2        大蒜苋菜\n",
       "3       芝麻烤紫菜\n",
       "4         蒜香包\n",
       "5         白斩鸡\n",
       "6    香烤牛排\\r\\n\n",
       "Name: dishes_name, dtype: object"
      ]
     },
     "execution_count": 7,
     "metadata": {},
     "output_type": "execute_result"
    }
   ],
   "source": [
    "#dishes_name2.ix[:4]\n",
    "detail_one.ix[2:6,'dishes_name']"
   ]
  },
  {
   "cell_type": "code",
   "execution_count": 8,
   "metadata": {
    "ExecuteTime": {
     "end_time": "2019-07-31T06:49:18.548880Z",
     "start_time": "2019-07-31T06:49:18.530869Z"
    }
   },
   "outputs": [
    {
     "data": {
      "text/plain": [
       "order_id         417\n",
       "dishes_name    芝麻烤紫菜\n",
       "Name: 3, dtype: object"
      ]
     },
     "execution_count": 8,
     "metadata": {},
     "output_type": "execute_result"
    }
   ],
   "source": [
    "detail_one.loc[3,['order_id','dishes_name']]"
   ]
  },
  {
   "cell_type": "code",
   "execution_count": 9,
   "metadata": {
    "ExecuteTime": {
     "end_time": "2019-07-31T06:49:18.576901Z",
     "start_time": "2019-07-31T06:49:18.553884Z"
    }
   },
   "outputs": [
    {
     "data": {
      "text/html": [
       "<div>\n",
       "<style scoped>\n",
       "    .dataframe tbody tr th:only-of-type {\n",
       "        vertical-align: middle;\n",
       "    }\n",
       "\n",
       "    .dataframe tbody tr th {\n",
       "        vertical-align: top;\n",
       "    }\n",
       "\n",
       "    .dataframe thead th {\n",
       "        text-align: right;\n",
       "    }\n",
       "</style>\n",
       "<table border=\"1\" class=\"dataframe\">\n",
       "  <thead>\n",
       "    <tr style=\"text-align: right;\">\n",
       "      <th></th>\n",
       "      <th>order_id</th>\n",
       "      <th>dishes_name</th>\n",
       "    </tr>\n",
       "  </thead>\n",
       "  <tbody>\n",
       "    <tr>\n",
       "      <th>145</th>\n",
       "      <td>458</td>\n",
       "      <td>蒜香辣花甲</td>\n",
       "    </tr>\n",
       "    <tr>\n",
       "      <th>146</th>\n",
       "      <td>458</td>\n",
       "      <td>剁椒鱼头</td>\n",
       "    </tr>\n",
       "    <tr>\n",
       "      <th>147</th>\n",
       "      <td>458</td>\n",
       "      <td>凉拌蒜蓉西兰花</td>\n",
       "    </tr>\n",
       "    <tr>\n",
       "      <th>148</th>\n",
       "      <td>458</td>\n",
       "      <td>木须豌豆</td>\n",
       "    </tr>\n",
       "    <tr>\n",
       "      <th>149</th>\n",
       "      <td>458</td>\n",
       "      <td>辣炒鱿鱼</td>\n",
       "    </tr>\n",
       "    <tr>\n",
       "      <th>150</th>\n",
       "      <td>458</td>\n",
       "      <td>酸辣藕丁</td>\n",
       "    </tr>\n",
       "    <tr>\n",
       "      <th>151</th>\n",
       "      <td>458</td>\n",
       "      <td>炝炒大白菜</td>\n",
       "    </tr>\n",
       "    <tr>\n",
       "      <th>152</th>\n",
       "      <td>458</td>\n",
       "      <td>香菇鸡肉粥</td>\n",
       "    </tr>\n",
       "    <tr>\n",
       "      <th>153</th>\n",
       "      <td>458</td>\n",
       "      <td>干锅田鸡</td>\n",
       "    </tr>\n",
       "    <tr>\n",
       "      <th>154</th>\n",
       "      <td>458</td>\n",
       "      <td>桂圆枸杞鸽子汤</td>\n",
       "    </tr>\n",
       "    <tr>\n",
       "      <th>155</th>\n",
       "      <td>458</td>\n",
       "      <td>五香酱驴肉\\r\\n\\r\\n\\r\\n</td>\n",
       "    </tr>\n",
       "    <tr>\n",
       "      <th>156</th>\n",
       "      <td>458</td>\n",
       "      <td>路易拉菲红酒干红</td>\n",
       "    </tr>\n",
       "    <tr>\n",
       "      <th>157</th>\n",
       "      <td>458</td>\n",
       "      <td>避风塘炒蟹</td>\n",
       "    </tr>\n",
       "    <tr>\n",
       "      <th>158</th>\n",
       "      <td>458</td>\n",
       "      <td>白饭/大碗</td>\n",
       "    </tr>\n",
       "  </tbody>\n",
       "</table>\n",
       "</div>"
      ],
      "text/plain": [
       "     order_id        dishes_name\n",
       "145       458              蒜香辣花甲\n",
       "146       458               剁椒鱼头\n",
       "147       458            凉拌蒜蓉西兰花\n",
       "148       458               木须豌豆\n",
       "149       458               辣炒鱿鱼\n",
       "150       458               酸辣藕丁\n",
       "151       458              炝炒大白菜\n",
       "152       458              香菇鸡肉粥\n",
       "153       458               干锅田鸡\n",
       "154       458            桂圆枸杞鸽子汤\n",
       "155       458  五香酱驴肉\\r\\n\\r\\n\\r\\n\n",
       "156       458           路易拉菲红酒干红\n",
       "157       458              避风塘炒蟹\n",
       "158       458              白饭/大碗"
      ]
     },
     "execution_count": 9,
     "metadata": {},
     "output_type": "execute_result"
    }
   ],
   "source": [
    "detail_one.iloc[(detail_one['order_id']==458).values,[1,5]]"
   ]
  },
  {
   "cell_type": "code",
   "execution_count": 10,
   "metadata": {
    "ExecuteTime": {
     "end_time": "2019-07-31T06:49:18.587907Z",
     "start_time": "2019-07-31T06:49:18.580904Z"
    }
   },
   "outputs": [],
   "source": [
    "import numpy as np\n",
    "from pandas import Series,DataFrame\n",
    "import pandas as pd"
   ]
  },
  {
   "cell_type": "code",
   "execution_count": 11,
   "metadata": {
    "ExecuteTime": {
     "end_time": "2019-07-31T06:49:18.609921Z",
     "start_time": "2019-07-31T06:49:18.593911Z"
    }
   },
   "outputs": [
    {
     "name": "stdout",
     "output_type": "stream",
     "text": [
      "a    1\n",
      "b    2\n",
      "c    3\n",
      "dtype: int64\n",
      "1\n",
      "Index(['a', 'b', 'c'], dtype='object')\n"
     ]
    }
   ],
   "source": [
    "a=Series({'a':1,'b':2,'c':3})\n",
    "print(a)\n",
    "print(a.ndim)\n",
    "print(a.index)"
   ]
  },
  {
   "cell_type": "code",
   "execution_count": 12,
   "metadata": {
    "ExecuteTime": {
     "end_time": "2019-07-31T06:49:18.624931Z",
     "start_time": "2019-07-31T06:49:18.615926Z"
    }
   },
   "outputs": [
    {
     "name": "stdout",
     "output_type": "stream",
     "text": [
      "a    1\n",
      "b    2\n",
      "c    3\n",
      "Name: state, dtype: int64\n"
     ]
    }
   ],
   "source": [
    "a.name = 'state'\n",
    "print(a)"
   ]
  },
  {
   "cell_type": "code",
   "execution_count": 13,
   "metadata": {
    "ExecuteTime": {
     "end_time": "2019-07-31T06:49:18.636939Z",
     "start_time": "2019-07-31T06:49:18.628934Z"
    }
   },
   "outputs": [
    {
     "name": "stdout",
     "output_type": "stream",
     "text": [
      "as    1\n",
      "2     2\n",
      "3     3\n",
      "Name: state, dtype: int64\n"
     ]
    }
   ],
   "source": [
    "a.index=['as','2','3']\n",
    "print(a)"
   ]
  },
  {
   "cell_type": "code",
   "execution_count": 14,
   "metadata": {
    "ExecuteTime": {
     "end_time": "2019-07-31T06:49:18.651949Z",
     "start_time": "2019-07-31T06:49:18.642945Z"
    }
   },
   "outputs": [
    {
     "name": "stdout",
     "output_type": "stream",
     "text": [
      "[1 2 3]\n"
     ]
    }
   ],
   "source": [
    "b=np.copy(a)\n",
    "print(b)"
   ]
  },
  {
   "cell_type": "code",
   "execution_count": 15,
   "metadata": {
    "ExecuteTime": {
     "end_time": "2019-07-31T06:49:18.668961Z",
     "start_time": "2019-07-31T06:49:18.658953Z"
    }
   },
   "outputs": [
    {
     "data": {
      "text/plain": [
       "2    2\n",
       "3    3\n",
       "Name: state, dtype: int64"
      ]
     },
     "execution_count": 15,
     "metadata": {},
     "output_type": "execute_result"
    }
   ],
   "source": [
    "a.drop('as')"
   ]
  },
  {
   "cell_type": "code",
   "execution_count": 16,
   "metadata": {
    "ExecuteTime": {
     "end_time": "2019-07-31T06:49:18.689975Z",
     "start_time": "2019-07-31T06:49:18.673965Z"
    }
   },
   "outputs": [
    {
     "name": "stdout",
     "output_type": "stream",
     "text": [
      "   one  two  three  four\n",
      "1    0    1      2     3\n",
      "2    4    5      6     7\n",
      "3    8    9     10    11\n",
      "4   12   13     14    15\n"
     ]
    }
   ],
   "source": [
    "import numpy as np\n",
    "c=DataFrame(np.arange(16).reshape(4,4),index=[1,2,3,4],\n",
    "            columns=['one','two','three','four'])\n",
    "print(c)"
   ]
  },
  {
   "cell_type": "code",
   "execution_count": 17,
   "metadata": {
    "ExecuteTime": {
     "end_time": "2019-07-31T06:49:18.710988Z",
     "start_time": "2019-07-31T06:49:18.693978Z"
    }
   },
   "outputs": [
    {
     "data": {
      "text/html": [
       "<div>\n",
       "<style scoped>\n",
       "    .dataframe tbody tr th:only-of-type {\n",
       "        vertical-align: middle;\n",
       "    }\n",
       "\n",
       "    .dataframe tbody tr th {\n",
       "        vertical-align: top;\n",
       "    }\n",
       "\n",
       "    .dataframe thead th {\n",
       "        text-align: right;\n",
       "    }\n",
       "</style>\n",
       "<table border=\"1\" class=\"dataframe\">\n",
       "  <thead>\n",
       "    <tr style=\"text-align: right;\">\n",
       "      <th></th>\n",
       "      <th>two</th>\n",
       "      <th>three</th>\n",
       "      <th>four</th>\n",
       "    </tr>\n",
       "  </thead>\n",
       "  <tbody>\n",
       "    <tr>\n",
       "      <th>1</th>\n",
       "      <td>1</td>\n",
       "      <td>2</td>\n",
       "      <td>3</td>\n",
       "    </tr>\n",
       "    <tr>\n",
       "      <th>2</th>\n",
       "      <td>5</td>\n",
       "      <td>6</td>\n",
       "      <td>7</td>\n",
       "    </tr>\n",
       "    <tr>\n",
       "      <th>3</th>\n",
       "      <td>9</td>\n",
       "      <td>10</td>\n",
       "      <td>11</td>\n",
       "    </tr>\n",
       "    <tr>\n",
       "      <th>4</th>\n",
       "      <td>13</td>\n",
       "      <td>14</td>\n",
       "      <td>15</td>\n",
       "    </tr>\n",
       "  </tbody>\n",
       "</table>\n",
       "</div>"
      ],
      "text/plain": [
       "   two  three  four\n",
       "1    1      2     3\n",
       "2    5      6     7\n",
       "3    9     10    11\n",
       "4   13     14    15"
      ]
     },
     "execution_count": 17,
     "metadata": {},
     "output_type": "execute_result"
    }
   ],
   "source": [
    "c.drop(['one'],axis=1)    #删除指定轴数据    axis=1 列   ==0  行"
   ]
  },
  {
   "cell_type": "code",
   "execution_count": 18,
   "metadata": {
    "ExecuteTime": {
     "end_time": "2019-07-31T06:49:18.724999Z",
     "start_time": "2019-07-31T06:49:18.715992Z"
    }
   },
   "outputs": [
    {
     "name": "stdout",
     "output_type": "stream",
     "text": [
      "a    0\n",
      "b    1\n",
      "c    2\n",
      "d    3\n",
      "dtype: int32\n"
     ]
    }
   ],
   "source": [
    "d=Series(np.arange(4),index=['a','b','c','d'])\n",
    "print(d)"
   ]
  },
  {
   "cell_type": "code",
   "execution_count": 19,
   "metadata": {
    "ExecuteTime": {
     "end_time": "2019-07-31T06:49:18.742011Z",
     "start_time": "2019-07-31T06:49:18.729001Z"
    }
   },
   "outputs": [
    {
     "data": {
      "text/plain": [
       "2    2\n",
       "3    3\n",
       "Name: state, dtype: int64"
      ]
     },
     "execution_count": 19,
     "metadata": {},
     "output_type": "execute_result"
    }
   ],
   "source": [
    "a[1:3]"
   ]
  },
  {
   "cell_type": "code",
   "execution_count": 20,
   "metadata": {
    "ExecuteTime": {
     "end_time": "2019-07-31T06:49:18.757020Z",
     "start_time": "2019-07-31T06:49:18.746012Z"
    }
   },
   "outputs": [
    {
     "data": {
      "text/plain": [
       "<bound method Series.sort_values of as    1\n",
       "2     2\n",
       "3     3\n",
       "Name: state, dtype: int64>"
      ]
     },
     "execution_count": 20,
     "metadata": {},
     "output_type": "execute_result"
    }
   ],
   "source": [
    "a.sort_values"
   ]
  },
  {
   "cell_type": "code",
   "execution_count": 21,
   "metadata": {
    "ExecuteTime": {
     "end_time": "2019-07-31T06:49:18.776031Z",
     "start_time": "2019-07-31T06:49:18.761022Z"
    }
   },
   "outputs": [
    {
     "data": {
      "text/plain": [
       "3    1\n",
       "2    1\n",
       "1    1\n",
       "Name: state, dtype: int64"
      ]
     },
     "execution_count": 21,
     "metadata": {},
     "output_type": "execute_result"
    }
   ],
   "source": [
    "a.value_counts()"
   ]
  },
  {
   "cell_type": "code",
   "execution_count": 22,
   "metadata": {
    "ExecuteTime": {
     "end_time": "2019-07-31T06:49:18.789040Z",
     "start_time": "2019-07-31T06:49:18.782035Z"
    }
   },
   "outputs": [],
   "source": [
    "from numpy import nan as NA\n",
    "data=Series([1,NA,3,6,0])"
   ]
  },
  {
   "cell_type": "code",
   "execution_count": 23,
   "metadata": {
    "ExecuteTime": {
     "end_time": "2019-07-31T06:49:18.807053Z",
     "start_time": "2019-07-31T06:49:18.794043Z"
    }
   },
   "outputs": [
    {
     "data": {
      "text/plain": [
       "0    1.0\n",
       "1    NaN\n",
       "2    3.0\n",
       "3    6.0\n",
       "4    0.0\n",
       "dtype: float64"
      ]
     },
     "execution_count": 23,
     "metadata": {},
     "output_type": "execute_result"
    }
   ],
   "source": [
    "data"
   ]
  },
  {
   "cell_type": "code",
   "execution_count": 24,
   "metadata": {
    "ExecuteTime": {
     "end_time": "2019-07-31T06:49:18.825067Z",
     "start_time": "2019-07-31T06:49:18.812057Z"
    }
   },
   "outputs": [
    {
     "data": {
      "text/plain": [
       "0    1.0\n",
       "2    3.0\n",
       "3    6.0\n",
       "4    0.0\n",
       "dtype: float64"
      ]
     },
     "execution_count": 24,
     "metadata": {},
     "output_type": "execute_result"
    }
   ],
   "source": [
    "data.dropna()"
   ]
  },
  {
   "cell_type": "code",
   "execution_count": 25,
   "metadata": {
    "ExecuteTime": {
     "end_time": "2019-07-31T06:49:18.845077Z",
     "start_time": "2019-07-31T06:49:18.830068Z"
    }
   },
   "outputs": [
    {
     "name": "stdout",
     "output_type": "stream",
     "text": [
      "     0    1    2\n",
      "0  1.0  2.0  3.0\n",
      "1  2.0  NaN  3.0\n",
      "2  NaN  NaN  NaN\n",
      "3  3.0  4.0  2.0\n"
     ]
    }
   ],
   "source": [
    "data1=DataFrame([[1,2,3],[2,NA,3],[NA,NA,NA],[3,4,2]])\n",
    "print(data1)"
   ]
  },
  {
   "cell_type": "code",
   "execution_count": 26,
   "metadata": {
    "ExecuteTime": {
     "end_time": "2019-07-31T06:49:18.868094Z",
     "start_time": "2019-07-31T06:49:18.851081Z"
    }
   },
   "outputs": [
    {
     "data": {
      "text/html": [
       "<div>\n",
       "<style scoped>\n",
       "    .dataframe tbody tr th:only-of-type {\n",
       "        vertical-align: middle;\n",
       "    }\n",
       "\n",
       "    .dataframe tbody tr th {\n",
       "        vertical-align: top;\n",
       "    }\n",
       "\n",
       "    .dataframe thead th {\n",
       "        text-align: right;\n",
       "    }\n",
       "</style>\n",
       "<table border=\"1\" class=\"dataframe\">\n",
       "  <thead>\n",
       "    <tr style=\"text-align: right;\">\n",
       "      <th></th>\n",
       "      <th>0</th>\n",
       "      <th>1</th>\n",
       "      <th>2</th>\n",
       "    </tr>\n",
       "  </thead>\n",
       "  <tbody>\n",
       "    <tr>\n",
       "      <th>0</th>\n",
       "      <td>1.0</td>\n",
       "      <td>2.0</td>\n",
       "      <td>3.0</td>\n",
       "    </tr>\n",
       "    <tr>\n",
       "      <th>1</th>\n",
       "      <td>2.0</td>\n",
       "      <td>NaN</td>\n",
       "      <td>3.0</td>\n",
       "    </tr>\n",
       "    <tr>\n",
       "      <th>3</th>\n",
       "      <td>3.0</td>\n",
       "      <td>4.0</td>\n",
       "      <td>2.0</td>\n",
       "    </tr>\n",
       "  </tbody>\n",
       "</table>\n",
       "</div>"
      ],
      "text/plain": [
       "     0    1    2\n",
       "0  1.0  2.0  3.0\n",
       "1  2.0  NaN  3.0\n",
       "3  3.0  4.0  2.0"
      ]
     },
     "execution_count": 26,
     "metadata": {},
     "output_type": "execute_result"
    }
   ],
   "source": [
    "data1.dropna(how='all')"
   ]
  },
  {
   "cell_type": "code",
   "execution_count": 27,
   "metadata": {
    "ExecuteTime": {
     "end_time": "2019-07-31T06:49:18.892109Z",
     "start_time": "2019-07-31T06:49:18.874098Z"
    }
   },
   "outputs": [
    {
     "data": {
      "text/html": [
       "<div>\n",
       "<style scoped>\n",
       "    .dataframe tbody tr th:only-of-type {\n",
       "        vertical-align: middle;\n",
       "    }\n",
       "\n",
       "    .dataframe tbody tr th {\n",
       "        vertical-align: top;\n",
       "    }\n",
       "\n",
       "    .dataframe thead th {\n",
       "        text-align: right;\n",
       "    }\n",
       "</style>\n",
       "<table border=\"1\" class=\"dataframe\">\n",
       "  <thead>\n",
       "    <tr style=\"text-align: right;\">\n",
       "      <th></th>\n",
       "      <th>0</th>\n",
       "      <th>1</th>\n",
       "      <th>2</th>\n",
       "    </tr>\n",
       "  </thead>\n",
       "  <tbody>\n",
       "    <tr>\n",
       "      <th>0</th>\n",
       "      <td>1.0</td>\n",
       "      <td>2.0</td>\n",
       "      <td>3.0</td>\n",
       "    </tr>\n",
       "    <tr>\n",
       "      <th>1</th>\n",
       "      <td>2.0</td>\n",
       "      <td>0.0</td>\n",
       "      <td>3.0</td>\n",
       "    </tr>\n",
       "    <tr>\n",
       "      <th>2</th>\n",
       "      <td>0.0</td>\n",
       "      <td>0.0</td>\n",
       "      <td>0.0</td>\n",
       "    </tr>\n",
       "    <tr>\n",
       "      <th>3</th>\n",
       "      <td>3.0</td>\n",
       "      <td>4.0</td>\n",
       "      <td>2.0</td>\n",
       "    </tr>\n",
       "  </tbody>\n",
       "</table>\n",
       "</div>"
      ],
      "text/plain": [
       "     0    1    2\n",
       "0  1.0  2.0  3.0\n",
       "1  2.0  0.0  3.0\n",
       "2  0.0  0.0  0.0\n",
       "3  3.0  4.0  2.0"
      ]
     },
     "execution_count": 27,
     "metadata": {},
     "output_type": "execute_result"
    }
   ],
   "source": [
    "data1.fillna(0)"
   ]
  },
  {
   "cell_type": "code",
   "execution_count": 28,
   "metadata": {
    "ExecuteTime": {
     "end_time": "2019-07-31T06:49:18.905118Z",
     "start_time": "2019-07-31T06:49:18.895112Z"
    }
   },
   "outputs": [
    {
     "ename": "SyntaxError",
     "evalue": "invalid syntax (<ipython-input-28-241175849ca7>, line 1)",
     "output_type": "error",
     "traceback": [
      "\u001b[1;36m  File \u001b[1;32m\"<ipython-input-28-241175849ca7>\"\u001b[1;36m, line \u001b[1;32m1\u001b[0m\n\u001b[1;33m    data.replace(1,'ss')``\u001b[0m\n\u001b[1;37m                        ^\u001b[0m\n\u001b[1;31mSyntaxError\u001b[0m\u001b[1;31m:\u001b[0m invalid syntax\n"
     ]
    }
   ],
   "source": [
    "data.replace(1,'ss')``"
   ]
  },
  {
   "cell_type": "code",
   "execution_count": null,
   "metadata": {
    "ExecuteTime": {
     "end_time": "2019-07-31T06:49:18.915124Z",
     "start_time": "2019-07-31T06:49:15.183Z"
    }
   },
   "outputs": [],
   "source": [
    "data1.replace(['2','3'],1)"
   ]
  },
  {
   "cell_type": "code",
   "execution_count": null,
   "metadata": {
    "ExecuteTime": {
     "end_time": "2019-07-31T06:49:18.919126Z",
     "start_time": "2019-07-31T06:49:15.189Z"
    }
   },
   "outputs": [],
   "source": [
    "ages = [18,20,36,23,34,45,32,45,67,88]\n",
    "bins = [18,22,35,60,100]"
   ]
  },
  {
   "cell_type": "code",
   "execution_count": null,
   "metadata": {
    "ExecuteTime": {
     "end_time": "2019-07-31T06:49:18.923131Z",
     "start_time": "2019-07-31T06:49:15.193Z"
    }
   },
   "outputs": [],
   "source": [
    "import pandas as pd\n",
    "cats = pd.cut(ages,bins)\n",
    "print(cats)   "
   ]
  },
  {
   "cell_type": "markdown",
   "metadata": {},
   "source": [
    "## DateFrame"
   ]
  },
  {
   "cell_type": "code",
   "execution_count": null,
   "metadata": {
    "ExecuteTime": {
     "end_time": "2019-07-31T06:49:18.926132Z",
     "start_time": "2019-07-31T06:49:15.198Z"
    }
   },
   "outputs": [],
   "source": [
    "a1 = DataFrame({'a':[1,2,3],'b':[4,5,6],'c':[7,8,9]})"
   ]
  },
  {
   "cell_type": "code",
   "execution_count": null,
   "metadata": {
    "ExecuteTime": {
     "end_time": "2019-07-31T06:49:18.930135Z",
     "start_time": "2019-07-31T06:49:15.205Z"
    }
   },
   "outputs": [],
   "source": [
    "a2= DataFrame({'a':[1,2,3],'b':[4,5,6],'c':[7,8,9]},index=['1','2','3'])"
   ]
  },
  {
   "cell_type": "code",
   "execution_count": null,
   "metadata": {
    "ExecuteTime": {
     "end_time": "2019-07-31T06:49:18.934137Z",
     "start_time": "2019-07-31T06:49:15.210Z"
    }
   },
   "outputs": [],
   "source": [
    "a2"
   ]
  },
  {
   "cell_type": "code",
   "execution_count": null,
   "metadata": {
    "ExecuteTime": {
     "end_time": "2019-07-31T06:49:18.939140Z",
     "start_time": "2019-07-31T06:49:15.214Z"
    }
   },
   "outputs": [],
   "source": [
    "data= {'year':[1,2,3],'month':[4,5,6],'day':[7,8,9]}"
   ]
  },
  {
   "cell_type": "code",
   "execution_count": null,
   "metadata": {
    "ExecuteTime": {
     "end_time": "2019-07-31T06:49:18.944144Z",
     "start_time": "2019-07-31T06:49:15.218Z"
    }
   },
   "outputs": [],
   "source": [
    "frame = DataFrame(data,columns=['year','month','day'],index=['one','two','three'])"
   ]
  },
  {
   "cell_type": "code",
   "execution_count": null,
   "metadata": {
    "ExecuteTime": {
     "end_time": "2019-07-31T06:49:18.948145Z",
     "start_time": "2019-07-31T06:49:15.225Z"
    }
   },
   "outputs": [],
   "source": [
    "frame"
   ]
  },
  {
   "cell_type": "code",
   "execution_count": null,
   "metadata": {
    "ExecuteTime": {
     "end_time": "2019-07-31T06:49:18.951147Z",
     "start_time": "2019-07-31T06:49:15.229Z"
    }
   },
   "outputs": [],
   "source": [
    "s=frame.copy()\n",
    "s"
   ]
  },
  {
   "cell_type": "code",
   "execution_count": null,
   "metadata": {
    "ExecuteTime": {
     "end_time": "2019-07-31T06:49:18.954151Z",
     "start_time": "2019-07-31T06:49:15.237Z"
    }
   },
   "outputs": [],
   "source": [
    "s['year']=1,2,3\n",
    "s"
   ]
  },
  {
   "cell_type": "code",
   "execution_count": null,
   "metadata": {
    "ExecuteTime": {
     "end_time": "2019-07-31T06:49:18.957153Z",
     "start_time": "2019-07-31T06:49:15.249Z"
    }
   },
   "outputs": [],
   "source": [
    "frame"
   ]
  },
  {
   "cell_type": "markdown",
   "metadata": {},
   "source": [
    "## 排序"
   ]
  },
  {
   "cell_type": "code",
   "execution_count": null,
   "metadata": {
    "ExecuteTime": {
     "end_time": "2019-07-31T06:49:18.960155Z",
     "start_time": "2019-07-31T06:49:15.254Z"
    }
   },
   "outputs": [],
   "source": [
    "a = Series(range(4),index=['e','g','f','h'])"
   ]
  },
  {
   "cell_type": "code",
   "execution_count": null,
   "metadata": {
    "ExecuteTime": {
     "end_time": "2019-07-31T06:49:18.962157Z",
     "start_time": "2019-07-31T06:49:15.259Z"
    }
   },
   "outputs": [],
   "source": [
    "a"
   ]
  },
  {
   "cell_type": "code",
   "execution_count": null,
   "metadata": {
    "ExecuteTime": {
     "end_time": "2019-07-31T06:49:18.966158Z",
     "start_time": "2019-07-31T06:49:15.264Z"
    }
   },
   "outputs": [],
   "source": [
    "a.sort_index()"
   ]
  },
  {
   "cell_type": "code",
   "execution_count": null,
   "metadata": {
    "ExecuteTime": {
     "end_time": "2019-07-31T06:49:18.969161Z",
     "start_time": "2019-07-31T06:49:15.272Z"
    }
   },
   "outputs": [],
   "source": [
    "b = DataFrame(np.arange(8).reshape(2,-1),index=['three','one'],columns=['d','a','c','b'])\n",
    "b"
   ]
  },
  {
   "cell_type": "code",
   "execution_count": null,
   "metadata": {
    "ExecuteTime": {
     "end_time": "2019-07-31T06:49:18.972163Z",
     "start_time": "2019-07-31T06:49:15.279Z"
    }
   },
   "outputs": [],
   "source": [
    "#axis分0,1轴\n",
    "b.sort_index(axis=0)"
   ]
  },
  {
   "cell_type": "code",
   "execution_count": null,
   "metadata": {
    "ExecuteTime": {
     "end_time": "2019-07-31T06:49:18.975164Z",
     "start_time": "2019-07-31T06:49:15.296Z"
    }
   },
   "outputs": [],
   "source": [
    "b.sort_index(axis=1)"
   ]
  },
  {
   "cell_type": "code",
   "execution_count": null,
   "metadata": {
    "ExecuteTime": {
     "end_time": "2019-07-31T06:49:18.977166Z",
     "start_time": "2019-07-31T06:49:15.302Z"
    }
   },
   "outputs": [],
   "source": [
    "c = DataFrame({'a':[4,5,2,1],'b':[0,2,3,1]})\n",
    "c"
   ]
  },
  {
   "cell_type": "code",
   "execution_count": null,
   "metadata": {
    "ExecuteTime": {
     "end_time": "2019-07-31T06:49:18.980169Z",
     "start_time": "2019-07-31T06:49:15.309Z"
    }
   },
   "outputs": [],
   "source": [
    "c.sort_values(by='b')"
   ]
  },
  {
   "cell_type": "code",
   "execution_count": null,
   "metadata": {
    "ExecuteTime": {
     "end_time": "2019-07-31T06:49:18.984169Z",
     "start_time": "2019-07-31T06:49:15.314Z"
    }
   },
   "outputs": [],
   "source": [
    "c.sort_values(by=['a','b'])"
   ]
  },
  {
   "cell_type": "code",
   "execution_count": null,
   "metadata": {
    "ExecuteTime": {
     "end_time": "2019-07-31T06:49:18.987173Z",
     "start_time": "2019-07-31T06:49:15.319Z"
    }
   },
   "outputs": [],
   "source": [
    "a.is_unique"
   ]
  },
  {
   "cell_type": "code",
   "execution_count": null,
   "metadata": {
    "ExecuteTime": {
     "end_time": "2019-07-31T06:49:18.990175Z",
     "start_time": "2019-07-31T06:49:15.326Z"
    }
   },
   "outputs": [],
   "source": [
    "a.index.is_unique"
   ]
  },
  {
   "cell_type": "code",
   "execution_count": null,
   "metadata": {
    "ExecuteTime": {
     "end_time": "2019-07-31T06:49:18.992175Z",
     "start_time": "2019-07-31T06:49:15.330Z"
    }
   },
   "outputs": [],
   "source": [
    "df = DataFrame([[1,2,4,3],[4,5,6,2]],index=['one','two'],columns=['a','b','c','d'])"
   ]
  },
  {
   "cell_type": "code",
   "execution_count": null,
   "metadata": {
    "ExecuteTime": {
     "end_time": "2019-07-31T06:49:18.995179Z",
     "start_time": "2019-07-31T06:49:15.336Z"
    }
   },
   "outputs": [],
   "source": [
    "df"
   ]
  },
  {
   "cell_type": "markdown",
   "metadata": {},
   "source": [
    "## 描述统计"
   ]
  },
  {
   "cell_type": "code",
   "execution_count": null,
   "metadata": {
    "ExecuteTime": {
     "end_time": "2019-07-31T06:49:18.998180Z",
     "start_time": "2019-07-31T06:49:15.344Z"
    }
   },
   "outputs": [],
   "source": [
    "df.sum()"
   ]
  },
  {
   "cell_type": "code",
   "execution_count": null,
   "metadata": {
    "ExecuteTime": {
     "end_time": "2019-07-31T06:49:19.001182Z",
     "start_time": "2019-07-31T06:49:15.348Z"
    }
   },
   "outputs": [],
   "source": [
    "df.cumsum()"
   ]
  },
  {
   "cell_type": "code",
   "execution_count": null,
   "metadata": {
    "ExecuteTime": {
     "end_time": "2019-07-31T06:49:19.004183Z",
     "start_time": "2019-07-31T06:49:15.356Z"
    }
   },
   "outputs": [],
   "source": [
    "df"
   ]
  },
  {
   "cell_type": "code",
   "execution_count": null,
   "metadata": {
    "ExecuteTime": {
     "end_time": "2019-07-31T06:49:19.006186Z",
     "start_time": "2019-07-31T06:49:15.362Z"
    }
   },
   "outputs": [],
   "source": [
    "df.describe()"
   ]
  },
  {
   "cell_type": "markdown",
   "metadata": {},
   "source": [
    "## scipy.stats统计函数"
   ]
  },
  {
   "cell_type": "code",
   "execution_count": null,
   "metadata": {
    "ExecuteTime": {
     "end_time": "2019-07-31T06:49:19.009186Z",
     "start_time": "2019-07-31T06:49:15.372Z"
    }
   },
   "outputs": [],
   "source": [
    "###读取数据和简单的数据探索\n",
    "import numpy as np\n",
    "import matplotlib as mpl\n",
    "import matplotlib.pyplot as plt\n",
    "\n",
    "from sklearn import datasets\n",
    "iris = datasets.load_iris()\n",
    "\n",
    "iris.keys()\n",
    "print(iris.DESCR)#数据描述\n",
    "iris.data.shape\n",
    "iris.feature_names\n",
    "\n",
    "X = iris.data[:,:2]\n",
    "X.shape\n",
    "plt.scatter(X[:,0],X[:,1])\n",
    "plt.show()\n",
    "y = iris.target\n",
    "plt.scatter(X[y==0,0],X[y==0,1] ,color='red')#y所在0行0列和0行1列\n",
    "plt.scatter(X[y==1,0],X[y==1,1] ,color='blue',marker='o')#marker设置不同样式\n",
    "plt.scatter(X[y==2,0],X[y==2,1] ,color='green',market='+')\n",
    "plt.show()"
   ]
  },
  {
   "cell_type": "markdown",
   "metadata": {},
   "source": [
    "## 小案例\n"
   ]
  },
  {
   "cell_type": "code",
   "execution_count": null,
   "metadata": {},
   "outputs": [],
   "source": []
  }
 ],
 "metadata": {
  "kernelspec": {
   "display_name": "Python 3",
   "language": "python",
   "name": "python3"
  },
  "language_info": {
   "codemirror_mode": {
    "name": "ipython",
    "version": 3
   },
   "file_extension": ".py",
   "mimetype": "text/x-python",
   "name": "python",
   "nbconvert_exporter": "python",
   "pygments_lexer": "ipython3",
   "version": "3.6.4"
  }
 },
 "nbformat": 4,
 "nbformat_minor": 2
}
