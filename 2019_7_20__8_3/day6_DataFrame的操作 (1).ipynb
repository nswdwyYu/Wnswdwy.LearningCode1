{
 "cells": [
  {
   "cell_type": "code",
   "execution_count": 20,
   "metadata": {},
   "outputs": [
    {
     "name": "stdout",
     "output_type": "stream",
     "text": [
      "查看列名属性 Index(['detail_id', 'order_id', 'dishes_id', 'logicprn_name',\n",
      "       'parent_class_name', 'dishes_name', 'itemis_add', 'counts', 'amounts',\n",
      "       'cost', 'place_order_time', 'discount_amt', 'discount_reason',\n",
      "       'kick_back', 'add_inprice', 'add_info', 'bar_code', 'picture_file',\n",
      "       'emp_id'],\n",
      "      dtype='object')\n",
      "查看值 [[2956 417 610062 ... nan 'caipu/104001.jpg' 1442]\n",
      " [2958 417 609957 ... nan 'caipu/202003.jpg' 1442]\n",
      " [2961 417 609950 ... nan 'caipu/303001.jpg' 1442]\n",
      " ...\n",
      " [6756 774 609949 ... nan 'caipu/404005.jpg' 1138]\n",
      " [6763 774 610014 ... nan 'caipu/302003.jpg' 1138]\n",
      " [6764 774 610017 ... nan 'caipu/302006.jpg' 1138]]\n",
      "查看索引 RangeIndex(start=0, stop=2779, step=1)\n",
      "查看形状 (2779, 19)\n",
      "查看类型 detail_id              int64\n",
      "order_id               int64\n",
      "dishes_id              int64\n",
      "logicprn_name        float64\n",
      "parent_class_name    float64\n",
      "dishes_name           object\n",
      "itemis_add             int64\n",
      "counts               float64\n",
      "amounts              float64\n",
      "cost                 float64\n",
      "place_order_time      object\n",
      "discount_amt         float64\n",
      "discount_reason      float64\n",
      "kick_back            float64\n",
      "add_inprice            int64\n",
      "add_info             float64\n",
      "bar_code             float64\n",
      "picture_file          object\n",
      "emp_id                 int64\n",
      "dtype: object\n"
     ]
    }
   ],
   "source": [
    "import pandas as pd\n",
    "f = open(r'C:\\Users\\nswdwy_yu\\Desktop\\pandas数据\\meal_order_detail1.csv',encoding='utf-8')\n",
    "detail_one=pd.read_csv(f)\n",
    "print('查看列名属性',detail_one.columns)\n",
    "print('查看值',detail_one.values)\n",
    "print('查看索引',detail_one.index)\n",
    "print('查看形状',detail_one.shape)\n",
    "print('查看类型',detail_one.dtypes)"
   ]
  },
  {
   "cell_type": "markdown",
   "metadata": {},
   "source": [
    "例1"
   ]
  },
  {
   "cell_type": "code",
   "execution_count": 2,
   "metadata": {},
   "outputs": [
    {
     "name": "stdout",
     "output_type": "stream",
     "text": [
      "0      1022\n",
      "1      1031\n",
      "2      1009\n",
      "3      1023\n",
      "4      1020\n",
      "5      1008\n",
      "6      1022\n",
      "7      1011\n",
      "8      1009\n",
      "9      1013\n",
      "10     1013\n",
      "11     1004\n",
      "12     1006\n",
      "13     1013\n",
      "14     1011\n",
      "15     1001\n",
      "16     1016\n",
      "17     1029\n",
      "18     1013\n",
      "19     1001\n",
      "20     1013\n",
      "21     1026\n",
      "22     1005\n",
      "23     1003\n",
      "24     1003\n",
      "25     1022\n",
      "26     1004\n",
      "27     1021\n",
      "28     1002\n",
      "29     1004\n",
      "       ... \n",
      "915    1011\n",
      "916    1003\n",
      "917    1003\n",
      "918    1002\n",
      "919    1003\n",
      "920    1006\n",
      "921    1013\n",
      "922    1010\n",
      "923    1040\n",
      "924    1001\n",
      "925    1005\n",
      "926    1012\n",
      "927    1003\n",
      "928    1003\n",
      "929    1010\n",
      "930    1006\n",
      "931    1006\n",
      "932    1007\n",
      "933    1027\n",
      "934    1005\n",
      "935    1012\n",
      "936    1007\n",
      "937    1003\n",
      "938    1040\n",
      "939    1007\n",
      "940    1013\n",
      "941    1010\n",
      "942    1013\n",
      "943    1006\n",
      "944    1038\n",
      "Name: dining_table_name, Length: 945, dtype: int64\n"
     ]
    }
   ],
   "source": [
    "dishe_name = detail_one.iloc[:,5]      #所有行的第6列\n",
    "print(dishe_name)"
   ]
  },
  {
   "cell_type": "code",
   "execution_count": null,
   "metadata": {},
   "outputs": [],
   "source": [
    "dishe_name = detail_one.loc[:,'dishes_name']   #所有行的dishes_name列\n",
    "print(dishe_name)"
   ]
  },
  {
   "cell_type": "markdown",
   "metadata": {},
   "source": [
    "例2"
   ]
  },
  {
   "cell_type": "code",
   "execution_count": null,
   "metadata": {},
   "outputs": [],
   "source": [
    "dishe_name = detail_one.iloc[:,[1,5]]      #所有行的第1,5列\n",
    "print(dishe_name)"
   ]
  },
  {
   "cell_type": "code",
   "execution_count": null,
   "metadata": {},
   "outputs": [],
   "source": [
    "dishe_name = detail_one.loc[:,['order_id','dishes_name']]  #所有行的order_id,dishes_name列\n",
    "print(dishe_name)"
   ]
  },
  {
   "cell_type": "code",
   "execution_count": null,
   "metadata": {},
   "outputs": [],
   "source": []
  }
 ],
 "metadata": {
  "kernelspec": {
   "display_name": "Python 3",
   "language": "python",
   "name": "python3"
  },
  "language_info": {
   "codemirror_mode": {
    "name": "ipython",
    "version": 3
   },
   "file_extension": ".py",
   "mimetype": "text/x-python",
   "name": "python",
   "nbconvert_exporter": "python",
   "pygments_lexer": "ipython3",
   "version": "3.6.4"
  }
 },
 "nbformat": 4,
 "nbformat_minor": 2
}
