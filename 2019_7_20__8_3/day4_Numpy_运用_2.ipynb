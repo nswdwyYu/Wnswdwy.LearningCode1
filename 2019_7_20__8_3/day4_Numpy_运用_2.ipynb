{
 "cells": [
  {
   "cell_type": "code",
   "execution_count": 2,
   "metadata": {},
   "outputs": [],
   "source": [
    "import numpy as np"
   ]
  },
  {
   "cell_type": "code",
   "execution_count": 14,
   "metadata": {},
   "outputs": [
    {
     "name": "stdout",
     "output_type": "stream",
     "text": [
      "[1 3 5 7 9]\n"
     ]
    }
   ],
   "source": [
    "arr1=np.arange(1,11,2)\n",
    "print(arr1)"
   ]
  },
  {
   "cell_type": "code",
   "execution_count": 7,
   "metadata": {},
   "outputs": [
    {
     "name": "stdout",
     "output_type": "stream",
     "text": [
      "[['曹贼' '32' '89']\n",
      " ['刘备' '25' '90']\n",
      " ['孙权' '22' '95']]\n"
     ]
    }
   ],
   "source": [
    "df=np.dtype([('name',np.str_,20),('age',np.int32),('score',np.float32)])\n",
    "arr2=np.array([('曹贼',32,89),('刘备',25,90),('孙权',22,95)])\n",
    "print(arr2)"
   ]
  },
  {
   "cell_type": "code",
   "execution_count": 34,
   "metadata": {},
   "outputs": [
    {
     "name": "stdout",
     "output_type": "stream",
     "text": [
      "[['刘备' '25' '90']\n",
      " ['孙权' '22' '95']]\n"
     ]
    }
   ],
   "source": [
    "print(arr2[1:3,0:3])"
   ]
  },
  {
   "cell_type": "code",
   "execution_count": 76,
   "metadata": {},
   "outputs": [
    {
     "name": "stdout",
     "output_type": "stream",
     "text": [
      "[ 1  2  3  4  5  6  7  8  9 10 11 12]\n",
      "[[ 1  2  3  4]\n",
      " [ 5  6  7  8]\n",
      " [ 9 10 11 12]]\n"
     ]
    }
   ],
   "source": [
    "arr3=np.arange(1,13,1)\n",
    "arr4=arr3.reshape(3,4)  #变换数组的形态\n",
    "print(arr3)\n",
    "print(arr4)"
   ]
  },
  {
   "cell_type": "code",
   "execution_count": 73,
   "metadata": {},
   "outputs": [
    {
     "name": "stdout",
     "output_type": "stream",
     "text": [
      "[ 1  2  3  4  5  6  7  8  9 10 11 12]\n"
     ]
    }
   ],
   "source": [
    "arr=arr4.reshape(12)\n",
    "print(arr)"
   ]
  },
  {
   "cell_type": "code",
   "execution_count": 75,
   "metadata": {},
   "outputs": [
    {
     "name": "stdout",
     "output_type": "stream",
     "text": [
      "[ 1  2  3  4  5  6  7  8  9 10 11 12]\n",
      "[ 1  2  3  4  5  6  7  8  9 10 11 12]\n",
      "[ 1  2  3  4  5  6  7  8  9 10 11 12]\n"
     ]
    }
   ],
   "source": [
    "print(arr.flatten())   #横向展平\n",
    "print(arr.flatten('f'))#纵向展平\n",
    "print(arr.ravel())     #横向展平\n"
   ]
  },
  {
   "cell_type": "code",
   "execution_count": 4,
   "metadata": {},
   "outputs": [
    {
     "name": "stdout",
     "output_type": "stream",
     "text": [
      "[[0.9137592  0.73047642 0.66942818 0.82647955 0.56703084 0.28014963\n",
      "  0.04777882]\n",
      " [0.56090412 0.34361872 0.78218001 0.37940802 0.82626156 0.54731553\n",
      "  0.75408239]\n",
      " [0.48541787 0.92621993 0.93863365 0.03998346 0.91697153 0.87747988\n",
      "  0.63755209]\n",
      " [0.5786301  0.37152559 0.26922277 0.70914707 0.82439667 0.52713525\n",
      "  0.54385645]\n",
      " [0.89182745 0.31152268 0.67402029 0.90942448 0.05753531 0.71760026\n",
      "  0.01016759]]\n"
     ]
    }
   ],
   "source": [
    "arr_junyun=np.random.rand(5,7)  #5行7列的均匀分布\n",
    "print(arr_junyun)"
   ]
  },
  {
   "cell_type": "code",
   "execution_count": 5,
   "metadata": {},
   "outputs": [
    {
     "name": "stdout",
     "output_type": "stream",
     "text": [
      "[[-0.84649922 -0.02286334  0.99309074  1.0156706   0.11025779]\n",
      " [-0.85560288 -1.02167408 -0.40609214  0.3726773   0.50035923]\n",
      " [ 1.14650118  0.18253669  0.62906919 -0.45312585  0.16911896]\n",
      " [-0.79188623  0.95303179 -0.33848631  0.55688072 -0.20298116]\n",
      " [-0.7942405   0.27706825 -1.34302973 -0.40923553  0.63480992]\n",
      " [-0.58462034  1.03357328 -0.22828062  1.75442036 -0.42653593]\n",
      " [-0.04465644 -0.74456354  0.61425748  0.10946107  0.13665844]]\n"
     ]
    }
   ],
   "source": [
    "arr_zhengtai=np.random.randn(7,5)  #7行5列正态分布的数\n",
    "print(arr_zhengtai)"
   ]
  },
  {
   "cell_type": "code",
   "execution_count": null,
   "metadata": {},
   "outputs": [],
   "source": [
    "arr5="
   ]
  }
 ],
 "metadata": {
  "kernelspec": {
   "display_name": "Python 3",
   "language": "python",
   "name": "python3"
  },
  "language_info": {
   "codemirror_mode": {
    "name": "ipython",
    "version": 3
   },
   "file_extension": ".py",
   "mimetype": "text/x-python",
   "name": "python",
   "nbconvert_exporter": "python",
   "pygments_lexer": "ipython3",
   "version": "3.6.4"
  }
 },
 "nbformat": 4,
 "nbformat_minor": 2
}
