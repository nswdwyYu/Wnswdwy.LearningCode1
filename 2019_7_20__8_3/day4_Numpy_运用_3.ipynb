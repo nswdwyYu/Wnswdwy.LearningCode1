{
 "cells": [
  {
   "cell_type": "code",
   "execution_count": 1,
   "metadata": {},
   "outputs": [
    {
     "name": "stdout",
     "output_type": "stream",
     "text": [
      "[[0 9 1]\n",
      " [9 3 4]\n",
      " [8 6 3]\n",
      " [4 1 3]]\n"
     ]
    }
   ],
   "source": [
    "import numpy as np\n",
    "arr1=np.random.randint(10.50,size=(4,3))\n",
    "print(arr1)"
   ]
  },
  {
   "cell_type": "code",
   "execution_count": 2,
   "metadata": {},
   "outputs": [
    {
     "name": "stdout",
     "output_type": "stream",
     "text": [
      "[[7 3 7]\n",
      " [3 6 4]\n",
      " [4 6 1]\n",
      " [6 1 6]]\n"
     ]
    }
   ],
   "source": [
    "arr2=np.random.randint(1,10,size=(4,3))\n",
    "print(arr2)"
   ]
  },
  {
   "cell_type": "code",
   "execution_count": 4,
   "metadata": {},
   "outputs": [
    {
     "data": {
      "text/plain": [
       "array([7, 3, 7, 3, 6, 4, 4, 6, 1, 6, 1, 6])"
      ]
     },
     "execution_count": 4,
     "metadata": {},
     "output_type": "execute_result"
    }
   ],
   "source": [
    "arr2.flatten()"
   ]
  },
  {
   "cell_type": "code",
   "execution_count": 5,
   "metadata": {},
   "outputs": [
    {
     "data": {
      "text/plain": [
       "array([7, 3, 4, 6, 3, 6, 6, 1, 7, 4, 1, 6])"
      ]
     },
     "execution_count": 5,
     "metadata": {},
     "output_type": "execute_result"
    }
   ],
   "source": [
    "arr2.flatten('f')"
   ]
  },
  {
   "cell_type": "code",
   "execution_count": 7,
   "metadata": {},
   "outputs": [
    {
     "name": "stdout",
     "output_type": "stream",
     "text": [
      "[[0 9 1 7 3 7]\n",
      " [9 3 4 3 6 4]\n",
      " [8 6 3 4 6 1]\n",
      " [4 1 3 6 1 6]]\n"
     ]
    }
   ],
   "source": [
    "arr3=np.concatenate((arr1,arr2),axis=1)\n",
    "print(arr3)"
   ]
  },
  {
   "cell_type": "code",
   "execution_count": 8,
   "metadata": {},
   "outputs": [
    {
     "name": "stdout",
     "output_type": "stream",
     "text": [
      "[[0 9 1]\n",
      " [9 3 4]\n",
      " [8 6 3]\n",
      " [4 1 3]\n",
      " [7 3 7]\n",
      " [3 6 4]\n",
      " [4 6 1]\n",
      " [6 1 6]]\n"
     ]
    }
   ],
   "source": [
    "arr4=np.concatenate((arr1,arr2),axis=0)\n",
    "print(arr4)"
   ]
  },
  {
   "cell_type": "code",
   "execution_count": 15,
   "metadata": {},
   "outputs": [
    {
     "name": "stdout",
     "output_type": "stream",
     "text": [
      "[[0 9 1 7 3 7]\n",
      " [9 3 4 3 6 4]\n",
      " [8 6 3 4 6 1]\n",
      " [4 1 3 6 1 6]]\n",
      "[[9 1 7 3]\n",
      " [3 4 3 6]\n",
      " [6 3 4 6]\n",
      " [1 3 6 1]]\n"
     ]
    }
   ],
   "source": [
    "print(arr3)\n",
    "np.split(arr3,2,axis=1)\n",
    "print(arr3[:,1:5])"
   ]
  },
  {
   "cell_type": "code",
   "execution_count": 25,
   "metadata": {},
   "outputs": [
    {
     "name": "stdout",
     "output_type": "stream",
     "text": [
      "随机排序列表 :  [16, 10, 20, 5]\n",
      "随机排序列表 :  [20, 5, 16, 10]\n"
     ]
    }
   ],
   "source": [
    "import random\n",
    "\n",
    "list = [20, 16, 10, 5]\n",
    "random.shuffle(list)\n",
    "print (\"随机排序列表 : \",  list)\n",
    "\n",
    "random.shuffle(list)\n",
    "print (\"随机排序列表 : \",  list)"
   ]
  }
 ],
 "metadata": {
  "kernelspec": {
   "display_name": "Python 3",
   "language": "python",
   "name": "python3"
  },
  "language_info": {
   "codemirror_mode": {
    "name": "ipython",
    "version": 3
   },
   "file_extension": ".py",
   "mimetype": "text/x-python",
   "name": "python",
   "nbconvert_exporter": "python",
   "pygments_lexer": "ipython3",
   "version": "3.6.4"
  }
 },
 "nbformat": 4,
 "nbformat_minor": 2
}
