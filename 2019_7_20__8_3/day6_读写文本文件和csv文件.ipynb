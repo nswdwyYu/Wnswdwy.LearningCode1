{
 "cells": [
  {
   "cell_type": "markdown",
   "metadata": {},
   "source": [
    "读写文本文件和csv文件"
   ]
  },
  {
   "cell_type": "code",
   "execution_count": 4,
   "metadata": {
    "ExecuteTime": {
     "end_time": "2019-07-31T15:01:56.123038Z",
     "start_time": "2019-07-31T15:01:56.093019Z"
    }
   },
   "outputs": [
    {
     "name": "stdout",
     "output_type": "stream",
     "text": [
      "Index(['info_id', 'emp_id', 'number_consumers', 'mode', 'dining_table_id',\n",
      "       'dining_table_name', 'expenditure', 'dishes_count', 'accounts_payable',\n",
      "       'use_start_time', 'check_closed', 'lock_time', 'cashier_id', 'pc_id',\n",
      "       'order_number', 'org_id', 'print_doc_bill_num', 'lock_table_info',\n",
      "       'order_status', 'phone', 'name'],\n",
      "      dtype='object')\n"
     ]
    }
   ],
   "source": [
    "import pandas as pd\n",
    "csv_df = pd.read_table('F:\\Python_All\\Python_Practice_File\\pandas_datas\\meal_order_info.csv',sep = ',',encoding = 'gbk')\n",
    "#print(len(csv_df))\n",
    "\n",
    "print(csv_df.columns)\n",
    "\n",
    "# print(csv_df.values)\n",
    "\n",
    "# print(csv_df.shape)\n",
    "\n",
    "# print(csv_df.dtypes)"
   ]
  },
  {
   "cell_type": "code",
   "execution_count": 42,
   "metadata": {},
   "outputs": [
    {
     "name": "stdout",
     "output_type": "stream",
     "text": [
      "Index(['detail_id', 'order_id', 'dishes_id', 'logicprn_name',\n",
      "       'parent_class_name', 'dishes_name', 'itemis_add', 'counts', 'amounts',\n",
      "       'cost', 'place_order_time', 'discount_amt', 'discount_reason',\n",
      "       'kick_back', 'add_inprice', 'add_info', 'bar_code', 'picture_file',\n",
      "       'emp_id'],\n",
      "      dtype='object')\n",
      "(3647, 19)\n",
      "[[2352 366 609967 ... nan 'caipu/101002.jpg' 1159]\n",
      " [2354 366 609961 ... nan 'caipu/102001.jpg' 1159]\n",
      " [2356 366 606000 ... nan 'caipu/201001.jpg' 1159]\n",
      " ...\n",
      " [3858 1125 610048 ... nan 'caipu/301002.jpg' 1110]\n",
      " [3859 1125 609996 ... nan 'caipu/201006.jpg' 1110]\n",
      " [3860 1125 610018 ... nan 'caipu/204001.jpg' 1110]]\n"
     ]
    }
   ],
   "source": [
    "import pandas as pd\n",
    "csv_df=pd.read_csv(r'C:\\Users\\nswdwy_yu\\Desktop\\pandas_datas\\meal_order_detail2.csv')\n",
    "print(csv_df.columns)\n",
    "print(csv_df.shape)\n",
    "print(csv_df.values)\n",
    "csv_df.to_excel(r'C:\\Users\\nswdwy_yu\\Desktop\\csvexcel.xlsx')"
   ]
  },
  {
   "cell_type": "code",
   "execution_count": 2,
   "metadata": {
    "ExecuteTime": {
     "end_time": "2019-07-31T14:59:06.793038Z",
     "start_time": "2019-07-31T14:59:06.770523Z"
    }
   },
   "outputs": [
    {
     "name": "stdout",
     "output_type": "stream",
     "text": [
      "   id  math name\n",
      "0   1   100   曹操\n",
      "1   2   101   刘备\n",
      "2   3   102  诸葛亮\n"
     ]
    }
   ],
   "source": [
    "import pandas as pd\n",
    "test_dict = {'id':[1,2,3],'name':['曹操','刘备','诸葛亮'],'math':[100,101,102]}\n",
    "test_df = pd.DataFrame(test_dict)\n",
    "print(test_df)"
   ]
  }
 ],
 "metadata": {
  "kernelspec": {
   "display_name": "Python 3",
   "language": "python",
   "name": "python3"
  },
  "language_info": {
   "codemirror_mode": {
    "name": "ipython",
    "version": 3
   },
   "file_extension": ".py",
   "mimetype": "text/x-python",
   "name": "python",
   "nbconvert_exporter": "python",
   "pygments_lexer": "ipython3",
   "version": "3.6.4"
  }
 },
 "nbformat": 4,
 "nbformat_minor": 2
}
