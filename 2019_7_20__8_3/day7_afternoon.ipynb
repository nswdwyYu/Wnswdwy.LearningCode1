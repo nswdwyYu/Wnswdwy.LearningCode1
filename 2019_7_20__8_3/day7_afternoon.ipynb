{
 "cells": [
  {
   "cell_type": "code",
   "execution_count": 2,
   "metadata": {
    "ExecuteTime": {
     "end_time": "2019-07-31T15:11:17.181490Z",
     "start_time": "2019-07-31T15:11:17.128453Z"
    }
   },
   "outputs": [],
   "source": [
    "import numpy as np\n",
    "import pandas as pd\n",
    "\n",
    "f=open(r'C:/Users/nswdwy_yu/Desktop/pandas_datas/meal_order_detail1.csv',encoding='utf-8')\n",
    "detail_one=pd.read_csv(f)\n"
   ]
  },
  {
   "cell_type": "code",
   "execution_count": 26,
   "metadata": {
    "ExecuteTime": {
     "end_time": "2019-07-27T06:47:37.337377Z",
     "start_time": "2019-07-27T06:47:37.284344Z"
    }
   },
   "outputs": [
    {
     "name": "stdout",
     "output_type": "stream",
     "text": [
      "      detail_id  order_id  dishes_id  logicprn_name  parent_class_name  \\\n",
      "0          2956       417     610062            NaN                NaN   \n",
      "1          2958       417     609957            NaN                NaN   \n",
      "2          2961       417     609950            NaN                NaN   \n",
      "3          2966       417     610038            NaN                NaN   \n",
      "4          2968       417     610003            NaN                NaN   \n",
      "5          1899       301     610019            NaN                NaN   \n",
      "6          1902       301     609991            NaN                NaN   \n",
      "7          1906       301     609983            NaN                NaN   \n",
      "8          1907       301     609981            NaN                NaN   \n",
      "9          1908       301     610030            NaN                NaN   \n",
      "10         1910       301     610011            NaN                NaN   \n",
      "11         2916       413     609966            NaN                NaN   \n",
      "12         2919       413     609965            NaN                NaN   \n",
      "13         2921       413     609936            NaN                NaN   \n",
      "14         2923       413     609978            NaN                NaN   \n",
      "15         2925       413     609983            NaN                NaN   \n",
      "16         2927       413     610050            NaN                NaN   \n",
      "17         2926       413     609984            NaN                NaN   \n",
      "18         2928       413     610013            NaN                NaN   \n",
      "19         2930       413     610032            NaN                NaN   \n",
      "20         2932       413     609973            NaN                NaN   \n",
      "21         2934       413     610007            NaN                NaN   \n",
      "22         2938       415     609964            NaN                NaN   \n",
      "23         2935       413     609992            NaN                NaN   \n",
      "24         2936       413     610012            NaN                NaN   \n",
      "25         2940       415     610064            NaN                NaN   \n",
      "26         2937       413     610023            NaN                NaN   \n",
      "27         2939       413     609931            NaN                NaN   \n",
      "28         2643       392     609930            NaN                NaN   \n",
      "29         2942       415     609959            NaN                NaN   \n",
      "...         ...       ...        ...            ...                ...   \n",
      "2749       6335       732     609944            NaN                NaN   \n",
      "2750       6336       732     609952            NaN                NaN   \n",
      "2751       5074       616     609970            NaN                NaN   \n",
      "2752       5075       616     610001            NaN                NaN   \n",
      "2753       6088       716     609970            NaN                NaN   \n",
      "2754       6091       716     609942            NaN                NaN   \n",
      "2755       6094       716     609946            NaN                NaN   \n",
      "2756       6098       716     609953            NaN                NaN   \n",
      "2757       6106       716     609957            NaN                NaN   \n",
      "2758       6103       716     609944            NaN                NaN   \n",
      "2759       5076       616     610000            NaN                NaN   \n",
      "2760       5080       616     610033            NaN                NaN   \n",
      "2761       6111       716     609960            NaN                NaN   \n",
      "2762       6115       716     609955            NaN                NaN   \n",
      "2763       6120       716     609983            NaN                NaN   \n",
      "2764       6116       716     609974            NaN                NaN   \n",
      "2765       6125       716     609991            NaN                NaN   \n",
      "2766       6127       716     610011            NaN                NaN   \n",
      "2767       6131       716     610038            NaN                NaN   \n",
      "2768       6128       716     610022            NaN                NaN   \n",
      "2769       6135       716     610020            NaN                NaN   \n",
      "2770       6137       716     610031            NaN                NaN   \n",
      "2771       6734       774     609941            NaN                NaN   \n",
      "2772       6736       774     609944            NaN                NaN   \n",
      "2773       6739       774     609994            NaN                NaN   \n",
      "2774       6750       774     610011            NaN                NaN   \n",
      "2775       6742       774     609996            NaN                NaN   \n",
      "2776       6756       774     609949            NaN                NaN   \n",
      "2777       6763       774     610014            NaN                NaN   \n",
      "2778       6764       774     610017            NaN                NaN   \n",
      "\n",
      "         dishes_name  itemis_add  counts  amounts  cost     place_order_time  \\\n",
      "0               蒜蓉生蚝           0     1.0     49.0   NaN  2016-08-01 11:05:00   \n",
      "1              蒙古烤羊腿           0     1.0     48.0   NaN  2016-08-01 11:07:00   \n",
      "2               大蒜苋菜           0     1.0     30.0   NaN  2016-08-01 11:07:00   \n",
      "3              芝麻烤紫菜           0     1.0     25.0   NaN  2016-08-01 11:11:00   \n",
      "4                蒜香包           0     1.0     13.0   NaN  2016-08-01 11:11:00   \n",
      "5                白斩鸡           0     1.0     88.0   NaN  2016-08-01 11:15:00   \n",
      "6               香烤牛排           0     1.0     55.0   NaN  2016-08-01 11:19:00   \n",
      "7               干锅田鸡           0     1.0     88.0   NaN  2016-08-01 11:22:00   \n",
      "8            桂圆枸杞鸽子汤           0     1.0     48.0   NaN  2016-08-01 11:22:00   \n",
      "9             番茄有机花菜           0     1.0     32.0   NaN  2016-08-01 11:23:00   \n",
      "10             白饭/大碗           0     1.0     10.0   NaN  2016-08-01 11:31:00   \n",
      "11          芝士烩波士顿龙虾           0     1.0    175.0   NaN  2016-08-01 12:42:00   \n",
      "12              葱姜炒蟹           0     1.0    109.0   NaN  2016-08-01 12:43:00   \n",
      "13             皮蛋瘦肉粥           0     1.0     16.0   NaN  2016-08-01 12:43:00   \n",
      "14              爆炒鳝碌           0     1.0     55.0   NaN  2016-08-01 12:44:00   \n",
      "15              干锅田鸡           0     1.0     88.0   NaN  2016-08-01 12:44:00   \n",
      "16              番茄甘蓝           0     1.0     33.0   NaN  2016-08-01 12:45:00   \n",
      "17           重庆特色油烧兔           0     1.0     69.0   NaN  2016-08-01 12:45:00   \n",
      "18             番茄炖秋葵           0     1.0     35.0   NaN  2016-08-01 12:46:00   \n",
      "19    长城窖酿解百纳红酒干红葡萄酒           0     1.0     35.0   NaN  2016-08-01 12:48:00   \n",
      "20             紫薯面包卷           0     1.0     20.0   NaN  2016-08-01 12:49:00   \n",
      "21          桂圆肉红豆八宝饭           0     1.0     39.0   NaN  2016-08-01 12:50:00   \n",
      "22             避风塘炒蟹           0     1.0     48.0   NaN  2016-08-01 12:51:00   \n",
      "23             番茄炖牛腩           0     1.0     35.0   NaN  2016-08-01 12:51:00   \n",
      "24             香菇鹌鹑蛋           0     1.0     39.0   NaN  2016-08-01 12:52:00   \n",
      "25              花蛤蒸蛋           0     1.0     37.0   NaN  2016-08-01 12:52:00   \n",
      "26               啤酒鸭           0     1.0     48.0   NaN  2016-08-01 12:53:00   \n",
      "27               焖猪手           0     1.0     58.0   NaN  2016-08-01 12:54:00   \n",
      "28           豌豆薯仔猪骨汤           0     1.0     39.0   NaN  2016-08-01 12:58:00   \n",
      "29              小炒羊腰           0     1.0     36.0   NaN  2016-08-01 12:59:00   \n",
      "...              ...         ...     ...      ...   ...                  ...   \n",
      "2749             水煮鱼           0     1.0     65.0   NaN  2016-08-10 20:19:00   \n",
      "2750        美妙绝伦之白莲花           0     1.0     29.0   NaN  2016-08-10 20:19:00   \n",
      "2751           麻辣小龙虾           0     1.0     99.0   NaN  2016-08-10 20:37:00   \n",
      "2752         土豆西红柿汤面           0     1.0     13.0   NaN  2016-08-10 20:39:00   \n",
      "2753           麻辣小龙虾           0     1.0     99.0   NaN  2016-08-10 20:41:00   \n",
      "2754            辣炒鱿鱼           0     1.0     58.0   NaN  2016-08-10 20:41:00   \n",
      "2755           谷稻小庄            0     1.0     38.0   NaN  2016-08-10 20:46:00   \n",
      "2756            凉拌菠菜           0     1.0     27.0   NaN  2016-08-10 20:47:00   \n",
      "2757           蒙古烤羊腿           0     1.0     48.0   NaN  2016-08-10 20:47:00   \n",
      "2758             水煮鱼           0     1.0     65.0   NaN  2016-08-10 20:47:00   \n",
      "2759            酸辣汤面           0     1.0     16.0   NaN  2016-08-10 20:48:00   \n",
      "2760    张裕葡萄酒张裕赤霞珠干红           0     1.0     32.0   NaN  2016-08-10 20:49:00   \n",
      "2761       白胡椒胡萝卜羊肉汤           0     1.0     35.0   NaN  2016-08-10 20:50:00   \n",
      "2762           红酒炖羊肉           0     1.0    108.0   NaN  2016-08-10 20:50:00   \n",
      "2763            干锅田鸡           0     1.0     88.0   NaN  2016-08-10 20:51:00   \n",
      "2764         南瓜枸杞小饼干           0     1.0     19.0   NaN  2016-08-10 20:51:00   \n",
      "2765            香烤牛排           0     1.0     55.0   NaN  2016-08-10 20:52:00   \n",
      "2766           白饭/大碗           0     1.0     10.0   NaN  2016-08-10 20:52:00   \n",
      "2767           芝麻烤紫菜           0     1.0     25.0   NaN  2016-08-10 20:53:00   \n",
      "2768            杭椒鸡珍           0     1.0     58.0   NaN  2016-08-10 20:53:00   \n",
      "2769            泡椒凤爪           0     1.0     58.0   NaN  2016-08-10 20:56:00   \n",
      "2770         糖醋蕃茄溜青花           0     1.0     33.0   NaN  2016-08-10 20:57:00   \n",
      "2771            清蒸海鱼           0     1.0     78.0   NaN  2016-08-10 21:50:00   \n",
      "2772             水煮鱼           0     1.0     65.0   NaN  2016-08-10 21:53:00   \n",
      "2773       独家薄荷鲜虾牛肉卷           0     1.0     45.0   NaN  2016-08-10 21:55:00   \n",
      "2774           白饭/大碗           0     1.0     10.0   NaN  2016-08-10 21:56:00   \n",
      "2775             牛尾汤           0     1.0     40.0   NaN  2016-08-10 21:56:00   \n",
      "2776          意文柠檬汁            0     1.0     13.0   NaN  2016-08-10 22:01:00   \n",
      "2777            金玉良缘           0     1.0     30.0   NaN  2016-08-10 22:03:00   \n",
      "2778            酸辣藕丁           0     1.0     33.0   NaN  2016-08-10 22:04:00   \n",
      "\n",
      "      discount_amt  discount_reason  kick_back  add_inprice  add_info  \\\n",
      "0              NaN              NaN        NaN            0       NaN   \n",
      "1              NaN              NaN        NaN            0       NaN   \n",
      "2              NaN              NaN        NaN            0       NaN   \n",
      "3              NaN              NaN        NaN            0       NaN   \n",
      "4              NaN              NaN        NaN            0       NaN   \n",
      "5              NaN              NaN        NaN            0       NaN   \n",
      "6              NaN              NaN        NaN            0       NaN   \n",
      "7              NaN              NaN        NaN            0       NaN   \n",
      "8              NaN              NaN        NaN            0       NaN   \n",
      "9              NaN              NaN        NaN            0       NaN   \n",
      "10             NaN              NaN        NaN            0       NaN   \n",
      "11             NaN              NaN        NaN            0       NaN   \n",
      "12             NaN              NaN        NaN            0       NaN   \n",
      "13             NaN              NaN        NaN            0       NaN   \n",
      "14             NaN              NaN        NaN            0       NaN   \n",
      "15             NaN              NaN        NaN            0       NaN   \n",
      "16             NaN              NaN        NaN            0       NaN   \n",
      "17             NaN              NaN        NaN            0       NaN   \n",
      "18             NaN              NaN        NaN            0       NaN   \n",
      "19             NaN              NaN        NaN            0       NaN   \n",
      "20             NaN              NaN        NaN            0       NaN   \n",
      "21             NaN              NaN        NaN            0       NaN   \n",
      "22             NaN              NaN        NaN            0       NaN   \n",
      "23             NaN              NaN        NaN            0       NaN   \n",
      "24             NaN              NaN        NaN            0       NaN   \n",
      "25             NaN              NaN        NaN            0       NaN   \n",
      "26             NaN              NaN        NaN            0       NaN   \n",
      "27             NaN              NaN        NaN            0       NaN   \n",
      "28             NaN              NaN        NaN            0       NaN   \n",
      "29             NaN              NaN        NaN            0       NaN   \n",
      "...            ...              ...        ...          ...       ...   \n",
      "2749           NaN              NaN        NaN            0       NaN   \n",
      "2750           NaN              NaN        NaN            0       NaN   \n",
      "2751           NaN              NaN        NaN            0       NaN   \n",
      "2752           NaN              NaN        NaN            0       NaN   \n",
      "2753           NaN              NaN        NaN            0       NaN   \n",
      "2754           NaN              NaN        NaN            0       NaN   \n",
      "2755           NaN              NaN        NaN            0       NaN   \n",
      "2756           NaN              NaN        NaN            0       NaN   \n",
      "2757           NaN              NaN        NaN            0       NaN   \n",
      "2758           NaN              NaN        NaN            0       NaN   \n",
      "2759           NaN              NaN        NaN            0       NaN   \n",
      "2760           NaN              NaN        NaN            0       NaN   \n",
      "2761           NaN              NaN        NaN            0       NaN   \n",
      "2762           NaN              NaN        NaN            0       NaN   \n",
      "2763           NaN              NaN        NaN            0       NaN   \n",
      "2764           NaN              NaN        NaN            0       NaN   \n",
      "2765           NaN              NaN        NaN            0       NaN   \n",
      "2766           NaN              NaN        NaN            0       NaN   \n",
      "2767           NaN              NaN        NaN            0       NaN   \n",
      "2768           NaN              NaN        NaN            0       NaN   \n",
      "2769           NaN              NaN        NaN            0       NaN   \n",
      "2770           NaN              NaN        NaN            0       NaN   \n",
      "2771           NaN              NaN        NaN            0       NaN   \n",
      "2772           NaN              NaN        NaN            0       NaN   \n",
      "2773           NaN              NaN        NaN            0       NaN   \n",
      "2774           NaN              NaN        NaN            0       NaN   \n",
      "2775           NaN              NaN        NaN            0       NaN   \n",
      "2776           NaN              NaN        NaN            0       NaN   \n",
      "2777           NaN              NaN        NaN            0       NaN   \n",
      "2778           NaN              NaN        NaN            0       NaN   \n",
      "\n",
      "      bar_code      picture_file  emp_id  \n",
      "0          NaN  caipu/104001.jpg    1442  \n",
      "1          NaN  caipu/202003.jpg    1442  \n",
      "2          NaN  caipu/303001.jpg    1442  \n",
      "3          NaN  caipu/105002.jpg    1442  \n",
      "4          NaN  caipu/503002.jpg    1442  \n",
      "5          NaN  caipu/204002.jpg    1095  \n",
      "6          NaN  caipu/201001.jpg    1095  \n",
      "7          NaN  caipu/205003.jpg    1095  \n",
      "8          NaN  caipu/205001.jpg    1095  \n",
      "9          NaN  caipu/304004.jpg    1095  \n",
      "10         NaN  caipu/601005.jpg    1095  \n",
      "11         NaN  caipu/101001.jpg    1147  \n",
      "12         NaN  caipu/102005.jpg    1147  \n",
      "13         NaN  caipu/602002.jpg    1147  \n",
      "14         NaN  caipu/106003.jpg    1147  \n",
      "15         NaN  caipu/205003.jpg    1147  \n",
      "16         NaN  caipu/301004.jpg    1147  \n",
      "17         NaN  caipu/205004.jpg    1147  \n",
      "18         NaN  caipu/302002.jpg    1147  \n",
      "19         NaN  caipu/401001.jpg    1147  \n",
      "20         NaN  caipu/502003.jpg    1147  \n",
      "21         NaN  caipu/601001.jpg    1147  \n",
      "22         NaN  caipu/102004.jpg    1166  \n",
      "23         NaN  caipu/201002.jpg    1147  \n",
      "24         NaN  caipu/302001.jpg    1147  \n",
      "25         NaN  caipu/104003.jpg    1166  \n",
      "26         NaN  caipu/204006.jpg    1147  \n",
      "27         NaN  caipu/203002.jpg    1147  \n",
      "28         NaN  caipu/203001.jpg    1094  \n",
      "29         NaN  caipu/202005.jpg    1166  \n",
      "...        ...               ...     ...  \n",
      "2749       NaN  caipu/103005.jpg    1153  \n",
      "2750       NaN  caipu/303003.jpg    1153  \n",
      "2751       NaN  caipu/101006.jpg    1133  \n",
      "2752       NaN  caipu/603005.jpg    1133  \n",
      "2753       NaN  caipu/101006.jpg    1112  \n",
      "2754       NaN  caipu/103003.jpg    1112  \n",
      "2755       NaN  caipu/404002.jpg    1112  \n",
      "2756       NaN  caipu/303004.jpg    1112  \n",
      "2757       NaN  caipu/202003.jpg    1112  \n",
      "2758       NaN  caipu/103005.jpg    1112  \n",
      "2759       NaN  caipu/603004.jpg    1133  \n",
      "2760       NaN  caipu/402002.jpg    1133  \n",
      "2761       NaN  caipu/202006.jpg    1112  \n",
      "2762       NaN  caipu/202001.jpg    1112  \n",
      "2763       NaN  caipu/205003.jpg    1112  \n",
      "2764       NaN  caipu/502004.jpg    1112  \n",
      "2765       NaN  caipu/201001.jpg    1112  \n",
      "2766       NaN  caipu/601005.jpg    1112  \n",
      "2767       NaN  caipu/105002.jpg    1112  \n",
      "2768       NaN  caipu/204005.jpg    1112  \n",
      "2769       NaN  caipu/204003.jpg    1112  \n",
      "2770       NaN  caipu/304005.jpg    1112  \n",
      "2771       NaN  caipu/103002.jpg    1138  \n",
      "2772       NaN  caipu/103005.jpg    1138  \n",
      "2773       NaN  caipu/201004.jpg    1138  \n",
      "2774       NaN  caipu/601005.jpg    1138  \n",
      "2775       NaN  caipu/201006.jpg    1138  \n",
      "2776       NaN  caipu/404005.jpg    1138  \n",
      "2777       NaN  caipu/302003.jpg    1138  \n",
      "2778       NaN  caipu/302006.jpg    1138  \n",
      "\n",
      "[2779 rows x 19 columns]\n"
     ]
    }
   ],
   "source": [
    "print(detail_one)"
   ]
  },
  {
   "cell_type": "code",
   "execution_count": 4,
   "metadata": {
    "ExecuteTime": {
     "end_time": "2019-07-31T15:12:58.604436Z",
     "start_time": "2019-07-31T15:12:58.589925Z"
    }
   },
   "outputs": [
    {
     "name": "stdout",
     "output_type": "stream",
     "text": [
      "          counts  amounts\n",
      "order_id                 \n",
      "137          4.0     99.0\n",
      "165          2.0    178.0\n",
      "166          2.0    109.0\n",
      "171          4.0     65.0\n",
      "177          1.0     48.0\n"
     ]
    }
   ],
   "source": [
    "detail_group=detail_one[['order_id','counts','amounts']].groupby(by='order_id')\n",
    "#print(detail_group)\n",
    "print(detail_group.max().head(5))"
   ]
  },
  {
   "cell_type": "code",
   "execution_count": null,
   "metadata": {
    "ExecuteTime": {
     "end_time": "2019-07-27T07:03:58.299956Z",
     "start_time": "2019-07-27T07:03:58.282948Z"
    }
   },
   "outputs": [],
   "source": [
    "detail_group2=detail_one[['order_id','counts','amounts']].groupby(by='order_id')\n",
    "print(detail_group.max().head(20))"
   ]
  },
  {
   "cell_type": "code",
   "execution_count": 49,
   "metadata": {
    "ExecuteTime": {
     "end_time": "2019-07-27T07:12:55.457422Z",
     "start_time": "2019-07-27T07:12:55.442412Z"
    }
   },
   "outputs": [
    {
     "name": "stdout",
     "output_type": "stream",
     "text": [
      "                 counts  amounts\n",
      "dishes_name                     \n",
      " 42度海之蓝             3.0     99.0\n",
      " 北冰洋汽水              6.0      5.0\n",
      "38度剑南春              1.0     80.0\n",
      "50度古井贡酒             1.0     90.0\n",
      "52度泸州老窖             1.0    159.0\n",
      "53度茅台               1.0    128.0\n",
      "一品香酥藕               1.0     10.0\n",
      "三丝鳝鱼                1.0     55.0\n",
      "三色凉拌手撕兔             1.0     66.0\n",
      "不加一滴油的酸奶蛋糕          1.0      7.0\n",
      "五彩藕苗                1.0     35.0\n",
      "五彩豆                 1.0     29.0\n",
      "五色糯米饭(七色)           2.0     35.0\n",
      "五香酱驴肉               1.0     52.0\n",
      "倒立蒸梭子蟹              1.0    169.0\n",
      "党参黄芪炖牛尾             1.0     35.0\n",
      "农夫山泉NFC果汁100%橙汁     5.0      6.0\n",
      "冬瓜炒苦瓜               1.0     29.0\n",
      "冰糖红豆薏米粥             4.0     15.0\n",
      "冰镇花螺                1.0     35.0\n",
      "凉拌海带豆芽紫菜            1.0     35.0\n",
      "凉拌菠菜                1.0     27.0\n",
      "凉拌萝卜丝               1.0     20.0\n",
      "凉拌蒜蓉西兰花             1.0     29.0\n",
      "剁椒鱼头                1.0     55.0\n",
      "南瓜枸杞小饼干             4.0     19.0\n",
      "南瓜芝士包               1.0     10.0\n",
      "咖啡奶香面包              1.0     16.0\n",
      "哈尔滨啤酒罐装            10.0      7.0\n",
      "啤酒鸭                 1.0     48.0\n",
      "...                 ...      ...\n",
      "超人气广式肠粉             1.0     18.0\n",
      "路易拉菲红酒干红            1.0    158.0\n",
      "辣炒海带丝               1.0     19.0\n",
      "辣炒田螺                1.0     35.0\n",
      "辣炒花蛤                1.0     35.0\n",
      "辣炒鱿鱼                1.0     58.0\n",
      "避风塘炒蟹               1.0     48.0\n",
      "酸辣汤面                1.0     16.0\n",
      "酸辣藕丁                1.0     33.0\n",
      "重庆特色油烧兔             1.0     69.0\n",
      "金玉良缘                1.0     30.0\n",
      "铁板牛肉                1.0     66.0\n",
      "长城窖酿解百纳红酒干红葡萄酒      1.0     35.0\n",
      "露露无糖杏仁露             4.0      7.0\n",
      "青岛啤酒罐装              8.0      7.0\n",
      "青炒扁豆                1.0     28.0\n",
      "香烤牛排                6.0     55.0\n",
      "香菇鸡肉粥               1.0     15.0\n",
      "香菇鹌鹑蛋               1.0     39.0\n",
      "香辣爆羊肝               1.0     28.0\n",
      "香辣腐乳炒虾              1.0     56.0\n",
      "香酥两吃大虾              1.0     89.0\n",
      "鱼香肉丝拌面              1.0     18.0\n",
      "鲜美鳝鱼                2.0     55.0\n",
      "鸡蛋、肉末肠粉             1.0     13.0\n",
      "麻辣小龙虾               2.0     99.0\n",
      "黄尾袋鼠西拉子红葡萄酒         1.0     46.0\n",
      "黄油曲奇饼干              1.0     16.0\n",
      "黄花菜炒木耳              1.0     35.0\n",
      "黑米恋上葡萄              2.0     33.0\n",
      "\n",
      "[145 rows x 2 columns]\n"
     ]
    }
   ],
   "source": [
    "print(detail_group2.max())"
   ]
  },
  {
   "cell_type": "markdown",
   "metadata": {},
   "source": [
    "# 使用 agg 函数聚合"
   ]
  },
  {
   "cell_type": "code",
   "execution_count": 32,
   "metadata": {
    "ExecuteTime": {
     "end_time": "2019-07-27T06:53:54.281588Z",
     "start_time": "2019-07-27T06:53:54.264577Z"
    }
   },
   "outputs": [
    {
     "name": "stdout",
     "output_type": "stream",
     "text": [
      "           counts        amounts\n",
      "sum   3088.000000  125992.000000\n",
      "mean     1.111191      45.337172\n"
     ]
    }
   ],
   "source": [
    "#一个函数用于多列\n",
    "print(detail_one[['counts','amounts']].agg([np.sum,np.mean]))"
   ]
  },
  {
   "cell_type": "code",
   "execution_count": 30,
   "metadata": {
    "ExecuteTime": {
     "end_time": "2019-07-27T06:52:55.494539Z",
     "start_time": "2019-07-27T06:52:55.063254Z"
    }
   },
   "outputs": [
    {
     "name": "stdout",
     "output_type": "stream",
     "text": [
      "counts     3088.000000\n",
      "amounts      45.337172\n",
      "dtype: float64\n"
     ]
    }
   ],
   "source": [
    "#一个函数用于一列\n",
    "print(detail_one.agg({'counts':np.sum,'amounts':np.mean}))"
   ]
  },
  {
   "cell_type": "code",
   "execution_count": 43,
   "metadata": {
    "ExecuteTime": {
     "end_time": "2019-07-27T07:03:22.338582Z",
     "start_time": "2019-07-27T07:03:22.327576Z"
    }
   },
   "outputs": [
    {
     "name": "stdout",
     "output_type": "stream",
     "text": [
      "      counts        amounts\n",
      "mean     NaN      45.337172\n",
      "sum   3088.0  125992.000000\n"
     ]
    }
   ],
   "source": [
    "#有的列用一个函数，有的列用多个函数\n",
    "print(detail_one.agg({'counts':np.sum,'amounts':[np.mean,np.sum]}))"
   ]
  },
  {
   "cell_type": "code",
   "execution_count": 47,
   "metadata": {
    "ExecuteTime": {
     "end_time": "2019-07-27T07:06:56.097002Z",
     "start_time": "2019-07-27T07:06:56.084994Z"
    }
   },
   "outputs": [
    {
     "name": "stdout",
     "output_type": "stream",
     "text": [
      "counts    6176.0\n",
      "dtype: float64\n"
     ]
    }
   ],
   "source": [
    "#在agg中，自定义函数\n",
    "def agg_sum(data):\n",
    "    s=data.sum()*2\n",
    "    return s\n",
    "print(detail_one.agg({'counts':agg_sum}))"
   ]
  },
  {
   "cell_type": "code",
   "execution_count": 52,
   "metadata": {
    "ExecuteTime": {
     "end_time": "2019-07-27T07:18:38.116752Z",
     "start_time": "2019-07-27T07:18:38.106743Z"
    }
   },
   "outputs": [
    {
     "name": "stdout",
     "output_type": "stream",
     "text": [
      "          counts  amounts\n",
      "order_id                 \n",
      "137          4.0     99.0\n",
      "165          2.0    178.0\n",
      "166          2.0    109.0\n",
      "171          4.0     65.0\n",
      "177          1.0     48.0\n",
      "193          1.0     55.0\n",
      "201          2.0     89.0\n",
      "203          1.0     55.0\n",
      "239          1.0     89.0\n",
      "242          4.0     65.0\n"
     ]
    }
   ],
   "source": [
    "print(detail_group.agg(np.max)[:10])"
   ]
  },
  {
   "cell_type": "markdown",
   "metadata": {
    "ExecuteTime": {
     "end_time": "2019-07-27T06:55:04.392751Z",
     "start_time": "2019-07-27T06:55:04.382745Z"
    }
   },
   "source": [
    "# 使用apply聚合"
   ]
  },
  {
   "cell_type": "code",
   "execution_count": 53,
   "metadata": {
    "ExecuteTime": {
     "end_time": "2019-07-27T07:22:08.145008Z",
     "start_time": "2019-07-27T07:22:08.136002Z"
    }
   },
   "outputs": [
    {
     "name": "stdout",
     "output_type": "stream",
     "text": [
      "counts     3088.000000\n",
      "amounts      45.337172\n",
      "dtype: float64\n"
     ]
    }
   ],
   "source": [
    "print(detail_one.apply({'counts':np.sum,'amounts':np.mean}))"
   ]
  },
  {
   "cell_type": "code",
   "execution_count": 55,
   "metadata": {
    "ExecuteTime": {
     "end_time": "2019-07-27T07:22:55.105761Z",
     "start_time": "2019-07-27T07:22:55.093751Z"
    }
   },
   "outputs": [
    {
     "name": "stdout",
     "output_type": "stream",
     "text": [
      "           counts        amounts\n",
      "sum   3088.000000  125992.000000\n",
      "mean     1.111191      45.337172\n"
     ]
    }
   ],
   "source": [
    "#一个函数用于多列\n",
    "print(detail_one[['counts','amounts']].apply([np.sum,np.mean]))"
   ]
  },
  {
   "cell_type": "code",
   "execution_count": 57,
   "metadata": {
    "ExecuteTime": {
     "end_time": "2019-07-27T07:35:04.447991Z",
     "start_time": "2019-07-27T07:35:03.505367Z"
    }
   },
   "outputs": [
    {
     "name": "stdout",
     "output_type": "stream",
     "text": [
      "   counts  amounts\n",
      "0     2.0     98.0\n",
      "1     2.0     96.0\n",
      "2     2.0     60.0\n",
      "3     2.0     50.0\n",
      "4     2.0     26.0\n",
      "5     2.0    176.0\n",
      "6     2.0    110.0\n",
      "7     2.0    176.0\n",
      "8     2.0     96.0\n",
      "9     2.0     64.0\n"
     ]
    }
   ],
   "source": [
    "print(detail_one[['counts','amounts']].transform(lambda x:x*2).head(10))"
   ]
  },
  {
   "cell_type": "code",
   "execution_count": 60,
   "metadata": {
    "ExecuteTime": {
     "end_time": "2019-07-27T07:41:13.104199Z",
     "start_time": "2019-07-27T07:41:12.303668Z"
    }
   },
   "outputs": [
    {
     "name": "stdout",
     "output_type": "stream",
     "text": [
      "   counts   amounts\n",
      "0     NaN  0.555556\n",
      "1     NaN  0.555556\n",
      "2     NaN  0.555556\n",
      "3     NaN  0.555556\n",
      "4     NaN  0.555556\n"
     ]
    }
   ],
   "source": [
    "#对分组后的数据进行利差标注化\n",
    "print(detail_group.transform(lambda x:\n",
    "            (x.mean()-x.min())/(x.max()-x.min())).head())"
   ]
  },
  {
   "cell_type": "markdown",
   "metadata": {},
   "source": [
    "## 小练习"
   ]
  },
  {
   "cell_type": "code",
   "execution_count": 64,
   "metadata": {
    "ExecuteTime": {
     "end_time": "2019-07-27T08:02:36.674733Z",
     "start_time": "2019-07-27T08:02:36.643715Z"
    }
   },
   "outputs": [],
   "source": [
    "import numpy as np\n",
    "import pandas as pd\n",
    "f=open(r'C:/Users/nswdwy_yu/Desktop/pandas_datas/meal_order_detail1.csv',\n",
    "       encoding='utf-8')\n",
    "detail_two=pd.read_csv(f)"
   ]
  },
  {
   "cell_type": "code",
   "execution_count": null,
   "metadata": {},
   "outputs": [],
   "source": []
  },
  {
   "cell_type": "code",
   "execution_count": 68,
   "metadata": {
    "ExecuteTime": {
     "end_time": "2019-07-27T08:31:58.867940Z",
     "start_time": "2019-07-27T08:31:58.836920Z"
    }
   },
   "outputs": [],
   "source": [
    "import numpy as np\n",
    "import pandas as pd\n",
    "f=open(r'C:/Users/nswdwy_yu/Desktop/pandas_datas/meal_order_detail1.csv',\n",
    "       encoding='utf-8')\n",
    "detail_1=pd.read_csv(f)"
   ]
  },
  {
   "cell_type": "code",
   "execution_count": 78,
   "metadata": {
    "ExecuteTime": {
     "end_time": "2019-07-27T08:37:09.931070Z",
     "start_time": "2019-07-27T08:37:09.900050Z"
    }
   },
   "outputs": [
    {
     "name": "stdout",
     "output_type": "stream",
     "text": [
      "                          amounts  counts\n",
      "order_id dishes_name                     \n",
      "137      农夫山泉NFC果汁100%橙汁      6.0     1.0\n",
      "         凉拌菠菜                27.0     1.0\n",
      "         番茄炖牛腩               35.0     1.0\n",
      "         白饭/小碗                1.0     4.0\n",
      "         西瓜胡萝卜沙拉             26.0     1.0\n",
      "         麻辣小龙虾               99.0     1.0\n",
      "165      38度剑南春              80.0     1.0\n",
      "         一品香酥藕               10.0     1.0\n",
      "         凉拌萝卜丝               20.0     1.0\n",
      "         啤酒鸭                 48.0     1.0\n",
      "         干锅田鸡                88.0     1.0\n",
      "         清蒸海鱼                78.0     1.0\n",
      "         爆炒猪肝                68.0     1.0\n",
      "         牛奶卷                 17.0     1.0\n",
      "         番茄蛋汤                25.0     1.0\n",
      "         白饭/大碗               10.0     2.0\n",
      "         百里香奶油烤紅酒牛肉         178.0     1.0\n",
      "         老式面包                19.0     1.0\n",
      "         芝士烩波士顿龙虾           175.0     2.0\n",
      "         葡萄奶酥(超酥香的饼干)         9.0     1.0\n",
      "         蓝带啤酒罐装               9.0     2.0\n",
      "         西瓜胡萝卜沙拉             26.0     1.0\n",
      "         辣炒鱿鱼                58.0     1.0\n",
      "         黄花菜炒木耳              35.0     1.0\n",
      "166      啤酒鸭                 48.0     1.0\n",
      "         大理石奶油蛋糕             13.0     2.0\n",
      "         水煮鱼                 65.0     1.0\n",
      "         百威啤酒罐装               6.0     2.0\n",
      "         葱姜炒蟹               109.0     1.0\n",
      "171      冰糖红豆薏米粥             15.0     4.0\n",
      "...                           ...     ...\n",
      "1317     白斩鸡                 88.0     1.0\n",
      "         红酒土豆烧鸭腿             48.0     1.0\n",
      "         芝士烩波士顿龙虾           175.0     1.0\n",
      "         葱油凉拌藕片              30.0     1.0\n",
      "         蒜蓉生蚝                49.0     1.0\n",
      "         长城窖酿解百纳红酒干红葡萄酒      35.0     1.0\n",
      "1319     倒立蒸梭子蟹             169.0     1.0\n",
      "         南瓜枸杞小饼干             19.0     1.0\n",
      "         油焖麻辣虾               65.0     1.0\n",
      "         清炒菊花菜               30.0     1.0\n",
      "         爆炒猪肝                68.0     1.0\n",
      "         番茄炖牛腩               35.0     1.0\n",
      "         皮蛋瘦肉粥               16.0     1.0\n",
      "         葱姜炒蟹               109.0     1.0\n",
      "         麻辣小龙虾               99.0     1.0\n",
      "1323     38度剑南春              80.0     1.0\n",
      "         凉拌萝卜丝               20.0     1.0\n",
      "         南瓜芝士包               10.0     1.0\n",
      "         桂圆肉红豆八宝饭            39.0     1.0\n",
      "         油焖麻辣虾               65.0     1.0\n",
      "         海带结豆腐汤              30.0     1.0\n",
      "         清蒸海鱼                78.0     1.0\n",
      "         爆炒双丝                35.0     1.0\n",
      "         牛奶卷                 17.0     1.0\n",
      "         番茄炖牛腩               35.0     1.0\n",
      "         番茄炖秋葵               35.0     1.0\n",
      "         芝士烩波士顿龙虾           175.0     1.0\n",
      "         芹黄鳝丝                58.0     1.0\n",
      "         蒜蓉生蚝                49.0     1.0\n",
      "         谷稻小庄                38.0     1.0\n",
      "\n",
      "[2778 rows x 2 columns]\n"
     ]
    }
   ],
   "source": [
    "detail_pivot=pd.pivot_table(detail_1[['order_id','counts','amounts',\\\n",
    "                                      'dishes_name']],\n",
    "                            index=['order_id','dishes_name'],\\\n",
    "                            aggfunc=np.sum)\n",
    "print(detail_pivot)"
   ]
  }
 ],
 "metadata": {
  "kernelspec": {
   "display_name": "Python 3",
   "language": "python",
   "name": "python3"
  },
  "language_info": {
   "codemirror_mode": {
    "name": "ipython",
    "version": 3
   },
   "file_extension": ".py",
   "mimetype": "text/x-python",
   "name": "python",
   "nbconvert_exporter": "python",
   "pygments_lexer": "ipython3",
   "version": "3.6.4"
  }
 },
 "nbformat": 4,
 "nbformat_minor": 2
}
