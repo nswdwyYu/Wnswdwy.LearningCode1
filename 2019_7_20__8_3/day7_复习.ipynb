{
 "cells": [
  {
   "cell_type": "code",
   "execution_count": 19,
   "metadata": {},
   "outputs": [],
   "source": [
    "import numpy as np\n",
    "import pandas as pd\n",
    "f=open(r'C:\\Users\\nswdwy_yu\\Desktop\\pandas数据\\meal_order_detail2.csv',encoding='utf-8')\n",
    "detail_one=pd.read_csv(f)"
   ]
  },
  {
   "cell_type": "code",
   "execution_count": 20,
   "metadata": {},
   "outputs": [
    {
     "name": "stdout",
     "output_type": "stream",
     "text": [
      "0                  香酥两吃大虾\n",
      "1                   姜葱炒花蟹\n",
      "2        香烤牛排\\n\\n\\n\\n\\n\\n\n",
      "3                    铁板牛肉\n",
      "4                     蒜香包\n",
      "5                    肉丁茄子\n",
      "6                   白饭/大碗\n",
      "7                  香辣腐乳炒虾\n",
      "8                   山药养生粥\n",
      "9                    盘蟹蒸蛋\n",
      "10                   剁椒鱼头\n",
      "11        农夫山泉NFC果汁100%橙汁\n",
      "12                 意文柠檬汁 \n",
      "13                   大蒜苋菜\n",
      "14                  炝炒大白菜\n",
      "15                露露无糖杏仁露\n",
      "16                  麻辣小龙虾\n",
      "17              白胡椒胡萝卜羊肉汤\n",
      "18                    水煮鱼\n",
      "19                  辣炒海带丝\n",
      "20               香烤牛排\\n\\n\n",
      "21                  凉拌萝卜丝\n",
      "22                   凉拌菠菜\n",
      "23                   爆炒鸡翅\n",
      "24                  香菇鸡肉粥\n",
      "25                  白饭/大碗\n",
      "26                   剁椒鱼头\n",
      "27                  麻辣小龙虾\n",
      "28                  谷稻小庄 \n",
      "29                冰糖红豆薏米粥\n",
      "              ...        \n",
      "3617               意文柠檬汁 \n",
      "3618                  水煮鱼\n",
      "3619                 盘蟹蒸蛋\n",
      "3620            五色糯米饭(七色)\n",
      "3621                 肉丁茄子\n",
      "3622                 杭椒鸡珍\n",
      "3623                 爆炒鸡翅\n",
      "3624                自制猪肉脯\n",
      "3625              超人气广式肠粉\n",
      "3626                  打卤面\n",
      "3627                香菇鸡肉粥\n",
      "3628                避风塘炒蟹\n",
      "3629             芝士烩波士顿龙虾\n",
      "3630               香辣腐乳炒虾\n",
      "3631               香酥两吃大虾\n",
      "3632                芝麻烤紫菜\n",
      "3633     香烤牛排\\n\\n\\n\\n\\n\\n\n",
      "3634                 孜然羊排\n",
      "3635             美妙绝伦之白莲花\n",
      "3636    蒙古烤羊腿\\n\\n\\n\\n\\n\\n\n",
      "3637                清炒菊花菜\n",
      "3638                谷稻小庄 \n",
      "3639               意文柠檬汁 \n",
      "3640               咖啡奶香面包\n",
      "3641              冰糖红豆薏米粥\n",
      "3642                白饭/大碗\n",
      "3643     泡椒凤爪\\n\\n\\n\\n\\n\\n\n",
      "3644                 拌土豆丝\n",
      "3645                  牛尾汤\n",
      "3646     照烧鸡腿\\n\\n\\n\\n\\n\\n\n",
      "Name: dishes_name, Length: 3647, dtype: object\n"
     ]
    }
   ],
   "source": [
    "print(detail_one['dishes_name'])"
   ]
  },
  {
   "cell_type": "code",
   "execution_count": 21,
   "metadata": {},
   "outputs": [
    {
     "name": "stdout",
     "output_type": "stream",
     "text": [
      "0                  香酥两吃大虾\n",
      "1                   姜葱炒花蟹\n",
      "2        香烤牛排\\n\\n\\n\\n\\n\\n\n",
      "3                    铁板牛肉\n",
      "4                     蒜香包\n",
      "5                    肉丁茄子\n",
      "6                   白饭/大碗\n",
      "7                  香辣腐乳炒虾\n",
      "8                   山药养生粥\n",
      "9                    盘蟹蒸蛋\n",
      "10                   剁椒鱼头\n",
      "11        农夫山泉NFC果汁100%橙汁\n",
      "12                 意文柠檬汁 \n",
      "13                   大蒜苋菜\n",
      "14                  炝炒大白菜\n",
      "15                露露无糖杏仁露\n",
      "16                  麻辣小龙虾\n",
      "17              白胡椒胡萝卜羊肉汤\n",
      "18                    水煮鱼\n",
      "19                  辣炒海带丝\n",
      "20               香烤牛排\\n\\n\n",
      "21                  凉拌萝卜丝\n",
      "22                   凉拌菠菜\n",
      "23                   爆炒鸡翅\n",
      "24                  香菇鸡肉粥\n",
      "25                  白饭/大碗\n",
      "26                   剁椒鱼头\n",
      "27                  麻辣小龙虾\n",
      "28                  谷稻小庄 \n",
      "29                冰糖红豆薏米粥\n",
      "              ...        \n",
      "3617               意文柠檬汁 \n",
      "3618                  水煮鱼\n",
      "3619                 盘蟹蒸蛋\n",
      "3620            五色糯米饭(七色)\n",
      "3621                 肉丁茄子\n",
      "3622                 杭椒鸡珍\n",
      "3623                 爆炒鸡翅\n",
      "3624                自制猪肉脯\n",
      "3625              超人气广式肠粉\n",
      "3626                  打卤面\n",
      "3627                香菇鸡肉粥\n",
      "3628                避风塘炒蟹\n",
      "3629             芝士烩波士顿龙虾\n",
      "3630               香辣腐乳炒虾\n",
      "3631               香酥两吃大虾\n",
      "3632                芝麻烤紫菜\n",
      "3633     香烤牛排\\n\\n\\n\\n\\n\\n\n",
      "3634                 孜然羊排\n",
      "3635             美妙绝伦之白莲花\n",
      "3636    蒙古烤羊腿\\n\\n\\n\\n\\n\\n\n",
      "3637                清炒菊花菜\n",
      "3638                谷稻小庄 \n",
      "3639               意文柠檬汁 \n",
      "3640               咖啡奶香面包\n",
      "3641              冰糖红豆薏米粥\n",
      "3642                白饭/大碗\n",
      "3643     泡椒凤爪\\n\\n\\n\\n\\n\\n\n",
      "3644                 拌土豆丝\n",
      "3645                  牛尾汤\n",
      "3646     照烧鸡腿\\n\\n\\n\\n\\n\\n\n",
      "Name: dishes_name, Length: 3647, dtype: object\n"
     ]
    }
   ],
   "source": [
    "print(detail_one.loc[:,'dishes_name'])"
   ]
  },
  {
   "cell_type": "code",
   "execution_count": 37,
   "metadata": {},
   "outputs": [
    {
     "name": "stdout",
     "output_type": "stream",
     "text": [
      "白饭/大碗                122\n",
      "凉拌菠菜                  93\n",
      "谷稻小庄                  83\n",
      "五色糯米饭(七色)             74\n",
      "麻辣小龙虾                 74\n",
      "香酥两吃大虾                73\n",
      "白饭/小碗                 68\n",
      "辣炒鱿鱼                  66\n",
      "蒙古烤羊腿\\n\\n\\n\\n\\n\\n     63\n",
      "芝士烩波士顿龙虾              63\n",
      "Name: dishes_name, dtype: int64\n"
     ]
    }
   ],
   "source": [
    "#print(detail_one.loc[:,5]) \n",
    "\n",
    "detail_value=detail_one['dishes_name'].value_counts()\n",
    "#print(detail_value[:10])\n",
    "print(detail_value.head(10))"
   ]
  },
  {
   "cell_type": "code",
   "execution_count": 27,
   "metadata": {},
   "outputs": [
    {
     "name": "stdout",
     "output_type": "stream",
     "text": [
      "         detail_id     order_id      dishes_id  logicprn_name  \\\n",
      "count  3647.000000  3647.000000    3647.000000            0.0   \n",
      "mean   4930.318070   845.261311  609987.478475            NaN   \n",
      "std    1757.377595   316.361613     101.104024            NaN   \n",
      "min     831.000000   162.000000  606000.000000            NaN   \n",
      "25%    3556.000000   597.000000  609953.000000            NaN   \n",
      "50%    4919.000000   832.000000  609987.000000            NaN   \n",
      "75%    6211.500000  1134.000000  610023.000000            NaN   \n",
      "max    8193.000000  1324.000000  610072.000000            NaN   \n",
      "\n",
      "       parent_class_name  itemis_add       counts      amounts  cost  \\\n",
      "count                0.0      3647.0  3647.000000  3647.000000   0.0   \n",
      "mean                 NaN         0.0     1.110502    44.500137   NaN   \n",
      "std                  NaN         0.0     0.610403    35.163117   NaN   \n",
      "min                  NaN         0.0     1.000000     1.000000   NaN   \n",
      "25%                  NaN         0.0     1.000000    25.000000   NaN   \n",
      "50%                  NaN         0.0     1.000000    35.000000   NaN   \n",
      "75%                  NaN         0.0     1.000000    55.000000   NaN   \n",
      "max                  NaN         0.0    10.000000   178.000000   NaN   \n",
      "\n",
      "       discount_amt  discount_reason  kick_back  add_inprice  add_info  \\\n",
      "count           0.0              0.0        0.0       3647.0       0.0   \n",
      "mean            NaN              NaN        NaN          0.0       NaN   \n",
      "std             NaN              NaN        NaN          0.0       NaN   \n",
      "min             NaN              NaN        NaN          0.0       NaN   \n",
      "25%             NaN              NaN        NaN          0.0       NaN   \n",
      "50%             NaN              NaN        NaN          0.0       NaN   \n",
      "75%             NaN              NaN        NaN          0.0       NaN   \n",
      "max             NaN              NaN        NaN          0.0       NaN   \n",
      "\n",
      "       bar_code       emp_id  \n",
      "count       0.0  3647.000000  \n",
      "mean        NaN  1270.723608  \n",
      "std         NaN   169.858156  \n",
      "min         NaN   982.000000  \n",
      "25%         NaN  1130.000000  \n",
      "50%         NaN  1219.000000  \n",
      "75%         NaN  1413.500000  \n",
      "max         NaN  1604.000000  \n",
      "count    3647.000000\n",
      "mean       44.500137\n",
      "std        35.163117\n",
      "min         1.000000\n",
      "25%        25.000000\n",
      "50%        35.000000\n",
      "75%        55.000000\n",
      "max       178.000000\n",
      "Name: amounts, dtype: float64\n"
     ]
    }
   ],
   "source": [
    "detail_desc = detail_one.describe()\n",
    "print(detail_desc)\n",
    "print(detail_desc.loc[:,'amounts'])"
   ]
  },
  {
   "cell_type": "code",
   "execution_count": null,
   "metadata": {},
   "outputs": [],
   "source": []
  },
  {
   "cell_type": "code",
   "execution_count": null,
   "metadata": {},
   "outputs": [],
   "source": []
  }
 ],
 "metadata": {
  "kernelspec": {
   "display_name": "Python 3",
   "language": "python",
   "name": "python3"
  },
  "language_info": {
   "codemirror_mode": {
    "name": "ipython",
    "version": 3
   },
   "file_extension": ".py",
   "mimetype": "text/x-python",
   "name": "python",
   "nbconvert_exporter": "python",
   "pygments_lexer": "ipython3",
   "version": "3.6.4"
  }
 },
 "nbformat": 4,
 "nbformat_minor": 2
}
