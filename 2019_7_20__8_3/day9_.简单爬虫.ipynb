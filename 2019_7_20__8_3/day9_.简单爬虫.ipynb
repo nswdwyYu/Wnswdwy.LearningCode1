{
 "cells": [
  {
   "cell_type": "code",
   "execution_count": 16,
   "metadata": {
    "ExecuteTime": {
     "end_time": "2019-07-29T06:04:05.874259Z",
     "start_time": "2019-07-29T06:03:59.751208Z"
    }
   },
   "outputs": [],
   "source": [
    "from selenium import webdriver\n",
    "driver=webdriver.Chrome()      #创建一个浏览器对象\n",
    "url='http://www.ptpress.com.cn/search/books'\n",
    "driver.get(url)"
   ]
  },
  {
   "cell_type": "code",
   "execution_count": 15,
   "metadata": {
    "ExecuteTime": {
     "end_time": "2019-07-29T06:03:53.767684Z",
     "start_time": "2019-07-29T06:03:53.483495Z"
    }
   },
   "outputs": [
    {
     "ename": "ElementClickInterceptedException",
     "evalue": "Message: element click intercepted: Element <i class=\"icon iconfont icon-sousuo1\"></i> is not clickable at point (726, 251). Other element would receive the click: <div class=\"ivu-spin-main\">...</div>\n  (Session info: chrome=75.0.3770.142)\n",
     "output_type": "error",
     "traceback": [
      "\u001b[1;31m---------------------------------------------------------------------------\u001b[0m",
      "\u001b[1;31mElementClickInterceptedException\u001b[0m          Traceback (most recent call last)",
      "\u001b[1;32m<ipython-input-15-5eda96d77b1b>\u001b[0m in \u001b[0;36m<module>\u001b[1;34m()\u001b[0m\n\u001b[0;32m      6\u001b[0m \u001b[1;31m#app > div:nth-child(1) > div > div > div > button > i\u001b[0m\u001b[1;33m\u001b[0m\u001b[1;33m\u001b[0m\u001b[0m\n\u001b[0;32m      7\u001b[0m \u001b[0mclick_button\u001b[0m \u001b[1;33m=\u001b[0m\u001b[0mdriver\u001b[0m\u001b[1;33m.\u001b[0m\u001b[0mfind_element_by_css_selector\u001b[0m\u001b[1;33m(\u001b[0m\u001b[1;34m'#app > div:nth-child(1) > div > div > div > button > i'\u001b[0m\u001b[1;33m)\u001b[0m\u001b[1;33m\u001b[0m\u001b[0m\n\u001b[1;32m----> 8\u001b[1;33m \u001b[0mclick_button\u001b[0m\u001b[1;33m.\u001b[0m\u001b[0mclick\u001b[0m\u001b[1;33m(\u001b[0m\u001b[1;33m)\u001b[0m\u001b[1;33m\u001b[0m\u001b[0m\n\u001b[0m\u001b[0;32m      9\u001b[0m \u001b[1;33m\u001b[0m\u001b[0m\n\u001b[0;32m     10\u001b[0m \u001b[1;31m#  三.提取网页源代码\u001b[0m\u001b[1;33m\u001b[0m\u001b[1;33m\u001b[0m\u001b[0m\n",
      "\u001b[1;32mF:\\Python_All\\Anaconda3-5.1.0\\lib\\site-packages\\selenium\\webdriver\\remote\\webelement.py\u001b[0m in \u001b[0;36mclick\u001b[1;34m(self)\u001b[0m\n\u001b[0;32m     78\u001b[0m     \u001b[1;32mdef\u001b[0m \u001b[0mclick\u001b[0m\u001b[1;33m(\u001b[0m\u001b[0mself\u001b[0m\u001b[1;33m)\u001b[0m\u001b[1;33m:\u001b[0m\u001b[1;33m\u001b[0m\u001b[0m\n\u001b[0;32m     79\u001b[0m         \u001b[1;34m\"\"\"Clicks the element.\"\"\"\u001b[0m\u001b[1;33m\u001b[0m\u001b[0m\n\u001b[1;32m---> 80\u001b[1;33m         \u001b[0mself\u001b[0m\u001b[1;33m.\u001b[0m\u001b[0m_execute\u001b[0m\u001b[1;33m(\u001b[0m\u001b[0mCommand\u001b[0m\u001b[1;33m.\u001b[0m\u001b[0mCLICK_ELEMENT\u001b[0m\u001b[1;33m)\u001b[0m\u001b[1;33m\u001b[0m\u001b[0m\n\u001b[0m\u001b[0;32m     81\u001b[0m \u001b[1;33m\u001b[0m\u001b[0m\n\u001b[0;32m     82\u001b[0m     \u001b[1;32mdef\u001b[0m \u001b[0msubmit\u001b[0m\u001b[1;33m(\u001b[0m\u001b[0mself\u001b[0m\u001b[1;33m)\u001b[0m\u001b[1;33m:\u001b[0m\u001b[1;33m\u001b[0m\u001b[0m\n",
      "\u001b[1;32mF:\\Python_All\\Anaconda3-5.1.0\\lib\\site-packages\\selenium\\webdriver\\remote\\webelement.py\u001b[0m in \u001b[0;36m_execute\u001b[1;34m(self, command, params)\u001b[0m\n\u001b[0;32m    631\u001b[0m             \u001b[0mparams\u001b[0m \u001b[1;33m=\u001b[0m \u001b[1;33m{\u001b[0m\u001b[1;33m}\u001b[0m\u001b[1;33m\u001b[0m\u001b[0m\n\u001b[0;32m    632\u001b[0m         \u001b[0mparams\u001b[0m\u001b[1;33m[\u001b[0m\u001b[1;34m'id'\u001b[0m\u001b[1;33m]\u001b[0m \u001b[1;33m=\u001b[0m \u001b[0mself\u001b[0m\u001b[1;33m.\u001b[0m\u001b[0m_id\u001b[0m\u001b[1;33m\u001b[0m\u001b[0m\n\u001b[1;32m--> 633\u001b[1;33m         \u001b[1;32mreturn\u001b[0m \u001b[0mself\u001b[0m\u001b[1;33m.\u001b[0m\u001b[0m_parent\u001b[0m\u001b[1;33m.\u001b[0m\u001b[0mexecute\u001b[0m\u001b[1;33m(\u001b[0m\u001b[0mcommand\u001b[0m\u001b[1;33m,\u001b[0m \u001b[0mparams\u001b[0m\u001b[1;33m)\u001b[0m\u001b[1;33m\u001b[0m\u001b[0m\n\u001b[0m\u001b[0;32m    634\u001b[0m \u001b[1;33m\u001b[0m\u001b[0m\n\u001b[0;32m    635\u001b[0m     \u001b[1;32mdef\u001b[0m \u001b[0mfind_element\u001b[0m\u001b[1;33m(\u001b[0m\u001b[0mself\u001b[0m\u001b[1;33m,\u001b[0m \u001b[0mby\u001b[0m\u001b[1;33m=\u001b[0m\u001b[0mBy\u001b[0m\u001b[1;33m.\u001b[0m\u001b[0mID\u001b[0m\u001b[1;33m,\u001b[0m \u001b[0mvalue\u001b[0m\u001b[1;33m=\u001b[0m\u001b[1;32mNone\u001b[0m\u001b[1;33m)\u001b[0m\u001b[1;33m:\u001b[0m\u001b[1;33m\u001b[0m\u001b[0m\n",
      "\u001b[1;32mF:\\Python_All\\Anaconda3-5.1.0\\lib\\site-packages\\selenium\\webdriver\\remote\\webdriver.py\u001b[0m in \u001b[0;36mexecute\u001b[1;34m(self, driver_command, params)\u001b[0m\n\u001b[0;32m    319\u001b[0m         \u001b[0mresponse\u001b[0m \u001b[1;33m=\u001b[0m \u001b[0mself\u001b[0m\u001b[1;33m.\u001b[0m\u001b[0mcommand_executor\u001b[0m\u001b[1;33m.\u001b[0m\u001b[0mexecute\u001b[0m\u001b[1;33m(\u001b[0m\u001b[0mdriver_command\u001b[0m\u001b[1;33m,\u001b[0m \u001b[0mparams\u001b[0m\u001b[1;33m)\u001b[0m\u001b[1;33m\u001b[0m\u001b[0m\n\u001b[0;32m    320\u001b[0m         \u001b[1;32mif\u001b[0m \u001b[0mresponse\u001b[0m\u001b[1;33m:\u001b[0m\u001b[1;33m\u001b[0m\u001b[0m\n\u001b[1;32m--> 321\u001b[1;33m             \u001b[0mself\u001b[0m\u001b[1;33m.\u001b[0m\u001b[0merror_handler\u001b[0m\u001b[1;33m.\u001b[0m\u001b[0mcheck_response\u001b[0m\u001b[1;33m(\u001b[0m\u001b[0mresponse\u001b[0m\u001b[1;33m)\u001b[0m\u001b[1;33m\u001b[0m\u001b[0m\n\u001b[0m\u001b[0;32m    322\u001b[0m             response['value'] = self._unwrap_value(\n\u001b[0;32m    323\u001b[0m                 response.get('value', None))\n",
      "\u001b[1;32mF:\\Python_All\\Anaconda3-5.1.0\\lib\\site-packages\\selenium\\webdriver\\remote\\errorhandler.py\u001b[0m in \u001b[0;36mcheck_response\u001b[1;34m(self, response)\u001b[0m\n\u001b[0;32m    240\u001b[0m                 \u001b[0malert_text\u001b[0m \u001b[1;33m=\u001b[0m \u001b[0mvalue\u001b[0m\u001b[1;33m[\u001b[0m\u001b[1;34m'alert'\u001b[0m\u001b[1;33m]\u001b[0m\u001b[1;33m.\u001b[0m\u001b[0mget\u001b[0m\u001b[1;33m(\u001b[0m\u001b[1;34m'text'\u001b[0m\u001b[1;33m)\u001b[0m\u001b[1;33m\u001b[0m\u001b[0m\n\u001b[0;32m    241\u001b[0m             \u001b[1;32mraise\u001b[0m \u001b[0mexception_class\u001b[0m\u001b[1;33m(\u001b[0m\u001b[0mmessage\u001b[0m\u001b[1;33m,\u001b[0m \u001b[0mscreen\u001b[0m\u001b[1;33m,\u001b[0m \u001b[0mstacktrace\u001b[0m\u001b[1;33m,\u001b[0m \u001b[0malert_text\u001b[0m\u001b[1;33m)\u001b[0m\u001b[1;33m\u001b[0m\u001b[0m\n\u001b[1;32m--> 242\u001b[1;33m         \u001b[1;32mraise\u001b[0m \u001b[0mexception_class\u001b[0m\u001b[1;33m(\u001b[0m\u001b[0mmessage\u001b[0m\u001b[1;33m,\u001b[0m \u001b[0mscreen\u001b[0m\u001b[1;33m,\u001b[0m \u001b[0mstacktrace\u001b[0m\u001b[1;33m)\u001b[0m\u001b[1;33m\u001b[0m\u001b[0m\n\u001b[0m\u001b[0;32m    243\u001b[0m \u001b[1;33m\u001b[0m\u001b[0m\n\u001b[0;32m    244\u001b[0m     \u001b[1;32mdef\u001b[0m \u001b[0m_value_or_default\u001b[0m\u001b[1;33m(\u001b[0m\u001b[0mself\u001b[0m\u001b[1;33m,\u001b[0m \u001b[0mobj\u001b[0m\u001b[1;33m,\u001b[0m \u001b[0mkey\u001b[0m\u001b[1;33m,\u001b[0m \u001b[0mdefault\u001b[0m\u001b[1;33m)\u001b[0m\u001b[1;33m:\u001b[0m\u001b[1;33m\u001b[0m\u001b[0m\n",
      "\u001b[1;31mElementClickInterceptedException\u001b[0m: Message: element click intercepted: Element <i class=\"icon iconfont icon-sousuo1\"></i> is not clickable at point (726, 251). Other element would receive the click: <div class=\"ivu-spin-main\">...</div>\n  (Session info: chrome=75.0.3770.142)\n"
     ]
    }
   ],
   "source": [
    "#  二.  定位、输入关键字网页元素\n",
    "input_text_button = driver.find_element_by_id('searchVal')\n",
    "input_text_button.send_keys('python')\n",
    "\n",
    "#定位按钮，并点击\n",
    "#app > div:nth-child(1) > div > div > div > button > i\n",
    "click_button =driver.find_element_by_css_selector('#app > div:nth-child(1) > div > div > div > button > i')\n",
    "click_button.click()\n",
    "\n",
    "#  三.提取网页源代码\n",
    "html = driver.page_source\n",
    "#print(html)\n",
    "\n",
    "# 四.转换网页源代码为BSoup对象\n",
    "from bs4  import BeautifulSoup\n",
    "#创建Bsoup对象\n",
    "soup=BeautifulSoup(html,'html.parser')\n",
    "#初始化BSoup对象\n",
    "soup.prettify\n",
    "\n",
    "#五、提取元素\n",
    "child_url = soup.select('div.book_item > a')        #定位到所有class属性为book_item的div元素\n",
    "print(child_url)\n",
    "img_html = []\n",
    "child_html = []\n",
    "for i in range(len(child_url)):\n",
    "    #print(child_url[0])\n",
    "    child_html.append('https://www.ptpress.com.cn'+child_url[i].get('href')) #提取子网页的网址\n",
    "\n",
    "    ####提取图片的超链接网址\n",
    "    img = child_url[i].select('div > img')            \n",
    "    img_html.append(img[0].get('src'))       \n",
    "print(img_html)\n",
    "#下载图片\n",
    "import time\n",
    "import requests\n",
    "for j in range(len(img_html)):\n",
    "   img_info = requests.get(img_html[j])\n",
    "   time.sleep(2)      ###睡眠2秒钟\n",
    "   with open (r'C:\\Users\\nswdwy_yu\\Desktop\\%d_pic.jpg'%j,'wb') as f:\n",
    "       f.write(img_info.content)\n",
    "\n",
    "\n"
   ]
  },
  {
   "cell_type": "code",
   "execution_count": 7,
   "metadata": {
    "ExecuteTime": {
     "end_time": "2019-07-29T06:45:39.759628Z",
     "start_time": "2019-07-29T06:45:28.815367Z"
    }
   },
   "outputs": [
    {
     "name": "stdout",
     "output_type": "stream",
     "text": [
      "['https://www.ptpress.com.cn/shopping/buy?bookId=135a1062-a661-475a-9fe5-ef9ad09b6cef', 'https://www.ptpress.com.cn/shopping/buy?bookId=15aa18f1-274b-4412-a68f-94bd38ed891d', 'https://www.ptpress.com.cn/shopping/buy?bookId=16ee6fc2-86bc-4ff2-a277-84502de997eb', 'https://www.ptpress.com.cn/shopping/buy?bookId=273d6183-4e74-4bb3-89e5-e7e63dd73196', 'https://www.ptpress.com.cn/shopping/buy?bookId=30a94531-96bb-46cb-aba2-5f72fd7566ec', 'https://www.ptpress.com.cn/shopping/buy?bookId=40edbc59-6ef0-431a-8b51-3533cf4ac460', 'https://www.ptpress.com.cn/shopping/buy?bookId=83977c09-61d2-4a95-af41-5f1f0988e70d', 'https://www.ptpress.com.cn/shopping/buy?bookId=bbb21044-be96-44ba-a19d-31215f556e8d', 'https://www.ptpress.com.cn/shopping/buy?bookId=cbe6c9cd-6bf0-41e5-9cb6-808b0bb0877c']\n",
      "[]\n"
     ]
    }
   ],
   "source": [
    "#进入子网页\n",
    "print(child_html)\n",
    "\n",
    "driver_child = webdriver.Chrome()\n",
    "driver_child.get(child_html[0])\n",
    "html_info = driver.page_source\n",
    "\n",
    "\n",
    "soup1 = BeautifulSoup(html_info,'html.parser')\n",
    "#初始化BSoup对象\n",
    "soup.prettify\n",
    "\n",
    "title = soup1.select('div.info > p')\n",
    "print(title)"
   ]
  },
  {
   "cell_type": "code",
   "execution_count": null,
   "metadata": {
    "ExecuteTime": {
     "end_time": "2019-07-29T03:53:45.219826Z",
     "start_time": "2019-07-29T03:53:45.130766Z"
    }
   },
   "outputs": [],
   "source": []
  },
  {
   "cell_type": "code",
   "execution_count": 10,
   "metadata": {
    "ExecuteTime": {
     "end_time": "2019-07-29T07:32:53.543934Z",
     "start_time": "2019-07-29T07:31:22.845514Z"
    }
   },
   "outputs": [
    {
     "name": "stdout",
     "output_type": "stream",
     "text": [
      "[<a href=\"/shopping/buy?bookId=76eb275d-42ec-4a6a-b781-e00e5721daa7\" target=\"_blank\"><div class=\"book_img book_bg_6\"><img src=\"http://47.93.163.221:8084/uploadimg/Material/978-7-115-51241-3/72jpg/51241_s300.jpg\"/></div> <p>Python数据科学与机器学习 从入门到实践</p></a>, <a href=\"/shopping/buy?bookId=e7e6ad1b-5f3a-49f6-bcd4-4e2060985880\" target=\"_blank\"><div class=\"book_img book_bg_1\"><img src=\"http://47.93.163.221:8084/uploadimg/Material/978-7-115-51154-6/72jpg/51154_s300.jpg\"/></div> <p>深入理解Python特性</p></a>, <a href=\"/shopping/buy?bookId=7f23c687-f3d2-4dba-a963-ea4244e1a9c5\" target=\"_blank\"><div class=\"book_img book_bg_5\"><img src=\"http://47.93.163.221:8084/uploadimg/Material/978-7-115-50338-1/72jpg/50338_s300.jpg\"/></div> <p>Python算法详解</p></a>, <a href=\"/shopping/buy?bookId=5b17ab77-008a-47b2-b89b-bacc03d4c1bf\" target=\"_blank\"><div class=\"book_img book_bg_7\"><img src=\"http://47.93.163.221:8084/uploadimg/Material/978-7-115-50943-7/72jpg/50943_s300.jpg\"/></div> <p>编程的乐趣 用Python解算法谜题</p></a>, <a href=\"/shopping/buy?bookId=c317c65f-f6e5-4ee8-ad1c-20cb86010550\" target=\"_blank\"><div class=\"book_img book_bg_6\"><img src=\"http://47.93.163.221:8084/uploadimg/Material/978-7-115-51014-3/72jpg/51014_s300.jpg\"/></div> <p>青少年Python编程入门</p></a>, <a href=\"/shopping/buy?bookId=de701209-196e-4800-9412-2cc9a92e1344\" target=\"_blank\"><div class=\"book_img book_bg_2\"><img src=\"http://47.93.163.221:8084/uploadimg/Material/978-7-115-50926-0/72jpg/50926_s300.jpg\"/></div> <p>Python网络爬虫权威指南 第2版</p></a>, <a href=\"/shopping/buy?bookId=8e75253e-f27e-4093-8876-4952b98409d5\" target=\"_blank\"><div class=\"book_img book_bg_7\"><img src=\"http://47.93.163.221:8084/uploadimg/Material/978-7-115-50496-8/72jpg/50496_s300.jpg\"/></div> <p>Python 3破冰人工智能 从入门到实战</p></a>, <a href=\"/shopping/buy?bookId=7b880d0e-f9a1-4419-9cbb-ef94dd8648dc\" target=\"_blank\"><div class=\"book_img book_bg_4\"><img src=\"http://47.93.163.221:8084/uploadimg/Material/978-7-115-50675-7/72jpg/50675_s300.jpg\"/></div> <p>从零开始学Python 第2版</p></a>, <a href=\"/shopping/buy?bookId=cdbd6522-2394-4b7d-a4d3-840a75be22cb\" target=\"_blank\"><div class=\"book_img book_bg_1\"><img src=\"http://47.93.163.221:8084/uploadimg/Material/978-7-115-50506-4/72jpg/50506_s300.jpg\"/></div> <p>Python网络爬虫技术</p></a>]\n"
     ]
    },
    {
     "ename": "AttributeError",
     "evalue": "'NoneType' object has no attribute 'select'",
     "output_type": "error",
     "traceback": [
      "\u001b[1;31m---------------------------------------------------------------------------\u001b[0m",
      "\u001b[1;31mAttributeError\u001b[0m                            Traceback (most recent call last)",
      "\u001b[1;32m<ipython-input-10-199b8e981910>\u001b[0m in \u001b[0;36m<module>\u001b[1;34m()\u001b[0m\n\u001b[0;32m    110\u001b[0m     \u001b[0msoup\u001b[0m \u001b[1;33m=\u001b[0m \u001b[0msoup_def\u001b[0m\u001b[1;33m(\u001b[0m\u001b[0mhtml\u001b[0m\u001b[1;33m)\u001b[0m\u001b[1;33m\u001b[0m\u001b[0m\n\u001b[0;32m    111\u001b[0m     \u001b[0mchild_html\u001b[0m \u001b[1;33m=\u001b[0m \u001b[0mchild_url_def\u001b[0m\u001b[1;33m(\u001b[0m\u001b[0msoup\u001b[0m\u001b[1;33m)\u001b[0m\u001b[1;33m\u001b[0m\u001b[0m\n\u001b[1;32m--> 112\u001b[1;33m     \u001b[0minfo\u001b[0m \u001b[1;33m=\u001b[0m \u001b[0mchild_soup\u001b[0m\u001b[1;33m(\u001b[0m\u001b[0mchild_html\u001b[0m\u001b[1;33m)\u001b[0m\u001b[1;33m\u001b[0m\u001b[0m\n\u001b[0m\u001b[0;32m    113\u001b[0m     \u001b[0mprint\u001b[0m\u001b[1;33m(\u001b[0m\u001b[0minfo\u001b[0m\u001b[1;33m)\u001b[0m\u001b[1;33m\u001b[0m\u001b[0m\n\u001b[0;32m    114\u001b[0m \u001b[1;33m\u001b[0m\u001b[0m\n",
      "\u001b[1;32m<ipython-input-10-199b8e981910>\u001b[0m in \u001b[0;36mchild_soup\u001b[1;34m(child_html)\u001b[0m\n\u001b[0;32m     87\u001b[0m         \u001b[0mauthor_list\u001b[0m\u001b[1;33m.\u001b[0m\u001b[0mappend\u001b[0m\u001b[1;33m(\u001b[0m\u001b[0minfo\u001b[0m\u001b[1;33m[\u001b[0m\u001b[1;36m1\u001b[0m\u001b[1;33m]\u001b[0m\u001b[1;33m.\u001b[0m\u001b[0mget_text\u001b[0m\u001b[1;33m(\u001b[0m\u001b[1;33m)\u001b[0m\u001b[1;33m)\u001b[0m  \u001b[1;31m#作者是第二个\u001b[0m\u001b[1;33m\u001b[0m\u001b[0m\n\u001b[0;32m     88\u001b[0m \u001b[1;33m\u001b[0m\u001b[0m\n\u001b[1;32m---> 89\u001b[1;33m         \u001b[0mbook_price\u001b[0m\u001b[1;33m=\u001b[0m\u001b[0msoup\u001b[0m\u001b[1;33m.\u001b[0m\u001b[0mchild\u001b[0m\u001b[1;33m.\u001b[0m\u001b[0mselect\u001b[0m\u001b[1;33m(\u001b[0m\u001b[1;34m'span.print'\u001b[0m\u001b[1;33m)\u001b[0m\u001b[1;33m\u001b[0m\u001b[0m\n\u001b[0m\u001b[0;32m     90\u001b[0m         \u001b[0mprice_list\u001b[0m\u001b[1;33m.\u001b[0m\u001b[0mappend\u001b[0m\u001b[1;33m(\u001b[0m\u001b[0mbook_price\u001b[0m\u001b[1;33m[\u001b[0m\u001b[1;36m0\u001b[0m\u001b[1;33m]\u001b[0m\u001b[1;33m.\u001b[0m\u001b[0mget_text\u001b[0m\u001b[1;33m(\u001b[0m\u001b[1;33m)\u001b[0m\u001b[1;33m)\u001b[0m  \u001b[1;31m#提取价格\u001b[0m\u001b[1;33m\u001b[0m\u001b[0m\n\u001b[0;32m     91\u001b[0m \u001b[1;33m\u001b[0m\u001b[0m\n",
      "\u001b[1;31mAttributeError\u001b[0m: 'NoneType' object has no attribute 'select'"
     ]
    }
   ],
   "source": [
    "'''\n",
    "功能：用webdriver模拟浏览器，提取人邮的图书信息\n",
    "函数化\n",
    "'''\n",
    "\n",
    "#导入库 \n",
    "from selenium  import webdriver     ##导入库\n",
    "import time\n",
    "from bs4 import BeautifulSoup\n",
    "\n",
    "###一、模拟浏览器\n",
    "def url_def(url):\n",
    "    driver = webdriver.Chrome()          ##创建一个浏览器对象\n",
    "    driver.get(url)     ##用浏览器请求网页\n",
    "    time.sleep(10)\n",
    "    return driver\n",
    "\n",
    "\n",
    "#二、定位输入关键字的网页元素，并输入关键字python\n",
    "def html_def(driver):\n",
    "    input_text_button = driver.find_element_by_id('searchVal')\n",
    "    input_text_button.send_keys('python')\n",
    "    time.sleep(3)\n",
    "    #定位搜索按钮，并点击\n",
    "    click_button = driver.find_element_by_css_selector('#app > div:nth-child(1) > div > div > div > button > i')\n",
    "    click_button.click()\n",
    "    time.sleep(10)\n",
    "    #三、提取网页源代码\n",
    "    html = driver.page_source\n",
    "    return html\n",
    "\n",
    "#四、转换网页源代码为BSoup对象\n",
    "def soup_def(html):\n",
    "    #创建BSoup对象\n",
    "    soup = BeautifulSoup(html,'html.parser')\n",
    "    #初始化BSoup对象\n",
    "    soup.prettify\n",
    "    return soup\n",
    "\n",
    "#五、提取元素\n",
    "def child_url_def(soup):\n",
    "    child_url = soup.select('div.book_item > a')        #定位到所有class属性为book_item的div元素\n",
    "    print(child_url)\n",
    "    img_html = []\n",
    "    child_html = []\n",
    "    for i in range(len(child_url)):\n",
    "        #print(child_url[0])\n",
    "        child_html.append('https://www.ptpress.com.cn'+child_url[i].get('href')) #提取子网页的网址\n",
    "\n",
    "        ####提取图片的超链接网址\n",
    "        img = child_url[i].select('div > img')            \n",
    "        img_html.append(img[0].get('src'))       \n",
    "    #print(img_html)\n",
    "    return child_html\n",
    "\n",
    "#下载图片\n",
    "#import time\n",
    "#import requests\n",
    "#for j in range(len(img_html)):\n",
    " #   img_info = requests.get(img_html[j])\n",
    " #   time.sleep(2)      ###睡眠2秒钟\n",
    " #   with open (r'C:\\Users\\op\\Desktop\\%d_pic.jpg'%j,'wb') as f:\n",
    " #       f.write(img_info.content)\n",
    "#进入子网页\n",
    "\n",
    "\n",
    "def child_soup(child_html):\n",
    "    \n",
    "    title_list = []   #存放书名\n",
    "    author_list= []   #存放作者\n",
    "    price_list = []   #存放价格\n",
    "    counts_list= []   #存放库存\n",
    "    pagenum_list=[]   #存放页数\n",
    "    \n",
    "    for i in range(2):\n",
    "        driver_child = url_def(child_html[i])\n",
    "    \n",
    "        #driver_child = webdriver.Chrome()\n",
    "        #driver_child.get(child_html[0])\n",
    "        html_info = driver_child.page_source\n",
    "        soup_child = BeautifulSoup(html_info,'html.parser')\n",
    "        #初始化BSoup对象\n",
    "        soup_child.prettify\n",
    "\n",
    "        info = soup_child.select('div.info > p') #返回3个p节点\n",
    "        title_list.append(info[0].get_text())   #书名是第一个p节点\n",
    "        author_list.append(info[1].get_text())  #作者是第二个\n",
    "        \n",
    "        book_price=soup.child.select('span.print')\n",
    "        price_list.append(book_price[0].get_text())  #提取价格\n",
    "        \n",
    "        book_count=soup_child.select('div.key_attr > p:nth-of-type(1) > dd')\n",
    "        counts_list.append(book_count[0].get_text)  #获取库存\n",
    "        \n",
    "        book_page=soup_child.select('table.bookBaseInfo > tbody > tr:nth-of-type(3)')\n",
    "        pagenum_list.append(book_count[0].get_text())\n",
    "        \n",
    "        info_list.extend([title_list,author_list,counts_list,author_list,pagenum_list])\n",
    "        return info_list\n",
    "        #         title_text = title[0].get_text()\n",
    "#         book_price = soup_child.select('span.price')\n",
    "#         price_text = book_price[0].get_text()\n",
    "        \n",
    "    return [title_text,price_text]\n",
    "###主函数\n",
    "if __name__ == '__main__':\n",
    "    url = 'https://www.ptpress.com.cn/search/books '\n",
    "    driver = url_def(url)\n",
    "    html = html_def(driver)\n",
    "    soup = soup_def(html)\n",
    "    child_html = child_url_def(soup)\n",
    "    info = child_soup(child_html)\n",
    "    print(info)\n",
    "    \n",
    "    "
   ]
  },
  {
   "cell_type": "code",
   "execution_count": null,
   "metadata": {},
   "outputs": [],
   "source": []
  },
  {
   "cell_type": "code",
   "execution_count": 15,
   "metadata": {
    "ExecuteTime": {
     "end_time": "2019-07-29T08:15:04.714275Z",
     "start_time": "2019-07-29T08:08:39.783437Z"
    }
   },
   "outputs": [
    {
     "name": "stdout",
     "output_type": "stream",
     "text": [
      "[<a href=\"/shopping/buy?bookId=76eb275d-42ec-4a6a-b781-e00e5721daa7\" target=\"_blank\"><div class=\"book_img book_bg_6\"><img src=\"http://47.93.163.221:8084/uploadimg/Material/978-7-115-51241-3/72jpg/51241_s300.jpg\"/></div> <p>Python数据科学与机器学习 从入门到实践</p></a>, <a href=\"/shopping/buy?bookId=e7e6ad1b-5f3a-49f6-bcd4-4e2060985880\" target=\"_blank\"><div class=\"book_img book_bg_4\"><img src=\"http://47.93.163.221:8084/uploadimg/Material/978-7-115-51154-6/72jpg/51154_s300.jpg\"/></div> <p>深入理解Python特性</p></a>, <a href=\"/shopping/buy?bookId=7f23c687-f3d2-4dba-a963-ea4244e1a9c5\" target=\"_blank\"><div class=\"book_img book_bg_5\"><img src=\"http://47.93.163.221:8084/uploadimg/Material/978-7-115-50338-1/72jpg/50338_s300.jpg\"/></div> <p>Python算法详解</p></a>, <a href=\"/shopping/buy?bookId=5b17ab77-008a-47b2-b89b-bacc03d4c1bf\" target=\"_blank\"><div class=\"book_img book_bg_6\"><img src=\"http://47.93.163.221:8084/uploadimg/Material/978-7-115-50943-7/72jpg/50943_s300.jpg\"/></div> <p>编程的乐趣 用Python解算法谜题</p></a>, <a href=\"/shopping/buy?bookId=c317c65f-f6e5-4ee8-ad1c-20cb86010550\" target=\"_blank\"><div class=\"book_img book_bg_2\"><img src=\"http://47.93.163.221:8084/uploadimg/Material/978-7-115-51014-3/72jpg/51014_s300.jpg\"/></div> <p>青少年Python编程入门</p></a>, <a href=\"/shopping/buy?bookId=de701209-196e-4800-9412-2cc9a92e1344\" target=\"_blank\"><div class=\"book_img book_bg_4\"><img src=\"http://47.93.163.221:8084/uploadimg/Material/978-7-115-50926-0/72jpg/50926_s300.jpg\"/></div> <p>Python网络爬虫权威指南 第2版</p></a>, <a href=\"/shopping/buy?bookId=8e75253e-f27e-4093-8876-4952b98409d5\" target=\"_blank\"><div class=\"book_img book_bg_4\"><img src=\"http://47.93.163.221:8084/uploadimg/Material/978-7-115-50496-8/72jpg/50496_s300.jpg\"/></div> <p>Python 3破冰人工智能 从入门到实战</p></a>, <a href=\"/shopping/buy?bookId=7b880d0e-f9a1-4419-9cbb-ef94dd8648dc\" target=\"_blank\"><div class=\"book_img book_bg_7\"><img src=\"http://47.93.163.221:8084/uploadimg/Material/978-7-115-50675-7/72jpg/50675_s300.jpg\"/></div> <p>从零开始学Python 第2版</p></a>, <a href=\"/shopping/buy?bookId=cdbd6522-2394-4b7d-a4d3-840a75be22cb\" target=\"_blank\"><div class=\"book_img book_bg_5\"><img src=\"http://47.93.163.221:8084/uploadimg/Material/978-7-115-50506-4/72jpg/50506_s300.jpg\"/></div> <p>Python网络爬虫技术</p></a>]\n",
      "[['Python数据科学与机器学习 从入门到实践', '深入理解Python特性', 'Python算法详解', '编程的乐趣 用Python解算法谜题', '青少年Python编程入门', 'Python网络爬虫权威指南 第2版', 'Python 3破冰人工智能 从入门到实战', '从零开始学Python 第2版', 'Python网络爬虫技术'], ['[美]弗兰克·凯恩（Frank Kane）', '[德]达恩·巴德尔（Dan Bader）', '张玲玲', '[美] 斯里尼·德瓦达斯（Srini Devadas）', '左利鑫 史卫亚', '[美] 瑞安·米切尔（Ryan Mitchell）', '黄海涛', '[美] 约翰·保罗·穆勒（John Paul Mueller）', '江吉彬 张良均'], ['55.20', '39.20', '55.20', '47.20', '36.00', '63.20', '47.20', '55.20', '31.84'], ['2123', '1655', '619', '695', '1067', '575', '1084', '664', '2292'], ['273', '163', '350', '223', '242', '241', '229', '311', '165']]\n"
     ]
    }
   ],
   "source": [
    "'''\n",
    "功能：用webdriver模拟浏览器，提取人邮的图书信息\n",
    "\n",
    "'''\n",
    "\n",
    "#导入库 \n",
    "from selenium  import webdriver     ##导入库\n",
    "import time\n",
    "from bs4 import BeautifulSoup\n",
    "\n",
    "###一、模拟浏览器\n",
    "def url_def(url):\n",
    "    driver = webdriver.Chrome()          ##创建一个浏览器对象\n",
    "    driver.get(url)     ##用浏览器请求网页\n",
    "    time.sleep(10)\n",
    "    return driver\n",
    "\n",
    "\n",
    "#二、定位输入关键字的网页元素，并输入关键字python\n",
    "def html_def(driver):\n",
    "    input_text_button = driver.find_element_by_id('searchVal')\n",
    "    input_text_button.send_keys('python')\n",
    "    time.sleep(3)\n",
    "    #定位搜索按钮，并点击\n",
    "    click_button = driver.find_element_by_css_selector('#app > div:nth-child(1) > div > div > div > button > i')\n",
    "    click_button.click()\n",
    "    time.sleep(10)\n",
    "    #三、提取网页源代码\n",
    "    html = driver.page_source\n",
    "    return html\n",
    "\n",
    "#四、转换网页源代码为BSoup对象\n",
    "def soup_def(html):\n",
    "    #创建BSoup对象\n",
    "    soup = BeautifulSoup(html,'html.parser')\n",
    "    #初始化BSoup对象\n",
    "    soup.prettify\n",
    "    return soup\n",
    "\n",
    "#五、提取元素\n",
    "def child_url_def(soup):\n",
    "    child_url = soup.select('div.book_item > a')        #定位到所有class属性为book_item的div元素\n",
    "    print(child_url)\n",
    "    img_html = []\n",
    "    child_html = []\n",
    "    for i in range(len(child_url)):\n",
    "        #print(child_url[0])\n",
    "        child_html.append('https://www.ptpress.com.cn'+child_url[i].get('href')) #提取子网页的网址\n",
    "\n",
    "        ####提取图片的超链接网址\n",
    "        img = child_url[i].select('div > img')            \n",
    "        img_html.append(img[0].get('src'))       \n",
    "    #print(img_html)\n",
    "    return child_html\n",
    "\n",
    "#下载图片\n",
    "#import time\n",
    "#import requests\n",
    "#for j in range(len(img_html)):\n",
    " #   img_info = requests.get(img_html[j])\n",
    " #   time.sleep(2)      ###睡眠2秒钟\n",
    " #   with open (r'C:\\Users\\op\\Desktop\\%d_pic.jpg'%j,'wb') as f:\n",
    " #       f.write(img_info.content)\n",
    "\n",
    "#进入子网页\n",
    "\n",
    "\n",
    "def child_soup(child_html):\n",
    "    title_list = []     #存放书名\n",
    "    author_list = []     #存放作者\n",
    "    price_list = []      #存放价格\n",
    "    count_list = []      #存放库存\n",
    "    pagenum_list = []     #存放页数       \n",
    "    \n",
    "    info_list = []        #存放图书信息\n",
    "    for i in range(len(child_html)):\n",
    "        driver_child = url_def(child_html[i])\n",
    "        html_info = driver_child.page_source\n",
    "        soup_child = BeautifulSoup(html_info,'html.parser')\n",
    "        #初始化BSoup对象\n",
    "        soup_child.prettify\n",
    "    \n",
    "        info = soup_child.select('div.info > p')     #返回3个p节点\n",
    "        title_list.append(info[0].get_text())    #书名在第1个p节点\n",
    "        author_list.append(info[1].get_text())     #作者在第2个p节点\n",
    " \n",
    "        book_price = soup_child.select('span.price')\n",
    "        price_list.append(book_price[0].get_text())   #提取价格\n",
    "        \n",
    "        book_count = soup_child.select('#detail > div.detl-top.detail_fr.fr > div.key_attr > dl:nth-of-type(1) > dd')\n",
    "        count_list.append(book_count[0].get_text())     #提取库存\n",
    "        #detail > div.detl-top.detail_fr.fr > div.key_attr > dl:nth-of-type(2) > dd\n",
    "        \n",
    "        book_page = soup_child.select('#detail > div.book-detail-other > ul.tab-con > li.active > table > tbody > tr:nth-of-type(2) > td:nth-of-type(3) ')\n",
    "        \n",
    "    #detail > div.book-detail-other > ul.tab-con > li.active > table > tbody > tr:nth-of-type(2) > td:nth-of-type(3)    \n",
    "        \n",
    "        pagenum_list.append(book_page[0].get_text()[3:])\n",
    "    info_list.extend([title_list,author_list,price_list,count_list,pagenum_list])   \n",
    "    return info_list\n",
    "###主函数\n",
    "if __name__ == '__main__':\n",
    "    url = 'https://www.ptpress.com.cn/search/books '\n",
    "    driver = url_def(url)\n",
    "    html = html_def(driver)\n",
    "    soup = soup_def(html)\n",
    "    child_html = child_url_def(soup)\n",
    "    info = child_soup(child_html)\n",
    "    print(info)\n",
    "    \n",
    "    "
   ]
  },
  {
   "cell_type": "code",
   "execution_count": null,
   "metadata": {},
   "outputs": [],
   "source": []
  },
  {
   "cell_type": "code",
   "execution_count": 20,
   "metadata": {
    "ExecuteTime": {
     "end_time": "2019-07-29T08:28:20.989137Z",
     "start_time": "2019-07-29T08:28:20.938102Z"
    }
   },
   "outputs": [
    {
     "name": "stdout",
     "output_type": "stream",
     "text": [
      "[['Python数据科学与机器学习 从入门到实践' '深入理解Python特性' 'Python算法详解'\n",
      "  '编程的乐趣 用Python解算法谜题' '青少年Python编程入门' 'Python网络爬虫权威指南 第2版'\n",
      "  'Python 3破冰人工智能 从入门到实战' '从零开始学Python 第2版' 'Python网络爬虫技术']\n",
      " ['[美]弗兰克·凯恩（Frank Kane）' '[德]达恩·巴德尔（Dan Bader）' '张玲玲'\n",
      "  '[美] 斯里尼·德瓦达斯（Srini Devadas）' '左利鑫 史卫亚' '[美] 瑞安·米切尔（Ryan Mitchell）'\n",
      "  '黄海涛' '[美] 约翰·保罗·穆勒（John Paul Mueller）' '江吉彬 张良均']\n",
      " ['55.2' '39.2' '55.2' '47.2' '36.0' '63.2' '47.2' '55.2' '31.84']\n",
      " ['2123' '1655' '619' '695' '1067' '575' '1084' '664' '2292']\n",
      " ['273' '163' '350' '223' '242' '241' '229' '311' '165']]\n",
      "(5, 9)\n",
      "book_author     object\n",
      "book_count       int64\n",
      "book_name       object\n",
      "book_page        int64\n",
      "book_price     float64\n",
      "dtype: object\n"
     ]
    }
   ],
   "source": [
    "import pandas as pd\n",
    "import numpy as np\n",
    "\n",
    "arr1=np.array(info)\n",
    "print(arr1)\n",
    "print(arr1.shape)   #np中数组的特点：类型必须一致\n",
    "\n",
    "dict={}\n",
    "dict['book_name']=info[0]\n",
    "dict['book_author']=info[1]\n",
    "\n",
    "for i in range(9):\n",
    "    info[2][i]=float(info[2][i])    #将价格变为浮点型\n",
    "    info[3][i]=int(info[3][i])\n",
    "    info[4][i]=int(info[4][i])\n",
    "    \n",
    "dict['book_price']=info[2]\n",
    "dict['book_count']=info[3]\n",
    "dict['book_page']=info[4]\n",
    "\n",
    "book_df=pd.DataFrame(dict_book)\n",
    "book_df\n",
    "print(book_df.dtypes)"
   ]
  },
  {
   "cell_type": "code",
   "execution_count": 21,
   "metadata": {
    "ExecuteTime": {
     "end_time": "2019-07-29T08:34:25.973715Z",
     "start_time": "2019-07-29T08:34:25.823615Z"
    }
   },
   "outputs": [
    {
     "data": {
      "text/html": [
       "<div>\n",
       "<style scoped>\n",
       "    .dataframe tbody tr th:only-of-type {\n",
       "        vertical-align: middle;\n",
       "    }\n",
       "\n",
       "    .dataframe tbody tr th {\n",
       "        vertical-align: top;\n",
       "    }\n",
       "\n",
       "    .dataframe thead th {\n",
       "        text-align: right;\n",
       "    }\n",
       "</style>\n",
       "<table border=\"1\" class=\"dataframe\">\n",
       "  <thead>\n",
       "    <tr style=\"text-align: right;\">\n",
       "      <th></th>\n",
       "      <th>book_author</th>\n",
       "      <th>book_count</th>\n",
       "      <th>book_name</th>\n",
       "      <th>book_page</th>\n",
       "      <th>book_price</th>\n",
       "    </tr>\n",
       "  </thead>\n",
       "  <tbody>\n",
       "    <tr>\n",
       "      <th>0</th>\n",
       "      <td>[美]弗兰克·凯恩（Frank Kane）</td>\n",
       "      <td>2123</td>\n",
       "      <td>Python数据科学与机器学习 从入门到实践</td>\n",
       "      <td>273</td>\n",
       "      <td>55.20</td>\n",
       "    </tr>\n",
       "    <tr>\n",
       "      <th>1</th>\n",
       "      <td>[德]达恩·巴德尔（Dan Bader）</td>\n",
       "      <td>1655</td>\n",
       "      <td>深入理解Python特性</td>\n",
       "      <td>163</td>\n",
       "      <td>39.20</td>\n",
       "    </tr>\n",
       "    <tr>\n",
       "      <th>2</th>\n",
       "      <td>张玲玲</td>\n",
       "      <td>619</td>\n",
       "      <td>Python算法详解</td>\n",
       "      <td>350</td>\n",
       "      <td>55.20</td>\n",
       "    </tr>\n",
       "    <tr>\n",
       "      <th>3</th>\n",
       "      <td>[美] 斯里尼·德瓦达斯（Srini Devadas）</td>\n",
       "      <td>695</td>\n",
       "      <td>编程的乐趣 用Python解算法谜题</td>\n",
       "      <td>223</td>\n",
       "      <td>47.20</td>\n",
       "    </tr>\n",
       "    <tr>\n",
       "      <th>4</th>\n",
       "      <td>左利鑫 史卫亚</td>\n",
       "      <td>1067</td>\n",
       "      <td>青少年Python编程入门</td>\n",
       "      <td>242</td>\n",
       "      <td>36.00</td>\n",
       "    </tr>\n",
       "    <tr>\n",
       "      <th>5</th>\n",
       "      <td>[美] 瑞安·米切尔（Ryan Mitchell）</td>\n",
       "      <td>575</td>\n",
       "      <td>Python网络爬虫权威指南 第2版</td>\n",
       "      <td>241</td>\n",
       "      <td>63.20</td>\n",
       "    </tr>\n",
       "    <tr>\n",
       "      <th>6</th>\n",
       "      <td>黄海涛</td>\n",
       "      <td>1084</td>\n",
       "      <td>Python 3破冰人工智能 从入门到实战</td>\n",
       "      <td>229</td>\n",
       "      <td>47.20</td>\n",
       "    </tr>\n",
       "    <tr>\n",
       "      <th>7</th>\n",
       "      <td>[美] 约翰·保罗·穆勒（John Paul Mueller）</td>\n",
       "      <td>664</td>\n",
       "      <td>从零开始学Python 第2版</td>\n",
       "      <td>311</td>\n",
       "      <td>55.20</td>\n",
       "    </tr>\n",
       "    <tr>\n",
       "      <th>8</th>\n",
       "      <td>江吉彬 张良均</td>\n",
       "      <td>2292</td>\n",
       "      <td>Python网络爬虫技术</td>\n",
       "      <td>165</td>\n",
       "      <td>31.84</td>\n",
       "    </tr>\n",
       "  </tbody>\n",
       "</table>\n",
       "</div>"
      ],
      "text/plain": [
       "                       book_author  book_count               book_name  \\\n",
       "0            [美]弗兰克·凯恩（Frank Kane）        2123  Python数据科学与机器学习 从入门到实践   \n",
       "1             [德]达恩·巴德尔（Dan Bader）        1655            深入理解Python特性   \n",
       "2                              张玲玲         619              Python算法详解   \n",
       "3      [美] 斯里尼·德瓦达斯（Srini Devadas）         695      编程的乐趣 用Python解算法谜题   \n",
       "4                          左利鑫 史卫亚        1067           青少年Python编程入门   \n",
       "5        [美] 瑞安·米切尔（Ryan Mitchell）         575      Python网络爬虫权威指南 第2版   \n",
       "6                              黄海涛        1084   Python 3破冰人工智能 从入门到实战   \n",
       "7  [美] 约翰·保罗·穆勒（John Paul Mueller）         664         从零开始学Python 第2版   \n",
       "8                          江吉彬 张良均        2292            Python网络爬虫技术   \n",
       "\n",
       "   book_page  book_price  \n",
       "0        273       55.20  \n",
       "1        163       39.20  \n",
       "2        350       55.20  \n",
       "3        223       47.20  \n",
       "4        242       36.00  \n",
       "5        241       63.20  \n",
       "6        229       47.20  \n",
       "7        311       55.20  \n",
       "8        165       31.84  "
      ]
     },
     "execution_count": 21,
     "metadata": {},
     "output_type": "execute_result"
    }
   ],
   "source": [
    "book_df"
   ]
  },
  {
   "cell_type": "code",
   "execution_count": 34,
   "metadata": {
    "ExecuteTime": {
     "end_time": "2019-07-29T08:48:34.585060Z",
     "start_time": "2019-07-29T08:48:34.153775Z"
    }
   },
   "outputs": [
    {
     "data": {
      "image/png": "[encoded data removed]",
      "text/plain": [
       "<matplotlib.figure.Figure at 0x2a2f44e7c18>"
      ]
     },
     "metadata": {
      "needs_background": "light"
     },
     "output_type": "display_data"
    }
   ],
   "source": [
    "import matplotlib.pyplot as plt\n",
    "\n",
    "plt.rcParams['font.sans-serif'] = 'SimHei'\n",
    "plt.rcParams['axes.unicode_minus'] = False\n",
    "\n",
    "#画图--用折线图展示\n",
    "plt.figure(figsize=(8,6),dpi = 80)\n",
    "l1 = [i for i in range(9)]\n",
    "#plt.xticks(l1,book_df['book_name'],rotation=45)\n",
    "plt.plot(l1,book_df['book_price'],color = 'b')\n",
    "plt.plot(l1,book_df['book_page']/10)\n",
    "plt.plot(l1,book_df['book_count']/10)\n",
    "\n",
    "\n",
    "plt.legend(['价格','页数','库存'],loc=1)\n",
    "plt.show()"
   ]
  },
  {
   "cell_type": "code",
   "execution_count": 33,
   "metadata": {
    "ExecuteTime": {
     "end_time": "2019-07-29T08:46:53.866531Z",
     "start_time": "2019-07-29T08:46:53.486278Z"
    }
   },
   "outputs": [
    {
     "data": {
      "image/png": "[encoded data removed]",
      "text/plain": [
       "<matplotlib.figure.Figure at 0x2a2f44c3978>"
      ]
     },
     "metadata": {
      "needs_background": "light"
     },
     "output_type": "display_data"
    }
   ],
   "source": [
    "import matplotlib.pyplot as plt\n",
    "plt.rcParams['font.sans-serif'] = 'SimHei'\n",
    "plt.rcParams['axes.unicode_minus'] = False\n",
    "\n",
    "#折线图\n",
    "plt.figure(figsize=(8,6),dpi=80)\n",
    "l1=[i for i in range(len(child_html))]\n",
    "plt.plot(l1,book_df['book_price'])\n",
    "plt.plot(l1,book_df['book_page']/10)\n",
    "plt.plot(l1,book_df['book_count']/10)\n",
    "plt.legend(['价格','页数','库存'])\n",
    "plt.show()\n"
   ]
  }
 ],
 "metadata": {
  "kernelspec": {
   "display_name": "Python 3",
   "language": "python",
   "name": "python3"
  },
  "language_info": {
   "codemirror_mode": {
    "name": "ipython",
    "version": 3
   },
   "file_extension": ".py",
   "mimetype": "text/x-python",
   "name": "python",
   "nbconvert_exporter": "python",
   "pygments_lexer": "ipython3",
   "version": "3.6.4"
  }
 },
 "nbformat": 4,
 "nbformat_minor": 2
}
