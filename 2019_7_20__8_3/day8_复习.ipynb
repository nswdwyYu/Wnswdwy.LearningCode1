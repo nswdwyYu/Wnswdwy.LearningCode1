{
 "cells": [
  {
   "cell_type": "code",
   "execution_count": 5,
   "metadata": {
    "ExecuteTime": {
     "end_time": "2019-07-28T01:36:20.455601Z",
     "start_time": "2019-07-28T01:36:20.417575Z"
    }
   },
   "outputs": [],
   "source": [
    "import numpy as np\n",
    "import pandas as pd\n",
    "f=open(r\"C:/Users/nswdwy_yu/Desktop/pandas_states/meal_order_detail1.csv\"\n",
    "      ,encoding='utf-8')\n",
    "detail_one=pd.read_csv(f)\n",
    "\n",
    "name=detail_one.columns\n",
    "values=detail_one.values\n",
    "detail_shape=detail_one.shape\n",
    "\n"
   ]
  },
  {
   "cell_type": "code",
   "execution_count": 8,
   "metadata": {
    "ExecuteTime": {
     "end_time": "2019-07-28T01:44:29.706449Z",
     "start_time": "2019-07-28T01:44:29.689439Z"
    }
   },
   "outputs": [
    {
     "name": "stdout",
     "output_type": "stream",
     "text": [
      "(2779, 10) (2779, 9)\n"
     ]
    }
   ],
   "source": [
    "df1=detail_one.iloc[:,:10]\n",
    "df2=detail_one.iloc[:,10:]\n",
    "print(df1.shape,df2.shape)\n",
    "df_concat=pd.concat([df1,df2],axis=1,join='inner')"
   ]
  },
  {
   "cell_type": "code",
   "execution_count": 7,
   "metadata": {
    "ExecuteTime": {
     "end_time": "2019-07-28T01:44:26.341210Z",
     "start_time": "2019-07-28T01:44:26.336206Z"
    }
   },
   "outputs": [
    {
     "name": "stdout",
     "output_type": "stream",
     "text": [
      "(2779, 19)\n"
     ]
    }
   ],
   "source": [
    "print(df_concat.shape)"
   ]
  },
  {
   "cell_type": "code",
   "execution_count": 13,
   "metadata": {
    "ExecuteTime": {
     "end_time": "2019-07-28T01:50:41.881703Z",
     "start_time": "2019-07-28T01:50:41.817663Z"
    }
   },
   "outputs": [
    {
     "name": "stdout",
     "output_type": "stream",
     "text": [
      "      detail_id  order_id  dishes_id  logicprn_name  parent_class_name  \\\n",
      "0          2956       417     610062            NaN                NaN   \n",
      "1          2958       417     609957            NaN                NaN   \n",
      "2          2961       417     609950            NaN                NaN   \n",
      "3          2966       417     610038            NaN                NaN   \n",
      "4          2968       417     610003            NaN                NaN   \n",
      "5          1899       301     610019            NaN                NaN   \n",
      "6          1902       301     609991            NaN                NaN   \n",
      "7          1906       301     609983            NaN                NaN   \n",
      "8          1907       301     609981            NaN                NaN   \n",
      "9          1908       301     610030            NaN                NaN   \n",
      "10         1910       301     610011            NaN                NaN   \n",
      "11         2916       413     609966            NaN                NaN   \n",
      "12         2919       413     609965            NaN                NaN   \n",
      "13         2921       413     609936            NaN                NaN   \n",
      "14         2923       413     609978            NaN                NaN   \n",
      "15         2925       413     609983            NaN                NaN   \n",
      "16         2927       413     610050            NaN                NaN   \n",
      "17         2926       413     609984            NaN                NaN   \n",
      "18         2928       413     610013            NaN                NaN   \n",
      "19         2930       413     610032            NaN                NaN   \n",
      "20         2932       413     609973            NaN                NaN   \n",
      "21         2934       413     610007            NaN                NaN   \n",
      "22         2938       415     609964            NaN                NaN   \n",
      "23         2935       413     609992            NaN                NaN   \n",
      "24         2936       413     610012            NaN                NaN   \n",
      "25         2940       415     610064            NaN                NaN   \n",
      "26         2937       413     610023            NaN                NaN   \n",
      "27         2939       413     609931            NaN                NaN   \n",
      "28         2643       392     609930            NaN                NaN   \n",
      "29         2942       415     609959            NaN                NaN   \n",
      "...         ...       ...        ...            ...                ...   \n",
      "2749       6335       732     609944            NaN                NaN   \n",
      "2750       6336       732     609952            NaN                NaN   \n",
      "2751       5074       616     609970            NaN                NaN   \n",
      "2752       5075       616     610001            NaN                NaN   \n",
      "2753       6088       716     609970            NaN                NaN   \n",
      "2754       6091       716     609942            NaN                NaN   \n",
      "2755       6094       716     609946            NaN                NaN   \n",
      "2756       6098       716     609953            NaN                NaN   \n",
      "2757       6106       716     609957            NaN                NaN   \n",
      "2758       6103       716     609944            NaN                NaN   \n",
      "2759       5076       616     610000            NaN                NaN   \n",
      "2760       5080       616     610033            NaN                NaN   \n",
      "2761       6111       716     609960            NaN                NaN   \n",
      "2762       6115       716     609955            NaN                NaN   \n",
      "2763       6120       716     609983            NaN                NaN   \n",
      "2764       6116       716     609974            NaN                NaN   \n",
      "2765       6125       716     609991            NaN                NaN   \n",
      "2766       6127       716     610011            NaN                NaN   \n",
      "2767       6131       716     610038            NaN                NaN   \n",
      "2768       6128       716     610022            NaN                NaN   \n",
      "2769       6135       716     610020            NaN                NaN   \n",
      "2770       6137       716     610031            NaN                NaN   \n",
      "2771       6734       774     609941            NaN                NaN   \n",
      "2772       6736       774     609944            NaN                NaN   \n",
      "2773       6739       774     609994            NaN                NaN   \n",
      "2774       6750       774     610011            NaN                NaN   \n",
      "2775       6742       774     609996            NaN                NaN   \n",
      "2776       6756       774     609949            NaN                NaN   \n",
      "2777       6763       774     610014            NaN                NaN   \n",
      "2778       6764       774     610017            NaN                NaN   \n",
      "\n",
      "         dishes_name  itemis_add  counts  amounts  cost     place_order_time  \\\n",
      "0               蒜蓉生蚝           0     1.0     49.0   NaN  2016-08-01 11:05:00   \n",
      "1              蒙古烤羊腿           0     1.0     48.0   NaN  2016-08-01 11:07:00   \n",
      "2               大蒜苋菜           0     1.0     30.0   NaN  2016-08-01 11:07:00   \n",
      "3              芝麻烤紫菜           0     1.0     25.0   NaN  2016-08-01 11:11:00   \n",
      "4                蒜香包           0     1.0     13.0   NaN  2016-08-01 11:11:00   \n",
      "5                白斩鸡           0     1.0     88.0   NaN  2016-08-01 11:15:00   \n",
      "6               香烤牛排           0     1.0     55.0   NaN  2016-08-01 11:19:00   \n",
      "7               干锅田鸡           0     1.0     88.0   NaN  2016-08-01 11:22:00   \n",
      "8            桂圆枸杞鸽子汤           0     1.0     48.0   NaN  2016-08-01 11:22:00   \n",
      "9             番茄有机花菜           0     1.0     32.0   NaN  2016-08-01 11:23:00   \n",
      "10             白饭/大碗           0     1.0     10.0   NaN  2016-08-01 11:31:00   \n",
      "11          芝士烩波士顿龙虾           0     1.0    175.0   NaN  2016-08-01 12:42:00   \n",
      "12              葱姜炒蟹           0     1.0    109.0   NaN  2016-08-01 12:43:00   \n",
      "13             皮蛋瘦肉粥           0     1.0     16.0   NaN  2016-08-01 12:43:00   \n",
      "14              爆炒鳝碌           0     1.0     55.0   NaN  2016-08-01 12:44:00   \n",
      "15              干锅田鸡           0     1.0     88.0   NaN  2016-08-01 12:44:00   \n",
      "16              番茄甘蓝           0     1.0     33.0   NaN  2016-08-01 12:45:00   \n",
      "17           重庆特色油烧兔           0     1.0     69.0   NaN  2016-08-01 12:45:00   \n",
      "18             番茄炖秋葵           0     1.0     35.0   NaN  2016-08-01 12:46:00   \n",
      "19    长城窖酿解百纳红酒干红葡萄酒           0     1.0     35.0   NaN  2016-08-01 12:48:00   \n",
      "20             紫薯面包卷           0     1.0     20.0   NaN  2016-08-01 12:49:00   \n",
      "21          桂圆肉红豆八宝饭           0     1.0     39.0   NaN  2016-08-01 12:50:00   \n",
      "22             避风塘炒蟹           0     1.0     48.0   NaN  2016-08-01 12:51:00   \n",
      "23             番茄炖牛腩           0     1.0     35.0   NaN  2016-08-01 12:51:00   \n",
      "24             香菇鹌鹑蛋           0     1.0     39.0   NaN  2016-08-01 12:52:00   \n",
      "25              花蛤蒸蛋           0     1.0     37.0   NaN  2016-08-01 12:52:00   \n",
      "26               啤酒鸭           0     1.0     48.0   NaN  2016-08-01 12:53:00   \n",
      "27               焖猪手           0     1.0     58.0   NaN  2016-08-01 12:54:00   \n",
      "28           豌豆薯仔猪骨汤           0     1.0     39.0   NaN  2016-08-01 12:58:00   \n",
      "29              小炒羊腰           0     1.0     36.0   NaN  2016-08-01 12:59:00   \n",
      "...              ...         ...     ...      ...   ...                  ...   \n",
      "2749             水煮鱼           0     1.0     65.0   NaN  2016-08-10 20:19:00   \n",
      "2750        美妙绝伦之白莲花           0     1.0     29.0   NaN  2016-08-10 20:19:00   \n",
      "2751           麻辣小龙虾           0     1.0     99.0   NaN  2016-08-10 20:37:00   \n",
      "2752         土豆西红柿汤面           0     1.0     13.0   NaN  2016-08-10 20:39:00   \n",
      "2753           麻辣小龙虾           0     1.0     99.0   NaN  2016-08-10 20:41:00   \n",
      "2754            辣炒鱿鱼           0     1.0     58.0   NaN  2016-08-10 20:41:00   \n",
      "2755           谷稻小庄            0     1.0     38.0   NaN  2016-08-10 20:46:00   \n",
      "2756            凉拌菠菜           0     1.0     27.0   NaN  2016-08-10 20:47:00   \n",
      "2757           蒙古烤羊腿           0     1.0     48.0   NaN  2016-08-10 20:47:00   \n",
      "2758             水煮鱼           0     1.0     65.0   NaN  2016-08-10 20:47:00   \n",
      "2759            酸辣汤面           0     1.0     16.0   NaN  2016-08-10 20:48:00   \n",
      "2760    张裕葡萄酒张裕赤霞珠干红           0     1.0     32.0   NaN  2016-08-10 20:49:00   \n",
      "2761       白胡椒胡萝卜羊肉汤           0     1.0     35.0   NaN  2016-08-10 20:50:00   \n",
      "2762           红酒炖羊肉           0     1.0    108.0   NaN  2016-08-10 20:50:00   \n",
      "2763            干锅田鸡           0     1.0     88.0   NaN  2016-08-10 20:51:00   \n",
      "2764         南瓜枸杞小饼干           0     1.0     19.0   NaN  2016-08-10 20:51:00   \n",
      "2765            香烤牛排           0     1.0     55.0   NaN  2016-08-10 20:52:00   \n",
      "2766           白饭/大碗           0     1.0     10.0   NaN  2016-08-10 20:52:00   \n",
      "2767           芝麻烤紫菜           0     1.0     25.0   NaN  2016-08-10 20:53:00   \n",
      "2768            杭椒鸡珍           0     1.0     58.0   NaN  2016-08-10 20:53:00   \n",
      "2769            泡椒凤爪           0     1.0     58.0   NaN  2016-08-10 20:56:00   \n",
      "2770         糖醋蕃茄溜青花           0     1.0     33.0   NaN  2016-08-10 20:57:00   \n",
      "2771            清蒸海鱼           0     1.0     78.0   NaN  2016-08-10 21:50:00   \n",
      "2772             水煮鱼           0     1.0     65.0   NaN  2016-08-10 21:53:00   \n",
      "2773       独家薄荷鲜虾牛肉卷           0     1.0     45.0   NaN  2016-08-10 21:55:00   \n",
      "2774           白饭/大碗           0     1.0     10.0   NaN  2016-08-10 21:56:00   \n",
      "2775             牛尾汤           0     1.0     40.0   NaN  2016-08-10 21:56:00   \n",
      "2776          意文柠檬汁            0     1.0     13.0   NaN  2016-08-10 22:01:00   \n",
      "2777            金玉良缘           0     1.0     30.0   NaN  2016-08-10 22:03:00   \n",
      "2778            酸辣藕丁           0     1.0     33.0   NaN  2016-08-10 22:04:00   \n",
      "\n",
      "      discount_amt  discount_reason  kick_back  add_inprice  add_info  \\\n",
      "0              NaN              NaN        NaN            0       NaN   \n",
      "1              NaN              NaN        NaN            0       NaN   \n",
      "2              NaN              NaN        NaN            0       NaN   \n",
      "3              NaN              NaN        NaN            0       NaN   \n",
      "4              NaN              NaN        NaN            0       NaN   \n",
      "5              NaN              NaN        NaN            0       NaN   \n",
      "6              NaN              NaN        NaN            0       NaN   \n",
      "7              NaN              NaN        NaN            0       NaN   \n",
      "8              NaN              NaN        NaN            0       NaN   \n",
      "9              NaN              NaN        NaN            0       NaN   \n",
      "10             NaN              NaN        NaN            0       NaN   \n",
      "11             NaN              NaN        NaN            0       NaN   \n",
      "12             NaN              NaN        NaN            0       NaN   \n",
      "13             NaN              NaN        NaN            0       NaN   \n",
      "14             NaN              NaN        NaN            0       NaN   \n",
      "15             NaN              NaN        NaN            0       NaN   \n",
      "16             NaN              NaN        NaN            0       NaN   \n",
      "17             NaN              NaN        NaN            0       NaN   \n",
      "18             NaN              NaN        NaN            0       NaN   \n",
      "19             NaN              NaN        NaN            0       NaN   \n",
      "20             NaN              NaN        NaN            0       NaN   \n",
      "21             NaN              NaN        NaN            0       NaN   \n",
      "22             NaN              NaN        NaN            0       NaN   \n",
      "23             NaN              NaN        NaN            0       NaN   \n",
      "24             NaN              NaN        NaN            0       NaN   \n",
      "25             NaN              NaN        NaN            0       NaN   \n",
      "26             NaN              NaN        NaN            0       NaN   \n",
      "27             NaN              NaN        NaN            0       NaN   \n",
      "28             NaN              NaN        NaN            0       NaN   \n",
      "29             NaN              NaN        NaN            0       NaN   \n",
      "...            ...              ...        ...          ...       ...   \n",
      "2749           NaN              NaN        NaN            0       NaN   \n",
      "2750           NaN              NaN        NaN            0       NaN   \n",
      "2751           NaN              NaN        NaN            0       NaN   \n",
      "2752           NaN              NaN        NaN            0       NaN   \n",
      "2753           NaN              NaN        NaN            0       NaN   \n",
      "2754           NaN              NaN        NaN            0       NaN   \n",
      "2755           NaN              NaN        NaN            0       NaN   \n",
      "2756           NaN              NaN        NaN            0       NaN   \n",
      "2757           NaN              NaN        NaN            0       NaN   \n",
      "2758           NaN              NaN        NaN            0       NaN   \n",
      "2759           NaN              NaN        NaN            0       NaN   \n",
      "2760           NaN              NaN        NaN            0       NaN   \n",
      "2761           NaN              NaN        NaN            0       NaN   \n",
      "2762           NaN              NaN        NaN            0       NaN   \n",
      "2763           NaN              NaN        NaN            0       NaN   \n",
      "2764           NaN              NaN        NaN            0       NaN   \n",
      "2765           NaN              NaN        NaN            0       NaN   \n",
      "2766           NaN              NaN        NaN            0       NaN   \n",
      "2767           NaN              NaN        NaN            0       NaN   \n",
      "2768           NaN              NaN        NaN            0       NaN   \n",
      "2769           NaN              NaN        NaN            0       NaN   \n",
      "2770           NaN              NaN        NaN            0       NaN   \n",
      "2771           NaN              NaN        NaN            0       NaN   \n",
      "2772           NaN              NaN        NaN            0       NaN   \n",
      "2773           NaN              NaN        NaN            0       NaN   \n",
      "2774           NaN              NaN        NaN            0       NaN   \n",
      "2775           NaN              NaN        NaN            0       NaN   \n",
      "2776           NaN              NaN        NaN            0       NaN   \n",
      "2777           NaN              NaN        NaN            0       NaN   \n",
      "2778           NaN              NaN        NaN            0       NaN   \n",
      "\n",
      "      bar_code      picture_file  emp_id  \n",
      "0          NaN  caipu/104001.jpg    1442  \n",
      "1          NaN  caipu/202003.jpg    1442  \n",
      "2          NaN  caipu/303001.jpg    1442  \n",
      "3          NaN  caipu/105002.jpg    1442  \n",
      "4          NaN  caipu/503002.jpg    1442  \n",
      "5          NaN  caipu/204002.jpg    1095  \n",
      "6          NaN  caipu/201001.jpg    1095  \n",
      "7          NaN  caipu/205003.jpg    1095  \n",
      "8          NaN  caipu/205001.jpg    1095  \n",
      "9          NaN  caipu/304004.jpg    1095  \n",
      "10         NaN  caipu/601005.jpg    1095  \n",
      "11         NaN  caipu/101001.jpg    1147  \n",
      "12         NaN  caipu/102005.jpg    1147  \n",
      "13         NaN  caipu/602002.jpg    1147  \n",
      "14         NaN  caipu/106003.jpg    1147  \n",
      "15         NaN  caipu/205003.jpg    1147  \n",
      "16         NaN  caipu/301004.jpg    1147  \n",
      "17         NaN  caipu/205004.jpg    1147  \n",
      "18         NaN  caipu/302002.jpg    1147  \n",
      "19         NaN  caipu/401001.jpg    1147  \n",
      "20         NaN  caipu/502003.jpg    1147  \n",
      "21         NaN  caipu/601001.jpg    1147  \n",
      "22         NaN  caipu/102004.jpg    1166  \n",
      "23         NaN  caipu/201002.jpg    1147  \n",
      "24         NaN  caipu/302001.jpg    1147  \n",
      "25         NaN  caipu/104003.jpg    1166  \n",
      "26         NaN  caipu/204006.jpg    1147  \n",
      "27         NaN  caipu/203002.jpg    1147  \n",
      "28         NaN  caipu/203001.jpg    1094  \n",
      "29         NaN  caipu/202005.jpg    1166  \n",
      "...        ...               ...     ...  \n",
      "2749       NaN  caipu/103005.jpg    1153  \n",
      "2750       NaN  caipu/303003.jpg    1153  \n",
      "2751       NaN  caipu/101006.jpg    1133  \n",
      "2752       NaN  caipu/603005.jpg    1133  \n",
      "2753       NaN  caipu/101006.jpg    1112  \n",
      "2754       NaN  caipu/103003.jpg    1112  \n",
      "2755       NaN  caipu/404002.jpg    1112  \n",
      "2756       NaN  caipu/303004.jpg    1112  \n",
      "2757       NaN  caipu/202003.jpg    1112  \n",
      "2758       NaN  caipu/103005.jpg    1112  \n",
      "2759       NaN  caipu/603004.jpg    1133  \n",
      "2760       NaN  caipu/402002.jpg    1133  \n",
      "2761       NaN  caipu/202006.jpg    1112  \n",
      "2762       NaN  caipu/202001.jpg    1112  \n",
      "2763       NaN  caipu/205003.jpg    1112  \n",
      "2764       NaN  caipu/502004.jpg    1112  \n",
      "2765       NaN  caipu/201001.jpg    1112  \n",
      "2766       NaN  caipu/601005.jpg    1112  \n",
      "2767       NaN  caipu/105002.jpg    1112  \n",
      "2768       NaN  caipu/204005.jpg    1112  \n",
      "2769       NaN  caipu/204003.jpg    1112  \n",
      "2770       NaN  caipu/304005.jpg    1112  \n",
      "2771       NaN  caipu/103002.jpg    1138  \n",
      "2772       NaN  caipu/103005.jpg    1138  \n",
      "2773       NaN  caipu/201004.jpg    1138  \n",
      "2774       NaN  caipu/601005.jpg    1138  \n",
      "2775       NaN  caipu/201006.jpg    1138  \n",
      "2776       NaN  caipu/404005.jpg    1138  \n",
      "2777       NaN  caipu/302003.jpg    1138  \n",
      "2778       NaN  caipu/302006.jpg    1138  \n",
      "\n",
      "[2779 rows x 19 columns]\n"
     ]
    }
   ],
   "source": [
    "df_concat2=pd.concat([df1,df2],axis=1,join='outer')\n",
    "print(df_concat2)"
   ]
  },
  {
   "cell_type": "code",
   "execution_count": 6,
   "metadata": {
    "ExecuteTime": {
     "end_time": "2019-07-31T15:26:55.861664Z",
     "start_time": "2019-07-31T15:26:55.843651Z"
    }
   },
   "outputs": [
    {
     "ename": "FileNotFoundError",
     "evalue": "[Errno 2] No such file or directory: 'C:/Users/nswdwy_yu/Desktop/pandas_statas/meal_order_info.csv'",
     "output_type": "error",
     "traceback": [
      "\u001b[1;31m---------------------------------------------------------------------------\u001b[0m",
      "\u001b[1;31mFileNotFoundError\u001b[0m                         Traceback (most recent call last)",
      "\u001b[1;32m<ipython-input-6-a86f4a8829c2>\u001b[0m in \u001b[0;36m<module>\u001b[1;34m()\u001b[0m\n\u001b[0;32m      1\u001b[0m \u001b[1;32mimport\u001b[0m \u001b[0mnumpy\u001b[0m \u001b[1;32mas\u001b[0m \u001b[0mnp\u001b[0m\u001b[1;33m\u001b[0m\u001b[0m\n\u001b[0;32m      2\u001b[0m \u001b[1;32mimport\u001b[0m \u001b[0mpandas\u001b[0m \u001b[1;32mas\u001b[0m \u001b[0mpd\u001b[0m\u001b[1;33m\u001b[0m\u001b[0m\n\u001b[1;32m----> 3\u001b[1;33m \u001b[0mO\u001b[0m\u001b[1;33m=\u001b[0m\u001b[0mopen\u001b[0m\u001b[1;33m(\u001b[0m\u001b[1;34mr\"C:/Users/nswdwy_yu/Desktop/pandas_statas/meal_order_info.csv\"\u001b[0m\u001b[1;33m)\u001b[0m\u001b[1;33m\u001b[0m\u001b[0m\n\u001b[0m\u001b[0;32m      4\u001b[0m \u001b[0mdetail_two\u001b[0m\u001b[1;33m=\u001b[0m\u001b[0mpd\u001b[0m\u001b[1;33m.\u001b[0m\u001b[0mread_csv\u001b[0m\u001b[1;33m(\u001b[0m\u001b[0mO\u001b[0m\u001b[1;33m)\u001b[0m\u001b[1;33m\u001b[0m\u001b[0m\n",
      "\u001b[1;31mFileNotFoundError\u001b[0m: [Errno 2] No such file or directory: 'C:/Users/nswdwy_yu/Desktop/pandas_statas/meal_order_info.csv'"
     ]
    }
   ],
   "source": [
    "import numpy as np\n",
    "import pandas as pd\n",
    "O=open(r\"C:/Users/nswdwy_yu/Desktop/pandas_statas/meal_order_info.csv\")\n",
    "detail_two=pd.read_csv(O)"
   ]
  },
  {
   "cell_type": "code",
   "execution_count": null,
   "metadata": {},
   "outputs": [],
   "source": [
    "df1=pd.DataFrame({'id':[1,2,3,4],'system':['win10','win7',np.]})"
   ]
  },
  {
   "cell_type": "code",
   "execution_count": null,
   "metadata": {},
   "outputs": [],
   "source": [
    "l1=[1,1,2,2,3,3]\n",
    "l2=[]\n",
    "for i in l1:     "
   ]
  },
  {
   "cell_type": "code",
   "execution_count": 2,
   "metadata": {
    "ExecuteTime": {
     "end_time": "2019-07-31T15:25:04.443081Z",
     "start_time": "2019-07-31T15:25:02.589556Z"
    }
   },
   "outputs": [
    {
     "ename": "FileNotFoundError",
     "evalue": "File b'C:\\\\Users\\\\nswwdwy_yu\\\\Desktop\\\\pandas_datas\\\\meal_order_info.csv' does not exist",
     "output_type": "error",
     "traceback": [
      "\u001b[1;31m---------------------------------------------------------------------------\u001b[0m",
      "\u001b[1;31mFileNotFoundError\u001b[0m                         Traceback (most recent call last)",
      "\u001b[1;32m<ipython-input-2-ab7df579c159>\u001b[0m in \u001b[0;36m<module>\u001b[1;34m()\u001b[0m\n\u001b[0;32m      2\u001b[0m \u001b[1;32mimport\u001b[0m \u001b[0mpandas\u001b[0m \u001b[1;32mas\u001b[0m \u001b[0mpd\u001b[0m\u001b[1;33m\u001b[0m\u001b[0m\n\u001b[0;32m      3\u001b[0m \u001b[1;33m\u001b[0m\u001b[0m\n\u001b[1;32m----> 4\u001b[1;33m \u001b[0morder_one\u001b[0m \u001b[1;33m=\u001b[0m \u001b[0mpd\u001b[0m\u001b[1;33m.\u001b[0m\u001b[0mread_csv\u001b[0m\u001b[1;33m(\u001b[0m\u001b[1;34mr'C:\\Users\\nswwdwy_yu\\Desktop\\pandas_datas\\meal_order_info.csv'\u001b[0m\u001b[1;33m,\u001b[0m\u001b[0msep\u001b[0m\u001b[1;33m=\u001b[0m\u001b[1;34m','\u001b[0m\u001b[1;33m,\u001b[0m\u001b[0mencoding\u001b[0m\u001b[1;33m=\u001b[0m\u001b[1;34m'gbk'\u001b[0m\u001b[1;33m)\u001b[0m\u001b[1;33m\u001b[0m\u001b[0m\n\u001b[0m\u001b[0;32m      5\u001b[0m \u001b[1;32mdef\u001b[0m \u001b[0mmin_max_scale\u001b[0m\u001b[1;33m(\u001b[0m\u001b[0mdata\u001b[0m\u001b[1;33m)\u001b[0m\u001b[1;33m:\u001b[0m\u001b[1;33m\u001b[0m\u001b[0m\n\u001b[0;32m      6\u001b[0m     \u001b[0mdata\u001b[0m \u001b[1;33m=\u001b[0m \u001b[1;33m(\u001b[0m\u001b[1;33m(\u001b[0m\u001b[0mdata\u001b[0m \u001b[1;33m-\u001b[0m \u001b[0mdata\u001b[0m\u001b[1;33m.\u001b[0m\u001b[0mmin\u001b[0m\u001b[1;33m(\u001b[0m\u001b[1;33m)\u001b[0m\u001b[1;33m)\u001b[0m\u001b[1;33m/\u001b[0m\u001b[1;33m(\u001b[0m\u001b[0mdata\u001b[0m\u001b[1;33m.\u001b[0m\u001b[0mmax\u001b[0m\u001b[1;33m(\u001b[0m\u001b[1;33m)\u001b[0m \u001b[1;33m-\u001b[0m \u001b[0mdata\u001b[0m\u001b[1;33m.\u001b[0m\u001b[0mmin\u001b[0m\u001b[1;33m(\u001b[0m\u001b[1;33m)\u001b[0m\u001b[1;33m)\u001b[0m\u001b[1;33m)\u001b[0m\u001b[1;33m\u001b[0m\u001b[0m\n",
      "\u001b[1;32mF:\\Python_All\\Anaconda3-5.1.0\\lib\\site-packages\\pandas\\io\\parsers.py\u001b[0m in \u001b[0;36mparser_f\u001b[1;34m(filepath_or_buffer, sep, delimiter, header, names, index_col, usecols, squeeze, prefix, mangle_dupe_cols, dtype, engine, converters, true_values, false_values, skipinitialspace, skiprows, nrows, na_values, keep_default_na, na_filter, verbose, skip_blank_lines, parse_dates, infer_datetime_format, keep_date_col, date_parser, dayfirst, iterator, chunksize, compression, thousands, decimal, lineterminator, quotechar, quoting, escapechar, comment, encoding, dialect, tupleize_cols, error_bad_lines, warn_bad_lines, skipfooter, skip_footer, doublequote, delim_whitespace, as_recarray, compact_ints, use_unsigned, low_memory, buffer_lines, memory_map, float_precision)\u001b[0m\n\u001b[0;32m    707\u001b[0m                     skip_blank_lines=skip_blank_lines)\n\u001b[0;32m    708\u001b[0m \u001b[1;33m\u001b[0m\u001b[0m\n\u001b[1;32m--> 709\u001b[1;33m         \u001b[1;32mreturn\u001b[0m \u001b[0m_read\u001b[0m\u001b[1;33m(\u001b[0m\u001b[0mfilepath_or_buffer\u001b[0m\u001b[1;33m,\u001b[0m \u001b[0mkwds\u001b[0m\u001b[1;33m)\u001b[0m\u001b[1;33m\u001b[0m\u001b[0m\n\u001b[0m\u001b[0;32m    710\u001b[0m \u001b[1;33m\u001b[0m\u001b[0m\n\u001b[0;32m    711\u001b[0m     \u001b[0mparser_f\u001b[0m\u001b[1;33m.\u001b[0m\u001b[0m__name__\u001b[0m \u001b[1;33m=\u001b[0m \u001b[0mname\u001b[0m\u001b[1;33m\u001b[0m\u001b[0m\n",
      "\u001b[1;32mF:\\Python_All\\Anaconda3-5.1.0\\lib\\site-packages\\pandas\\io\\parsers.py\u001b[0m in \u001b[0;36m_read\u001b[1;34m(filepath_or_buffer, kwds)\u001b[0m\n\u001b[0;32m    447\u001b[0m \u001b[1;33m\u001b[0m\u001b[0m\n\u001b[0;32m    448\u001b[0m     \u001b[1;31m# Create the parser.\u001b[0m\u001b[1;33m\u001b[0m\u001b[1;33m\u001b[0m\u001b[0m\n\u001b[1;32m--> 449\u001b[1;33m     \u001b[0mparser\u001b[0m \u001b[1;33m=\u001b[0m \u001b[0mTextFileReader\u001b[0m\u001b[1;33m(\u001b[0m\u001b[0mfilepath_or_buffer\u001b[0m\u001b[1;33m,\u001b[0m \u001b[1;33m**\u001b[0m\u001b[0mkwds\u001b[0m\u001b[1;33m)\u001b[0m\u001b[1;33m\u001b[0m\u001b[0m\n\u001b[0m\u001b[0;32m    450\u001b[0m \u001b[1;33m\u001b[0m\u001b[0m\n\u001b[0;32m    451\u001b[0m     \u001b[1;32mif\u001b[0m \u001b[0mchunksize\u001b[0m \u001b[1;32mor\u001b[0m \u001b[0miterator\u001b[0m\u001b[1;33m:\u001b[0m\u001b[1;33m\u001b[0m\u001b[0m\n",
      "\u001b[1;32mF:\\Python_All\\Anaconda3-5.1.0\\lib\\site-packages\\pandas\\io\\parsers.py\u001b[0m in \u001b[0;36m__init__\u001b[1;34m(self, f, engine, **kwds)\u001b[0m\n\u001b[0;32m    816\u001b[0m             \u001b[0mself\u001b[0m\u001b[1;33m.\u001b[0m\u001b[0moptions\u001b[0m\u001b[1;33m[\u001b[0m\u001b[1;34m'has_index_names'\u001b[0m\u001b[1;33m]\u001b[0m \u001b[1;33m=\u001b[0m \u001b[0mkwds\u001b[0m\u001b[1;33m[\u001b[0m\u001b[1;34m'has_index_names'\u001b[0m\u001b[1;33m]\u001b[0m\u001b[1;33m\u001b[0m\u001b[0m\n\u001b[0;32m    817\u001b[0m \u001b[1;33m\u001b[0m\u001b[0m\n\u001b[1;32m--> 818\u001b[1;33m         \u001b[0mself\u001b[0m\u001b[1;33m.\u001b[0m\u001b[0m_make_engine\u001b[0m\u001b[1;33m(\u001b[0m\u001b[0mself\u001b[0m\u001b[1;33m.\u001b[0m\u001b[0mengine\u001b[0m\u001b[1;33m)\u001b[0m\u001b[1;33m\u001b[0m\u001b[0m\n\u001b[0m\u001b[0;32m    819\u001b[0m \u001b[1;33m\u001b[0m\u001b[0m\n\u001b[0;32m    820\u001b[0m     \u001b[1;32mdef\u001b[0m \u001b[0mclose\u001b[0m\u001b[1;33m(\u001b[0m\u001b[0mself\u001b[0m\u001b[1;33m)\u001b[0m\u001b[1;33m:\u001b[0m\u001b[1;33m\u001b[0m\u001b[0m\n",
      "\u001b[1;32mF:\\Python_All\\Anaconda3-5.1.0\\lib\\site-packages\\pandas\\io\\parsers.py\u001b[0m in \u001b[0;36m_make_engine\u001b[1;34m(self, engine)\u001b[0m\n\u001b[0;32m   1047\u001b[0m     \u001b[1;32mdef\u001b[0m \u001b[0m_make_engine\u001b[0m\u001b[1;33m(\u001b[0m\u001b[0mself\u001b[0m\u001b[1;33m,\u001b[0m \u001b[0mengine\u001b[0m\u001b[1;33m=\u001b[0m\u001b[1;34m'c'\u001b[0m\u001b[1;33m)\u001b[0m\u001b[1;33m:\u001b[0m\u001b[1;33m\u001b[0m\u001b[0m\n\u001b[0;32m   1048\u001b[0m         \u001b[1;32mif\u001b[0m \u001b[0mengine\u001b[0m \u001b[1;33m==\u001b[0m \u001b[1;34m'c'\u001b[0m\u001b[1;33m:\u001b[0m\u001b[1;33m\u001b[0m\u001b[0m\n\u001b[1;32m-> 1049\u001b[1;33m             \u001b[0mself\u001b[0m\u001b[1;33m.\u001b[0m\u001b[0m_engine\u001b[0m \u001b[1;33m=\u001b[0m \u001b[0mCParserWrapper\u001b[0m\u001b[1;33m(\u001b[0m\u001b[0mself\u001b[0m\u001b[1;33m.\u001b[0m\u001b[0mf\u001b[0m\u001b[1;33m,\u001b[0m \u001b[1;33m**\u001b[0m\u001b[0mself\u001b[0m\u001b[1;33m.\u001b[0m\u001b[0moptions\u001b[0m\u001b[1;33m)\u001b[0m\u001b[1;33m\u001b[0m\u001b[0m\n\u001b[0m\u001b[0;32m   1050\u001b[0m         \u001b[1;32melse\u001b[0m\u001b[1;33m:\u001b[0m\u001b[1;33m\u001b[0m\u001b[0m\n\u001b[0;32m   1051\u001b[0m             \u001b[1;32mif\u001b[0m \u001b[0mengine\u001b[0m \u001b[1;33m==\u001b[0m \u001b[1;34m'python'\u001b[0m\u001b[1;33m:\u001b[0m\u001b[1;33m\u001b[0m\u001b[0m\n",
      "\u001b[1;32mF:\\Python_All\\Anaconda3-5.1.0\\lib\\site-packages\\pandas\\io\\parsers.py\u001b[0m in \u001b[0;36m__init__\u001b[1;34m(self, src, **kwds)\u001b[0m\n\u001b[0;32m   1693\u001b[0m         \u001b[0mkwds\u001b[0m\u001b[1;33m[\u001b[0m\u001b[1;34m'allow_leading_cols'\u001b[0m\u001b[1;33m]\u001b[0m \u001b[1;33m=\u001b[0m \u001b[0mself\u001b[0m\u001b[1;33m.\u001b[0m\u001b[0mindex_col\u001b[0m \u001b[1;32mis\u001b[0m \u001b[1;32mnot\u001b[0m \u001b[1;32mFalse\u001b[0m\u001b[1;33m\u001b[0m\u001b[0m\n\u001b[0;32m   1694\u001b[0m \u001b[1;33m\u001b[0m\u001b[0m\n\u001b[1;32m-> 1695\u001b[1;33m         \u001b[0mself\u001b[0m\u001b[1;33m.\u001b[0m\u001b[0m_reader\u001b[0m \u001b[1;33m=\u001b[0m \u001b[0mparsers\u001b[0m\u001b[1;33m.\u001b[0m\u001b[0mTextReader\u001b[0m\u001b[1;33m(\u001b[0m\u001b[0msrc\u001b[0m\u001b[1;33m,\u001b[0m \u001b[1;33m**\u001b[0m\u001b[0mkwds\u001b[0m\u001b[1;33m)\u001b[0m\u001b[1;33m\u001b[0m\u001b[0m\n\u001b[0m\u001b[0;32m   1696\u001b[0m \u001b[1;33m\u001b[0m\u001b[0m\n\u001b[0;32m   1697\u001b[0m         \u001b[1;31m# XXX\u001b[0m\u001b[1;33m\u001b[0m\u001b[1;33m\u001b[0m\u001b[0m\n",
      "\u001b[1;32mpandas/_libs/parsers.pyx\u001b[0m in \u001b[0;36mpandas._libs.parsers.TextReader.__cinit__\u001b[1;34m()\u001b[0m\n",
      "\u001b[1;32mpandas/_libs/parsers.pyx\u001b[0m in \u001b[0;36mpandas._libs.parsers.TextReader._setup_parser_source\u001b[1;34m()\u001b[0m\n",
      "\u001b[1;31mFileNotFoundError\u001b[0m: File b'C:\\\\Users\\\\nswwdwy_yu\\\\Desktop\\\\pandas_datas\\\\meal_order_info.csv' does not exist"
     ]
    }
   ],
   "source": [
    "import numpy as np\n",
    "import pandas as pd\n",
    "\n",
    "order_one = pd.read_csv(r'C:\\Users\\nswwdwy_yu\\Desktop\\pandas_datas\\meal_order_info.csv',sep=',',encoding='gbk')\n",
    "def min_max_scale(data):\n",
    "    data = ((data - data.min())/(data.max() - data.min()))\n",
    "    return data\n",
    "min_max_scale(detail_sec['amounts'])"
   ]
  },
  {
   "cell_type": "markdown",
   "metadata": {},
   "source": [
    "# 新内容"
   ]
  },
  {
   "cell_type": "code",
   "execution_count": 20,
   "metadata": {
    "ExecuteTime": {
     "end_time": "2019-07-28T03:43:48.879024Z",
     "start_time": "2019-07-28T03:43:48.724921Z"
    }
   },
   "outputs": [
    {
     "data": {
      "image/png": "[encoded data removed]",
      "text/plain": [
       "<matplotlib.figure.Figure at 0x19f1913a390>"
      ]
     },
     "metadata": {
      "needs_background": "light"
     },
     "output_type": "display_data"
    }
   ],
   "source": [
    "#绘制箱线图\n",
    "import matplotlib.pyplot as plt\n",
    "plt.figure(figsize=(8,6))\n",
    "p=plt.boxplot(detail_one['counts'].values)\n",
    "plt.show()"
   ]
  },
  {
   "cell_type": "code",
   "execution_count": null,
   "metadata": {},
   "outputs": [],
   "source": []
  },
  {
   "cell_type": "code",
   "execution_count": null,
   "metadata": {},
   "outputs": [],
   "source": []
  },
  {
   "cell_type": "markdown",
   "metadata": {},
   "source": [
    "### 3.小数定位标准差"
   ]
  },
  {
   "cell_type": "code",
   "execution_count": null,
   "metadata": {},
   "outputs": [],
   "source": [
    "def decimal_scale(data):\n",
    "    data=data/10**np.ceil(np.log10(data.abs().max()))\n",
    "    return data\n",
    "detail_scale(detail_sec['amounts'])"
   ]
  },
  {
   "cell_type": "markdown",
   "metadata": {},
   "source": [
    "### 4.转换数据"
   ]
  },
  {
   "cell_type": "markdown",
   "metadata": {},
   "source": [
    "##### 划分区间方法1  等宽法"
   ]
  },
  {
   "cell_type": "code",
   "execution_count": 21,
   "metadata": {
    "ExecuteTime": {
     "end_time": "2019-07-28T03:47:47.164192Z",
     "start_time": "2019-07-28T03:47:47.147180Z"
    }
   },
   "outputs": [
    {
     "ename": "NameError",
     "evalue": "name 'detail_sec' is not defined",
     "output_type": "error",
     "traceback": [
      "\u001b[1;31m---------------------------------------------------------------------------\u001b[0m",
      "\u001b[1;31mNameError\u001b[0m                                 Traceback (most recent call last)",
      "\u001b[1;32m<ipython-input-21-9409966add6a>\u001b[0m in \u001b[0;36m<module>\u001b[1;34m()\u001b[0m\n\u001b[1;32m----> 1\u001b[1;33m \u001b[0mprice\u001b[0m \u001b[1;33m=\u001b[0m \u001b[0mpd\u001b[0m\u001b[1;33m.\u001b[0m\u001b[0mcut\u001b[0m\u001b[1;33m(\u001b[0m\u001b[0mdetail_sec\u001b[0m\u001b[1;33m[\u001b[0m\u001b[1;34m'amounts'\u001b[0m\u001b[1;33m]\u001b[0m\u001b[1;33m,\u001b[0m\u001b[1;36m5\u001b[0m\u001b[1;33m)\u001b[0m\u001b[1;33m\u001b[0m\u001b[0m\n\u001b[0m\u001b[0;32m      2\u001b[0m \u001b[0mprint\u001b[0m\u001b[1;33m(\u001b[0m\u001b[0mprice\u001b[0m\u001b[1;33m.\u001b[0m\u001b[0mvalue_counts\u001b[0m\u001b[1;33m(\u001b[0m\u001b[1;33m)\u001b[0m\u001b[1;33m)\u001b[0m\u001b[1;33m\u001b[0m\u001b[0m\n",
      "\u001b[1;31mNameError\u001b[0m: name 'detail_sec' is not defined"
     ]
    }
   ],
   "source": [
    "\n",
    "price = pd.cut(detail_sec['amounts'],5)\n",
    "print(price.value_counts())"
   ]
  },
  {
   "cell_type": "code",
   "execution_count": 1,
   "metadata": {
    "ExecuteTime": {
     "end_time": "2019-07-29T01:09:47.175033Z",
     "start_time": "2019-07-29T01:09:46.900851Z"
    }
   },
   "outputs": [
    {
     "ename": "NameError",
     "evalue": "name 'detail_sec' is not defined",
     "output_type": "error",
     "traceback": [
      "\u001b[1;31m---------------------------------------------------------------------------\u001b[0m",
      "\u001b[1;31mNameError\u001b[0m                                 Traceback (most recent call last)",
      "\u001b[1;32m<ipython-input-1-9506d0d0d09e>\u001b[0m in \u001b[0;36m<module>\u001b[1;34m()\u001b[0m\n\u001b[0;32m      4\u001b[0m     \u001b[1;32mreturn\u001b[0m \u001b[0mdata\u001b[0m\u001b[1;33m\u001b[0m\u001b[0m\n\u001b[0;32m      5\u001b[0m \u001b[1;33m\u001b[0m\u001b[0m\n\u001b[1;32m----> 6\u001b[1;33m \u001b[0mresult\u001b[0m \u001b[1;33m=\u001b[0m \u001b[0mdp_cut\u001b[0m\u001b[1;33m(\u001b[0m\u001b[0mdetail_sec\u001b[0m\u001b[1;33m[\u001b[0m\u001b[1;34m'amounts'\u001b[0m\u001b[1;33m]\u001b[0m\u001b[1;33m,\u001b[0m\u001b[1;36m5\u001b[0m\u001b[1;33m)\u001b[0m\u001b[1;33m.\u001b[0m\u001b[0mvalue_counts\u001b[0m\u001b[1;33m(\u001b[0m\u001b[1;33m)\u001b[0m\u001b[1;33m\u001b[0m\u001b[0m\n\u001b[0m\u001b[0;32m      7\u001b[0m \u001b[0mprint\u001b[0m\u001b[1;33m(\u001b[0m\u001b[0mresult\u001b[0m\u001b[1;33m)\u001b[0m\u001b[1;33m\u001b[0m\u001b[0m\n",
      "\u001b[1;31mNameError\u001b[0m: name 'detail_sec' is not defined"
     ]
    }
   ],
   "source": [
    "def dp_cut(data,k):\n",
    "    w = data.quantile(np.arange(0,1+1.0/k,1.0/k))\n",
    "    data = pd.cut(data,w)\n",
    "    return data\n",
    "\n",
    "result = dp_cut(detail_sec['amounts'],5).value_counts()\n",
    "print(result)"
   ]
  }
 ],
 "metadata": {
  "kernelspec": {
   "display_name": "Python 3",
   "language": "python",
   "name": "python3"
  },
  "language_info": {
   "codemirror_mode": {
    "name": "ipython",
    "version": 3
   },
   "file_extension": ".py",
   "mimetype": "text/x-python",
   "name": "python",
   "nbconvert_exporter": "python",
   "pygments_lexer": "ipython3",
   "version": "3.6.4"
  }
 },
 "nbformat": 4,
 "nbformat_minor": 2
}
